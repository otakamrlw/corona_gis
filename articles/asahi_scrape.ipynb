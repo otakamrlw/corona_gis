{
 "cells": [
  {
   "cell_type": "code",
   "execution_count": 1,
   "metadata": {},
   "outputs": [],
   "source": [
    "from selenium import webdriver\n",
    "from selenium.webdriver.firefox.options import Options\n",
    "from bs4 import BeautifulSoup\n",
    "import numpy as np\n",
    "import pandas as pd\n",
    "import time\n",
    "import sys\n",
    "import requests as re"
   ]
  },
  {
   "cell_type": "code",
   "execution_count": null,
   "metadata": {},
   "outputs": [],
   "source": [
    "# options = Options()\n",
    "# options.set_headless()\n",
    "# #Firefoxを操作\n",
    "# driver = webdriver.Firefox(options=options, executable_path=\"/Users/takayuki/Library/Application Support/WebDriverManager/gecko/v0.26.0/geckodriver-v0.26.0-macos/geckodriver\")\n",
    "# username = \"takayukiota0905@gmail.com\"\n",
    "# password = \"pr1657085\""
   ]
  },
  {
   "cell_type": "code",
   "execution_count": null,
   "metadata": {},
   "outputs": [],
   "source": [
    "# Login Page\n",
    "# driver.get('https://r.nikkei.com/login')\n",
    "# time.sleep(2)\n",
    "# driver.save_screenshot(\"ss1.png\")"
   ]
  },
  {
   "cell_type": "code",
   "execution_count": null,
   "metadata": {},
   "outputs": [],
   "source": [
    "# login_username = driver.find_element_by_id(\"LA7010Form01:LA7010Email\")\n",
    "# login_username.clear()\n",
    "# login_username.send_keys(username) \n",
    "# login_password = driver.find_element_by_id(\"LA7010Form01:LA7010Password\")\n",
    "# login_password.clear()\n",
    "# login_password.send_keys(password)\n",
    "# driver.find_element_by_class_name('btnM1').click()  # Login button click \n",
    "# time.sleep(2)\n",
    "# driver.save_screenshot(\"ss2.png\")"
   ]
  },
  {
   "cell_type": "code",
   "execution_count": 2,
   "metadata": {},
   "outputs": [],
   "source": [
    "# Search word (ex. 院内感染, 200 articles)\n",
    "target_url=re.get('https://sitesearch.asahi.com/.cgi/sitesearch/sitesearch.pl?Keywords=院内感染&Searchsubmit2=検索&Searchsubmit=検索&iref=pc_gnavi')\n",
    "\n",
    "# driver.get(target_url)\n",
    "time.sleep(2)\n",
    "# html = driver.page_source"
   ]
  },
  {
   "cell_type": "code",
   "execution_count": null,
   "metadata": {},
   "outputs": [],
   "source": [
    "# Articles count\n",
    "# sel0 = soup.find_all(\"p\",attrs={\"class\":\"search__result-count\"})\n",
    "# for i in sel0:\n",
    "#     count= int(i.text)\n",
    "# print (count)"
   ]
  },
  {
   "cell_type": "code",
   "execution_count": 4,
   "metadata": {},
   "outputs": [
    {
     "ename": "NameError",
     "evalue": "name 'soup' is not defined",
     "output_type": "error",
     "traceback": [
      "\u001b[0;31m---------------------------------------------------------------------------\u001b[0m",
      "\u001b[0;31mNameError\u001b[0m                                 Traceback (most recent call last)",
      "\u001b[0;32m<ipython-input-4-43a1b13c3a60>\u001b[0m in \u001b[0;36m<module>\u001b[0;34m\u001b[0m\n\u001b[1;32m      1\u001b[0m \u001b[0;31m# span = soup.find(\"span\", id=\"SearchResult_Headline\" )\u001b[0m\u001b[0;34m\u001b[0m\u001b[0;34m\u001b[0m\u001b[0;34m\u001b[0m\u001b[0m\n\u001b[0;32m----> 2\u001b[0;31m \u001b[0msel0\u001b[0m \u001b[0;34m=\u001b[0m \u001b[0msoup\u001b[0m\u001b[0;34m.\u001b[0m\u001b[0mfind\u001b[0m\u001b[0;34m(\u001b[0m\u001b[0;34m\"span\"\u001b[0m\u001b[0;34m,\u001b[0m \u001b[0mattrs\u001b[0m\u001b[0;34m=\u001b[0m\u001b[0;34m{\u001b[0m\u001b[0;34m\"class\"\u001b[0m\u001b[0;34m:\u001b[0m\u001b[0;34m\"SearchResult_Headline\"\u001b[0m\u001b[0;34m}\u001b[0m\u001b[0;34m)\u001b[0m\u001b[0;34m\u001b[0m\u001b[0;34m\u001b[0m\u001b[0m\n\u001b[0m\u001b[1;32m      3\u001b[0m \u001b[0;31m# Article's title\u001b[0m\u001b[0;34m\u001b[0m\u001b[0;34m\u001b[0m\u001b[0;34m\u001b[0m\u001b[0m\n\u001b[1;32m      4\u001b[0m \u001b[0;31m# class with \"digital\" or \"shimbun\"\u001b[0m\u001b[0;34m\u001b[0m\u001b[0;34m\u001b[0m\u001b[0;34m\u001b[0m\u001b[0m\n\u001b[1;32m      5\u001b[0m \u001b[0msel1\u001b[0m \u001b[0;34m=\u001b[0m \u001b[0msoup\u001b[0m\u001b[0;34m.\u001b[0m\u001b[0mfind_all\u001b[0m\u001b[0;34m(\u001b[0m\u001b[0;32mTrue\u001b[0m\u001b[0;34m,\u001b[0m \u001b[0mattrs\u001b[0m\u001b[0;34m=\u001b[0m\u001b[0;34m{\u001b[0m\u001b[0;34m\"class\"\u001b[0m\u001b[0;34m:\u001b[0m\u001b[0;34m[\u001b[0m\u001b[0;34m\"digital\"\u001b[0m\u001b[0;34m,\u001b[0m \u001b[0;34m\"shimbun\"\u001b[0m\u001b[0;34m]\u001b[0m\u001b[0;34m}\u001b[0m\u001b[0;34m)\u001b[0m\u001b[0;34m\u001b[0m\u001b[0;34m\u001b[0m\u001b[0m\n",
      "\u001b[0;31mNameError\u001b[0m: name 'soup' is not defined"
     ]
    }
   ],
   "source": [
    "# span = soup.find(\"span\", id=\"SearchResult_Headline\" )\n",
    "# sel0 = soup.find(\"span\", attrs={\"class\":\"SearchResult_Headline\"})\n",
    "# # Article's title\n",
    "# # class with \"digital\" or \"shimbun\"\n",
    "# sel1 = soup.find_all(True, attrs={\"class\":[\"digital\", \"shimbun\"]})\n",
    "# # Article datetime\n",
    "# sel2 = soup.find_all(\"span\",attrs={\"class\":\"Date\"})\n",
    "# print(sel0.text)"
   ]
  },
  {
   "cell_type": "code",
   "execution_count": 6,
   "metadata": {},
   "outputs": [
    {
     "ename": "NameError",
     "evalue": "name 'out_title' is not defined",
     "output_type": "error",
     "traceback": [
      "\u001b[0;31m---------------------------------------------------------------------------\u001b[0m",
      "\u001b[0;31mNameError\u001b[0m                                 Traceback (most recent call last)",
      "\u001b[0;32m<ipython-input-6-ce7b98b884ac>\u001b[0m in \u001b[0;36m<module>\u001b[0;34m\u001b[0m\n\u001b[1;32m      7\u001b[0m     \u001b[0mout_datetime\u001b[0m \u001b[0;34m=\u001b[0m \u001b[0mi\u001b[0m\u001b[0;34m.\u001b[0m\u001b[0mfind_all\u001b[0m\u001b[0;34m(\u001b[0m\u001b[0;34m\"span\"\u001b[0m\u001b[0;34m,\u001b[0m \u001b[0mattrs\u001b[0m\u001b[0;34m=\u001b[0m\u001b[0;34m{\u001b[0m\u001b[0;34m\"class\"\u001b[0m\u001b[0;34m:\u001b[0m\u001b[0;34m\"Date\"\u001b[0m\u001b[0;34m}\u001b[0m\u001b[0;34m)\u001b[0m\u001b[0;34m\u001b[0m\u001b[0;34m\u001b[0m\u001b[0m\n\u001b[1;32m      8\u001b[0m \u001b[0;34m\u001b[0m\u001b[0m\n\u001b[0;32m----> 9\u001b[0;31m     \u001b[0mout_title\u001b[0m\u001b[0;34m.\u001b[0m\u001b[0mappend\u001b[0m\u001b[0;34m(\u001b[0m\u001b[0mout_title_temp\u001b[0m\u001b[0;34m)\u001b[0m\u001b[0;34m\u001b[0m\u001b[0;34m\u001b[0m\u001b[0m\n\u001b[0m\u001b[1;32m     10\u001b[0m     \u001b[0mout_url\u001b[0m\u001b[0;34m.\u001b[0m\u001b[0mappend\u001b[0m\u001b[0;34m(\u001b[0m\u001b[0mout_url_temp\u001b[0m\u001b[0;34m)\u001b[0m\u001b[0;34m\u001b[0m\u001b[0;34m\u001b[0m\u001b[0m\n",
      "\u001b[0;31mNameError\u001b[0m: name 'out_title' is not defined"
     ]
    }
   ],
   "source": []
  },
  {
   "cell_type": "code",
   "execution_count": 7,
   "metadata": {},
   "outputs": [],
   "source": [
    "# CSV file output\n",
    "out_number = []\n",
    "out_url = []\n",
    "out_title = []\n",
    "out_datetime = []\n",
    "\n",
    "# if len(sel1) != len(sel2):\n",
    "#     sys.exit()"
   ]
  },
  {
   "cell_type": "code",
   "execution_count": 8,
   "metadata": {},
   "outputs": [],
   "source": [
    "soup = BeautifulSoup(target_url.content, \"html.parser\")\n",
    "elem = soup.find_all(True, attrs={\"class\":[\"digital\", \"shimbun\"]})\n",
    "for i in elem:\n",
    "    link = i.find('a')\n",
    "    out_title_temp = link.text.strip()\n",
    "    out_url_temp = link['href']\n",
    "    out_datetime = i.find_all(\"span\", attrs={\"class\":\"Date\"})\n",
    "    \n",
    "    out_title.append(out_title_temp)\n",
    "    out_url.append(out_url_temp)"
   ]
  },
  {
   "cell_type": "code",
   "execution_count": null,
   "metadata": {},
   "outputs": [],
   "source": [
    "# for i in range(0, len(sel1)):\n",
    "#     cnt = str(i+1)\n",
    "#     out_url_temp = sel1[i].a.get(\"href\")\n",
    "#     out_title_temp = sel1[i].text.strip()\n",
    "#     out_number.append(cnt)\n",
    "#     out_url.append(out_url_temp)\n",
    "#     out_title.append(out_title_temp)\n",
    "#     out_datetime.append(sel2[i].find('Date'))    "
   ]
  },
  {
   "cell_type": "code",
   "execution_count": 9,
   "metadata": {},
   "outputs": [
    {
     "name": "stdout",
     "output_type": "stream",
     "text": [
      "['「患者受け入れ準備、１月から」\\u3000和歌山・有田市立病院(2020/07/02)\\u30002月に済生会有田病院（和歌山県湯浅町）で新型コロナウイルスの院内感染が発生し、3月初めまで外来診療や救急の受け入れを停止するなか、陽性患者の受け入れと地域医療を担ったのは有田市立病院だった。同病院では感染に備え、1月から準備を進めていた。同病院感染制御室看護課長で対応にあたってきた吉田俊晴看護師（感染管理認定看護師）が振り返った。\\u30002月16日夕、県から有田市立病院に1本の連絡が入った。「新型コロナウイルスの陽性患者の入院を受け入れてほしい」', '院長「対処、甘い状況あった」\\u3000２１４人感染・４３人死亡、永寿総合病院\\u3000新型コロナ(2020/07/02)\\u3000新型コロナウイルスの大規模な院内感染が起きた永寿総合病院（東京都台東区）の湯浅祐二院長が１日、千代田区の日本記者クラブで記者会見した。感染発覚から３カ月余り。公の場で初めて、入院患者４３人が死亡したことについて「他の病院に比べて新型コロナへの対処が甘い状況があった」と述べ、謝罪した。\\u3000同病院では、３月２３日に同じ病棟の入院患者２人の感染が発覚。これまでに入院患者やその家族ら１３１人と、看護師ら職員８３人の計２１４人が感染した', '「恐怖に泣きながら防護服」\\u3000永寿総合の看護師が手記(2020/07/01)\\u3000新型コロナウイルスの大規模な院内感染が起きた永寿総合病院が１日、病院に勤務する看護師の手記を公表した。\\u3000自身は感染を免れたが、入院患者が次々と感染し、亡くなっていったことへの無念な思いをつづっている。全文は次の通り（一部、送り仮名などを補っています）。\\u3000患者さん109名、職員83名もの感染者を出し、原疾患で闘病中の患者さん43名が亡くなられました。亡くなられた患者さんのお荷物から、これまでの生活や大切になさっていたもの、ご家族の思いなどが感じ取られ、私たち職員だけが見送る中での旅立ちになってしまったことを、ご本人はもちろん、ご家族の皆様にもお詫（わ）びしながら手を合わせる日々でした', '死覚悟、妻に「子ども頼む」\\u3000永寿総合病院の感染医師(2020/07/01)\\u3000新型コロナウイルスの国内最大規模の院内感染が起きた永寿総合病院が1日、職員や医師計3人の手記を公表した。院内感染を招いたことへの医療従事者としての自責の念、未知のウイルスへの恐怖――。率直な思いが記されている。全文は次の通り（一部、送り仮名などを補っています）。■内科医\\u3000私は永寿総合病院に医師として勤務しております。勤務中にコロナウイルス感染症に罹患（りかん）しましたが、入院治療にて回復し業務を再開しております', '発見遅れた最初の感染\\u3000永寿総合病院の院長「甘かった」(2020/07/01)\\u3000新型コロナウイルスの大規模な院内感染が起きた永寿総合病院（東京都台東区）の湯浅祐二院長が1日、千代田区の日本記者クラブで記者会見した。感染発覚から3カ月余り。公の場で初めて、入院患者43人が死亡したことについて「他の病院に比べて新型コロナへの対処が甘い状況があった」と述べ、謝罪した。\\u3000同病院では、3月23日に同じ病棟の入院患者2人の感染が発覚。これまでに入院患者やその家族ら131人と、看護師ら職員83人の計214人が感染した', '新潟市、コロナ対応を冊子に\\u3000市長評価「院内感染なし」(2020/07/01)\\u3000新潟市が、新型コロナウイルスへの同市の対応を冊子にまとめた。第2波への対応にいかすのが目的。30日に記者会見した中原八一市長は、ここまでの市内の状況を「特筆すべきは院内感染がなく、死者がゼロだったこと」と評価した。\\u3000冊子はPCR検査の態勢、学校、特別定額給付金の支給などの対応や課題をまとめた。市のホームページでも公表する。中原市長は会見で、市内の感染が全国的にみて小規模で収まったとし、ドライブス', '（新型コロナ）猛暑の熱中症、どう備える\\u3000「感染疑い」、搬送遅れるおそれ(2020/07/01)高体温は熱中症の症状そのもので、肺の病気を持つ人が熱中症になる場合もある。「熱中症で救急車の要請があれば、現状では全て新型コロナを疑って対処しないといけない」という。\\u3000■受け入れ難航８割増\\u3000感染拡大期\\u3000感染が疑われる救急患者は院内感染につながる恐れがあり、受け入れに消極的な病院は少なくない。実際に３月下旬からの新型コロナ感染拡大期には、救急患者の搬送が困難だったケースが急増した。\\u3000４月に「特定警戒都道府県」に指定された道府県庁所在地の１２消防本部と東京消防庁に朝日新聞が取材したところ、「受け入れを３カ所以上の病院に断られ、かつ受け入れ先が決まるまで３０分以上かかった」ケースは、３月末から約２カ月で１万１７４５件', '浮かぶ患者トイレ説\\u3000国内初の院内感染、封じ込めた病院(2020/06/30)\\u3000新型コロナウイルスの国内初の院内感染が起きた和歌山県湯浅町の済生会有田病院。医師2人、患者3人の感染発覚後、どのようにしてクラスター（感染者集団）の連鎖を止め、封じ込めに成功したのか。関係者が振り返る。\\u3000病院が異変に気づいたのは、2月初めだった。2人の外科医師が相次いで体調不良を訴えた。CT検査で肺炎像がみられ、新型コロナウイルスへの感染が疑われた。医師に聞き取りをするとともに、看護師や清掃業者', '（新型コロナ）院内感染、どう封じ込めた？\\u3000国内初の発生、済生会有田病院(2020/06/30)\\u3000新型コロナウイルスの国内初の院内感染が起きた和歌山県湯浅町の済生会有田病院。医師２人、患者３人の感染発覚後、どのようにしてクラスター（感染者集団）の連鎖を止め、封じ込めに成功したのか。関係者が振り返る。\\u3000■全員検査・柔軟な行政・患者の早期隔離\\u3000病院が異変に気づいたのは、２月初めだった。２人の外科医師が相次いで体調不良を訴えた。ＣＴ検査で肺炎像がみられ、新型コロナウイルスへの感染が疑われた。医師に', '（耕論）知事に、地方に、存在感\\u3000新型コロナ\\u3000仁坂吉伸さん、松本創さん、牧原出さん(2020/06/30)「地方の時代」の結実なのか。それとも新たなポピュリズムの表れなのか。国と地方の関係は変わったのだろうか。\\u3000■国が何言おうと、自ら判断\\u3000仁坂吉伸さん（和歌山県知事）\\u3000和歌山県では、２月半ばに湯浅町の済生会有田病院で院内感染が明らかになりました。医療機関での集団感染は国内で初めてでしたから、難しい対応を迫られました。\\u3000まず同じ階の患者さん、医師、看護師などのＰＣＲ検査を優先して行い、順次、他の病棟や出入り業者など、範囲を広げていきました', '（新型コロナ）感染妊婦への対応、多くが「転院」「帝王切開」\\u3000日産婦が方針調査(2020/06/29)\\u3000日産婦は医療機関に対し、ＰＣＲ検査で陽性だった妊婦には帝王切開を検討するよう呼びかけている。分娩の際は呼吸が激しくなって声が出るなどし、飛沫（ひまつ）が飛びやすくなるため、出産時間を短くして医療従事者の感染リスクなどを下げる目的がある。\\u3000医療現場では院内感染を防ぐため、分娩前の妊婦を対象にＰＣＲ検査をする動きも広がっている。ただ、感染していないのに陽性と判定される「偽陽性」の場合でも、今回のアンケート結果からは、帝王切開や転院などの対応をとられる可能性があるとみられる', 'コロナ感染、SNSで広がった差別\\u3000そしてデマが残った(2020/06/27)男性が地元の店に立ち寄ると、来店してほしくないと遠回しに言われた。\\u3000濃厚接触者となるほかの家族は陰性だったが、恐怖でしばらく外出できなくなった。食料や生活用品などは親族に届けてもらっていたという。\\u3000男性は「もし、院内感染が起きて死者でも出たら、この街にいられなくなっただろう。最悪のケースも想定した」。事実を説明したとしても、信じてもらえるかはわからず、「ただ黙ってやり過ごすしかなかった」と唇をかむ。\\u3000SNSでは中傷する人はいなくなったが、地域では緊急事態宣言が解除されて商店などに客が戻ってくるにつれ、うわさ話や誹謗中傷が再燃しているという', '新潟）対策の拠点病院を見た\\u3000新型コロナ、現場は(2020/06/27)塚田芳久院長は感染が拡大し始めた頃、在庫が尽きそうになり「はらはらどきどきしながら調達していた」と振り返り、「好きなだけ防護服を使い、自由にマスクや手袋を使える態勢が安心と安全につながる」と話す。\\u3000感染を心配しながら働く医療従事者のストレスも大きい。「普通の病棟より緊張するので疲労は出ている。これからも続いていくというのがつらいところ」と田辺さんはいう。当初は海外の院内感染などの情報が先行し、院内で不安も広がったという。「正確な情報をしっかり入手し、かみ砕いてスタッフに広げなければならない。過度に力みすぎず、緩みすぎずやるのが一番と思う」と田辺さんは話す。新潟大が医療関係者向けに心のケアのマニュアルを作るなどの対応も始まっている', '（新型コロナ）学生支援、ネット寄付に期待\\u3000各地の大学「すぐに使えるお金」(2020/06/27)米国では１日あたりの感染者数がピーク時を超す日もあり、「第２波」の恐れも出てきた。アフリカ全体でも感染者が３０万人を超え、医療崩壊が懸念されている。世界保健機関は世界の感染者数が近く１千万人を超えるとの見通しを発表している。\\u3000◆３０日の紙面\\u3000次回は「国内初の院内感染\\u3000その時何が起きたのか」です。', '院内感染で「全員検査」\\u3000済生会有田病院の得た教訓(2020/06/26)\\u3000国内初となる新型コロナウイルスの院内感染が確認された２月中旬、済生会有田病院に全国から注目が集まった。この事態にどう対応したのか。関係者が当時を振り返った。\\u3000済生会有田病院（和歌山県湯浅町）で医師の新型コロナウイルス感染が分かった2月13日。県の対策会議と記者会見が終わった後も、県福祉保健部技監の野尻孝子には仕事が残っていた。同病院に対して、さらなる感染を防ぐための指示をする必要があった。\\u3000県は', '医師のコロナ疑い、続々5人\\u3000「えらいことになった」(2020/06/25)\\u3000国内初となる新型コロナウイルスの院内感染が確認された2月中旬、済生会有田病院に全国から注目が集まった。その後も、各地で院内感染が確認され、今なおその対策は課題となっている。初めて直面する事態にどう対応したのか。関係者が当時を振り返った。\\u30002月13日、和歌山県福祉保健部技監の野尻孝子は、和歌山市内のホテルで会議に出席していた。議題は、公立病院の再編など。午後4時半ごろ、県内の医療機関からメールが届いた', '迫る医療崩壊、怒るアフリカの医師ら\\u3000感染者30万人超(2020/06/25)当初は欧州旅行から帰国した富裕層の感染者が多かったが、6月に入って1日当たりの感染判明者は急増し、20日には5千人近い人の感染者を確認。保健省は「スーパーや工場などで集団感染が発生し、各地に感染者が散らばった」と増加の理由を語る。医師や看護師ら3583人が感染し、34人が死亡。院内感染が発生し、外来患者の受け入れを一時停止した病院も各地で出ている。\\u3000一方、経済的に貧しい地区に医療従事者が出向いて検査を実施するなど、検査数は計140万件近くに上る。致死率も約2%で、多くの欧米諸国や日本と比べて低い', '（新型コロナ）医療のルール、事前に議論を\\u3000ベッド不足、誰を優先するか\\u3000児玉聡・京都大准教授に聞く(2020/06/24)需要が供給を大幅に上回り、供給をすぐに増やせないときには、何らかの配分ルールがなければ混乱が生じます」\\u3000――大勢の生命の危機が差し迫った際、人工呼吸器や集中治療室（ＩＣＵ）のベッドなどが不足するような状況はより深刻です。\\u3000「一部の国では、高齢者よりも現役世代の治療を優先するトリアージを迫られた事例も出ています。院内感染などで医療現場が危機に陥れば、医療機器だけでなくそれを使いこなす人的資源も枯渇し、ルールづくりを話し合う余裕はなくなる。現場の医療従事者に丸投げでは負担が重すぎる。あらかじめ議論を進めておく必要があります」\\u3000――しかし、どの患者を優先的に治療するかという議論は、本人や家族も含めた社会的な合意を得られるものなのでしょうか', '大阪のコロナ死者、4割超が院内感染か 70代以上突出(2020/06/24)\\u3000大阪府は、新型コロナウイルスによる府内の死亡者計86人のうち、約45%の39人が院内感染と推定されるとの分析結果を明らかにした。院内感染した患者計133人の死亡率は約29%で、府内全体の約5%より極めて高かった。\\u3000府内では4月中旬以降、なみはやリハビリテーション病院（大阪市生野区）や第二大阪警察病院（同市天王寺区）などで次々に院内感染が明らかになった。府によると、院内感染は計284人で、内訳は患', '院内感染対策\\u3000担当医師「基本の徹底」を\\u3000和歌山(2020/06/24)\\u3000新型コロナウイルスの感染拡大で課題の一つになったのが、全国各地で確認された院内感染だった。感染症指定医療機関として、25人の患者を受け入れた日本赤十字社和歌山医療センター（和歌山市）では、二重三重の対策により院内感染が発生しなかった。対応にあたった医師は「基本の徹底」を強調する。\\u3000同センターには5人の感染症専門医や、感染管理認定看護師ら専門家から作る感染対策チームがある。新型コロナ対策では、陽性']\n"
     ]
    },
    {
     "ename": "KeyError",
     "evalue": "0",
     "output_type": "error",
     "traceback": [
      "\u001b[0;31m---------------------------------------------------------------------------\u001b[0m",
      "\u001b[0;31mKeyError\u001b[0m                                  Traceback (most recent call last)",
      "\u001b[0;32m<ipython-input-9-a457330463c7>\u001b[0m in \u001b[0;36m<module>\u001b[0;34m\u001b[0m\n\u001b[1;32m      1\u001b[0m \u001b[0mprint\u001b[0m\u001b[0;34m(\u001b[0m\u001b[0mout_title\u001b[0m\u001b[0;34m)\u001b[0m\u001b[0;34m\u001b[0m\u001b[0;34m\u001b[0m\u001b[0m\n\u001b[1;32m      2\u001b[0m \u001b[0;31m# Result output\u001b[0m\u001b[0;34m\u001b[0m\u001b[0;34m\u001b[0m\u001b[0;34m\u001b[0m\u001b[0m\n\u001b[0;32m----> 3\u001b[0;31m \u001b[0mresdata\u001b[0m \u001b[0;34m=\u001b[0m \u001b[0mnp\u001b[0m\u001b[0;34m.\u001b[0m\u001b[0mvstack\u001b[0m\u001b[0;34m(\u001b[0m\u001b[0;34m[\u001b[0m\u001b[0mout_number\u001b[0m\u001b[0;34m,\u001b[0m \u001b[0mout_title\u001b[0m\u001b[0;34m,\u001b[0m \u001b[0mout_datetime\u001b[0m\u001b[0;34m,\u001b[0m \u001b[0mout_url\u001b[0m\u001b[0;34m]\u001b[0m\u001b[0;34m)\u001b[0m\u001b[0;34m\u001b[0m\u001b[0;34m\u001b[0m\u001b[0m\n\u001b[0m\u001b[1;32m      4\u001b[0m \u001b[0mdf\u001b[0m \u001b[0;34m=\u001b[0m \u001b[0mpd\u001b[0m\u001b[0;34m.\u001b[0m\u001b[0mDataFrame\u001b[0m\u001b[0;34m(\u001b[0m\u001b[0mdata\u001b[0m\u001b[0;34m=\u001b[0m\u001b[0mresdata\u001b[0m\u001b[0;34m)\u001b[0m\u001b[0;34m.\u001b[0m\u001b[0mT\u001b[0m\u001b[0;34m\u001b[0m\u001b[0;34m\u001b[0m\u001b[0m\n\u001b[1;32m      5\u001b[0m \u001b[0mdf\u001b[0m\u001b[0;34m.\u001b[0m\u001b[0mto_csv\u001b[0m\u001b[0;34m(\u001b[0m\u001b[0;34m'result_asahi.csv'\u001b[0m\u001b[0;34m,\u001b[0m \u001b[0mheader\u001b[0m\u001b[0;34m=\u001b[0m\u001b[0;32mFalse\u001b[0m\u001b[0;34m,\u001b[0m \u001b[0mindex\u001b[0m\u001b[0;34m=\u001b[0m\u001b[0;32mFalse\u001b[0m\u001b[0;34m,\u001b[0m \u001b[0mmode\u001b[0m\u001b[0;34m=\u001b[0m\u001b[0;34m'a'\u001b[0m\u001b[0;34m)\u001b[0m\u001b[0;34m\u001b[0m\u001b[0;34m\u001b[0m\u001b[0m\n",
      "\u001b[0;32m<__array_function__ internals>\u001b[0m in \u001b[0;36mvstack\u001b[0;34m(*args, **kwargs)\u001b[0m\n",
      "\u001b[0;32m~/miniconda3/lib/python3.7/site-packages/numpy/core/shape_base.py\u001b[0m in \u001b[0;36mvstack\u001b[0;34m(tup)\u001b[0m\n\u001b[1;32m    278\u001b[0m         \u001b[0;31m# raise warning if necessary\u001b[0m\u001b[0;34m\u001b[0m\u001b[0;34m\u001b[0m\u001b[0;34m\u001b[0m\u001b[0m\n\u001b[1;32m    279\u001b[0m         \u001b[0m_arrays_for_stack_dispatcher\u001b[0m\u001b[0;34m(\u001b[0m\u001b[0mtup\u001b[0m\u001b[0;34m,\u001b[0m \u001b[0mstacklevel\u001b[0m\u001b[0;34m=\u001b[0m\u001b[0;36m2\u001b[0m\u001b[0;34m)\u001b[0m\u001b[0;34m\u001b[0m\u001b[0;34m\u001b[0m\u001b[0m\n\u001b[0;32m--> 280\u001b[0;31m     \u001b[0marrs\u001b[0m \u001b[0;34m=\u001b[0m \u001b[0matleast_2d\u001b[0m\u001b[0;34m(\u001b[0m\u001b[0;34m*\u001b[0m\u001b[0mtup\u001b[0m\u001b[0;34m)\u001b[0m\u001b[0;34m\u001b[0m\u001b[0;34m\u001b[0m\u001b[0m\n\u001b[0m\u001b[1;32m    281\u001b[0m     \u001b[0;32mif\u001b[0m \u001b[0;32mnot\u001b[0m \u001b[0misinstance\u001b[0m\u001b[0;34m(\u001b[0m\u001b[0marrs\u001b[0m\u001b[0;34m,\u001b[0m \u001b[0mlist\u001b[0m\u001b[0;34m)\u001b[0m\u001b[0;34m:\u001b[0m\u001b[0;34m\u001b[0m\u001b[0;34m\u001b[0m\u001b[0m\n\u001b[1;32m    282\u001b[0m         \u001b[0marrs\u001b[0m \u001b[0;34m=\u001b[0m \u001b[0;34m[\u001b[0m\u001b[0marrs\u001b[0m\u001b[0;34m]\u001b[0m\u001b[0;34m\u001b[0m\u001b[0;34m\u001b[0m\u001b[0m\n",
      "\u001b[0;32m<__array_function__ internals>\u001b[0m in \u001b[0;36matleast_2d\u001b[0;34m(*args, **kwargs)\u001b[0m\n",
      "\u001b[0;32m~/miniconda3/lib/python3.7/site-packages/numpy/core/shape_base.py\u001b[0m in \u001b[0;36matleast_2d\u001b[0;34m(*arys)\u001b[0m\n\u001b[1;32m    121\u001b[0m     \u001b[0mres\u001b[0m \u001b[0;34m=\u001b[0m \u001b[0;34m[\u001b[0m\u001b[0;34m]\u001b[0m\u001b[0;34m\u001b[0m\u001b[0;34m\u001b[0m\u001b[0m\n\u001b[1;32m    122\u001b[0m     \u001b[0;32mfor\u001b[0m \u001b[0mary\u001b[0m \u001b[0;32min\u001b[0m \u001b[0marys\u001b[0m\u001b[0;34m:\u001b[0m\u001b[0;34m\u001b[0m\u001b[0;34m\u001b[0m\u001b[0m\n\u001b[0;32m--> 123\u001b[0;31m         \u001b[0mary\u001b[0m \u001b[0;34m=\u001b[0m \u001b[0masanyarray\u001b[0m\u001b[0;34m(\u001b[0m\u001b[0mary\u001b[0m\u001b[0;34m)\u001b[0m\u001b[0;34m\u001b[0m\u001b[0;34m\u001b[0m\u001b[0m\n\u001b[0m\u001b[1;32m    124\u001b[0m         \u001b[0;32mif\u001b[0m \u001b[0mary\u001b[0m\u001b[0;34m.\u001b[0m\u001b[0mndim\u001b[0m \u001b[0;34m==\u001b[0m \u001b[0;36m0\u001b[0m\u001b[0;34m:\u001b[0m\u001b[0;34m\u001b[0m\u001b[0;34m\u001b[0m\u001b[0m\n\u001b[1;32m    125\u001b[0m             \u001b[0mresult\u001b[0m \u001b[0;34m=\u001b[0m \u001b[0mary\u001b[0m\u001b[0;34m.\u001b[0m\u001b[0mreshape\u001b[0m\u001b[0;34m(\u001b[0m\u001b[0;36m1\u001b[0m\u001b[0;34m,\u001b[0m \u001b[0;36m1\u001b[0m\u001b[0;34m)\u001b[0m\u001b[0;34m\u001b[0m\u001b[0;34m\u001b[0m\u001b[0m\n",
      "\u001b[0;32m~/miniconda3/lib/python3.7/site-packages/numpy/core/_asarray.py\u001b[0m in \u001b[0;36masanyarray\u001b[0;34m(a, dtype, order)\u001b[0m\n\u001b[1;32m    136\u001b[0m \u001b[0;34m\u001b[0m\u001b[0m\n\u001b[1;32m    137\u001b[0m     \"\"\"\n\u001b[0;32m--> 138\u001b[0;31m     \u001b[0;32mreturn\u001b[0m \u001b[0marray\u001b[0m\u001b[0;34m(\u001b[0m\u001b[0ma\u001b[0m\u001b[0;34m,\u001b[0m \u001b[0mdtype\u001b[0m\u001b[0;34m,\u001b[0m \u001b[0mcopy\u001b[0m\u001b[0;34m=\u001b[0m\u001b[0;32mFalse\u001b[0m\u001b[0;34m,\u001b[0m \u001b[0morder\u001b[0m\u001b[0;34m=\u001b[0m\u001b[0morder\u001b[0m\u001b[0;34m,\u001b[0m \u001b[0msubok\u001b[0m\u001b[0;34m=\u001b[0m\u001b[0;32mTrue\u001b[0m\u001b[0;34m)\u001b[0m\u001b[0;34m\u001b[0m\u001b[0;34m\u001b[0m\u001b[0m\n\u001b[0m\u001b[1;32m    139\u001b[0m \u001b[0;34m\u001b[0m\u001b[0m\n\u001b[1;32m    140\u001b[0m \u001b[0;34m\u001b[0m\u001b[0m\n",
      "\u001b[0;32m~/miniconda3/lib/python3.7/site-packages/bs4/element.py\u001b[0m in \u001b[0;36m__getitem__\u001b[0;34m(self, key)\u001b[0m\n\u001b[1;32m   1399\u001b[0m         \"\"\"tag[key] returns the value of the 'key' attribute for the Tag,\n\u001b[1;32m   1400\u001b[0m         and throws an exception if it's not there.\"\"\"\n\u001b[0;32m-> 1401\u001b[0;31m         \u001b[0;32mreturn\u001b[0m \u001b[0mself\u001b[0m\u001b[0;34m.\u001b[0m\u001b[0mattrs\u001b[0m\u001b[0;34m[\u001b[0m\u001b[0mkey\u001b[0m\u001b[0;34m]\u001b[0m\u001b[0;34m\u001b[0m\u001b[0;34m\u001b[0m\u001b[0m\n\u001b[0m\u001b[1;32m   1402\u001b[0m \u001b[0;34m\u001b[0m\u001b[0m\n\u001b[1;32m   1403\u001b[0m     \u001b[0;32mdef\u001b[0m \u001b[0m__iter__\u001b[0m\u001b[0;34m(\u001b[0m\u001b[0mself\u001b[0m\u001b[0;34m)\u001b[0m\u001b[0;34m:\u001b[0m\u001b[0;34m\u001b[0m\u001b[0;34m\u001b[0m\u001b[0m\n",
      "\u001b[0;31mKeyError\u001b[0m: 0"
     ]
    }
   ],
   "source": [
    "# print(out_title)\n",
    "# Result output\n",
    "resdata = np.vstack([out_number, out_title, out_datetime, out_url])\n",
    "df = pd.DataFrame(data=resdata).T\n",
    "df.to_csv('result_asahi.csv', header=False, index=False, mode='a')"
   ]
  },
  {
   "cell_type": "code",
   "execution_count": null,
   "metadata": {},
   "outputs": [],
   "source": [
    "driver.quit()"
   ]
  },
  {
   "cell_type": "code",
   "execution_count": null,
   "metadata": {},
   "outputs": [],
   "source": []
  }
 ],
 "metadata": {
  "kernelspec": {
   "display_name": "Python 3",
   "language": "python",
   "name": "python3"
  },
  "language_info": {
   "codemirror_mode": {
    "name": "ipython",
    "version": 3
   },
   "file_extension": ".py",
   "mimetype": "text/x-python",
   "name": "python",
   "nbconvert_exporter": "python",
   "pygments_lexer": "ipython3",
   "version": "3.7.6"
  }
 },
 "nbformat": 4,
 "nbformat_minor": 4
}
