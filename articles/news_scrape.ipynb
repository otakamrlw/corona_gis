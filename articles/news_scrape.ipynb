{
 "cells": [
  {
   "cell_type": "code",
   "execution_count": 1,
   "metadata": {},
   "outputs": [
    {
     "name": "stdout",
     "output_type": "stream",
     "text": [
      "Requirement already satisfied: newspaper3k in /Users/takayuki/miniconda3/lib/python3.7/site-packages (0.2.8)\n",
      "Requirement already satisfied: PyYAML>=3.11 in /Users/takayuki/miniconda3/lib/python3.7/site-packages (from newspaper3k) (5.3.1)\n",
      "Requirement already satisfied: lxml>=3.6.0 in /Users/takayuki/miniconda3/lib/python3.7/site-packages (from newspaper3k) (4.5.1)\n",
      "Requirement already satisfied: Pillow>=3.3.0 in /Users/takayuki/miniconda3/lib/python3.7/site-packages (from newspaper3k) (7.1.2)\n",
      "Requirement already satisfied: tinysegmenter==0.3 in /Users/takayuki/miniconda3/lib/python3.7/site-packages (from newspaper3k) (0.3)\n",
      "Requirement already satisfied: cssselect>=0.9.2 in /Users/takayuki/miniconda3/lib/python3.7/site-packages (from newspaper3k) (1.1.0)\n",
      "Requirement already satisfied: feedfinder2>=0.0.4 in /Users/takayuki/miniconda3/lib/python3.7/site-packages (from newspaper3k) (0.0.4)\n",
      "Requirement already satisfied: python-dateutil>=2.5.3 in /Users/takayuki/miniconda3/lib/python3.7/site-packages (from newspaper3k) (2.8.1)\n",
      "Requirement already satisfied: feedparser>=5.2.1 in /Users/takayuki/miniconda3/lib/python3.7/site-packages (from newspaper3k) (5.2.1)\n",
      "Requirement already satisfied: nltk>=3.2.1 in /Users/takayuki/miniconda3/lib/python3.7/site-packages (from newspaper3k) (3.5)\n",
      "Requirement already satisfied: beautifulsoup4>=4.4.1 in /Users/takayuki/miniconda3/lib/python3.7/site-packages (from newspaper3k) (4.9.1)\n",
      "Requirement already satisfied: jieba3k>=0.35.1 in /Users/takayuki/miniconda3/lib/python3.7/site-packages (from newspaper3k) (0.35.1)\n",
      "Requirement already satisfied: tldextract>=2.0.1 in /Users/takayuki/miniconda3/lib/python3.7/site-packages (from newspaper3k) (2.2.2)\n",
      "Requirement already satisfied: requests>=2.10.0 in /Users/takayuki/miniconda3/lib/python3.7/site-packages (from newspaper3k) (2.22.0)\n",
      "Requirement already satisfied: six in /Users/takayuki/miniconda3/lib/python3.7/site-packages (from feedfinder2>=0.0.4->newspaper3k) (1.14.0)\n",
      "Requirement already satisfied: regex in /Users/takayuki/miniconda3/lib/python3.7/site-packages (from nltk>=3.2.1->newspaper3k) (2020.6.8)\n",
      "Requirement already satisfied: click in /Users/takayuki/miniconda3/lib/python3.7/site-packages (from nltk>=3.2.1->newspaper3k) (7.1.2)\n",
      "Requirement already satisfied: joblib in /Users/takayuki/miniconda3/lib/python3.7/site-packages (from nltk>=3.2.1->newspaper3k) (0.15.1)\n",
      "Requirement already satisfied: tqdm in /Users/takayuki/miniconda3/lib/python3.7/site-packages (from nltk>=3.2.1->newspaper3k) (4.42.1)\n",
      "Requirement already satisfied: soupsieve>1.2 in /Users/takayuki/miniconda3/lib/python3.7/site-packages (from beautifulsoup4>=4.4.1->newspaper3k) (2.0.1)\n",
      "Requirement already satisfied: requests-file>=1.4 in /Users/takayuki/miniconda3/lib/python3.7/site-packages (from tldextract>=2.0.1->newspaper3k) (1.5.1)\n",
      "Requirement already satisfied: idna in /Users/takayuki/miniconda3/lib/python3.7/site-packages (from tldextract>=2.0.1->newspaper3k) (2.8)\n",
      "Requirement already satisfied: setuptools in /Users/takayuki/miniconda3/lib/python3.7/site-packages (from tldextract>=2.0.1->newspaper3k) (45.2.0.post20200210)\n",
      "Requirement already satisfied: chardet<3.1.0,>=3.0.2 in /Users/takayuki/miniconda3/lib/python3.7/site-packages (from requests>=2.10.0->newspaper3k) (3.0.4)\n",
      "Requirement already satisfied: urllib3!=1.25.0,!=1.25.1,<1.26,>=1.21.1 in /Users/takayuki/miniconda3/lib/python3.7/site-packages (from requests>=2.10.0->newspaper3k) (1.25.8)\n",
      "Requirement already satisfied: certifi>=2017.4.17 in /Users/takayuki/miniconda3/lib/python3.7/site-packages (from requests>=2.10.0->newspaper3k) (2020.4.5.1)\n",
      "Note: you may need to restart the kernel to use updated packages.\n"
     ]
    }
   ],
   "source": [
    "pip install newspaper3k"
   ]
  },
  {
   "cell_type": "code",
   "execution_count": 4,
   "metadata": {},
   "outputs": [],
   "source": [
    "import newspaper\n",
    "# import nltk"
   ]
  },
  {
   "cell_type": "code",
   "execution_count": 5,
   "metadata": {},
   "outputs": [],
   "source": [
    "from newspaper import Article\n",
    "# url = \"https://www.nikkei.com/article/DGXMZO60365520V10C20A6L21000/\"\n",
    "# article = Article(url)"
   ]
  },
  {
   "cell_type": "code",
   "execution_count": null,
   "metadata": {},
   "outputs": [],
   "source": [
    "article.download()\n",
    "article.parse()\n"
   ]
  },
  {
   "cell_type": "code",
   "execution_count": null,
   "metadata": {
    "scrolled": true
   },
   "outputs": [],
   "source": [
    "print(article.publish_date)\n",
    "article.authors\n",
    "article.text"
   ]
  },
  {
   "cell_type": "code",
   "execution_count": null,
   "metadata": {},
   "outputs": [],
   "source": [
    "nltk.download('punkt')"
   ]
  },
  {
   "cell_type": "code",
   "execution_count": null,
   "metadata": {},
   "outputs": [],
   "source": [
    "article.nlp()"
   ]
  },
  {
   "cell_type": "code",
   "execution_count": null,
   "metadata": {},
   "outputs": [],
   "source": [
    "article.keywords"
   ]
  },
  {
   "cell_type": "code",
   "execution_count": null,
   "metadata": {},
   "outputs": [],
   "source": [
    "pip install tinysegmenter"
   ]
  },
  {
   "cell_type": "code",
   "execution_count": null,
   "metadata": {},
   "outputs": [],
   "source": [
    "article = Article(url)\n",
    "article.download()\n",
    "article.parse()\n",
    "article.nlp()\n",
    "article.summary"
   ]
  },
  {
   "cell_type": "code",
   "execution_count": 8,
   "metadata": {},
   "outputs": [],
   "source": [
    "# news website which includes keyword \"院内感染\"\n",
    "url = \"https://r.nikkei.com/search?keyword=生活習慣病&volume=10\"\n",
    "article = Article(url)\n",
    "website = newspaper.build(url, memorize_articles = False, MAX_SUMMARY = 300)"
   ]
  },
  {
   "cell_type": "code",
   "execution_count": 9,
   "metadata": {},
   "outputs": [
    {
     "name": "stdout",
     "output_type": "stream",
     "text": [
      "https://r.nikkei.com/article/DGXLSSXK50451_W0A620C2000000\n",
      "None\n",
      "https://r.nikkei.com/article/DGXMZO60842740W0A620C2X30000\n",
      "None\n"
     ]
    }
   ],
   "source": [
    "for article in website.articles:\n",
    "    print(article.url)\n",
    "    print(article.title)"
   ]
  },
  {
   "cell_type": "code",
   "execution_count": 10,
   "metadata": {},
   "outputs": [
    {
     "name": "stdout",
     "output_type": "stream",
     "text": [
      "記事[0]https://r.nikkei.com/article/DGXLSSXK50451_W0A620C2000000:Jリーグは27日、新型コロナウイルスの影響による中断が明け、7月4日に再開するJ1に先立ってJ2が約4カ月ぶりに始まり、J3は約3カ月半遅れて開幕を迎える。待ち望んだ試合に向け、各チームは26日に最終調整した。12季ぶりのJ1復帰を目指すJ2千葉は千葉市内で午前中に約1時間練習を実施。尹晶煥監督はオンライン取材で「長い期間暗くて先行きが見えなかった。始まるということでドキドキもするし、開幕の時とは違った気持ち」と心境を語った。今季は降格がなく、12月20日の最終節まで過密日程となるため、疲労を考慮して交代枠は3人から5人に拡大される。当面は無観客で実施され、7月10日以降から段階的に観客を入れ\n",
      "\n",
      "記事[1]https://r.nikkei.com/article/DGXMZO60842740W0A620C2X30000:カルチュア・コンビニエンス・クラブ（CCC）傘下でTポイント事業などを手掛けるCCCマーケティングホールディングス（東京・渋谷）は26日、住信SBIネット銀行（東京・港）と連携し、新たな金融サービスを始めると発表した。T会員への金融サービス充実を図るのが狙い。住信SBIネット銀行が提供する「NEOBANK」を活用し、金融取引機能を付加する。1年以内にサービス開始を目指す。詳しい機能は未定。Tポイント会員数は7000万人以上で、20～30代の利用者が多い。CCCマーケティングホールディングスはT会員に向けたサービスの拡充を進めている。2019年にはSBIホールディングス傘下のSBI証券と連携し、\n",
      "\n"
     ]
    }
   ],
   "source": [
    "# Iterate through \"articles\", get content and url, try to print url and summary.\n",
    "for item in range(len(website.articles)):\n",
    "    website_article = website.articles[item]\n",
    "    website_article_url = website_article.url\n",
    "    try:\n",
    "        website_article.download()\n",
    "        website_article.parse()\n",
    "        website_article.nlp()\n",
    "        print(\"記事[\"+ str(item) + \"]\" + website_article_url + \":\" + website_article.summary + \"\\n\")\n",
    "    except:\n",
    "        print(\"記事[\"+ str(item) + \"]\" + website_article_url + \":\" + \"取得エラー\"+ \"\\n\")\n",
    "        continue"
   ]
  },
  {
   "cell_type": "markdown",
   "metadata": {},
   "source": []
  },
  {
   "cell_type": "code",
   "execution_count": null,
   "metadata": {},
   "outputs": [],
   "source": []
  },
  {
   "cell_type": "markdown",
   "metadata": {},
   "source": []
  },
  {
   "cell_type": "code",
   "execution_count": null,
   "metadata": {},
   "outputs": [],
   "source": [
    "# Iterate through \"articles\", get content and url, try to print url and summary.\n",
    "for item in range(len(website.articles)):\n",
    "    website_article = website.articles[item]\n",
    "    website_article_url = website_article.url\n",
    "    try:\n",
    "        website_article.download()\n",
    "        website_article.parse()\n",
    "        website_article.nlp()\n",
    "        print(\"記事[\"+ str(item) + \"]\" + website_article_url + \":\" + website_article.summary + \"\\n\")\n",
    "    except:\n",
    "        print(\"記事[\"+ str(item) + \"]\" + website_article_url + \":\" + \"取得エラー\"+ \"\\n\")\n",
    "        continue"
   ]
  },
  {
   "cell_type": "code",
   "execution_count": null,
   "metadata": {},
   "outputs": [],
   "source": []
  }
 ],
 "metadata": {
  "kernelspec": {
   "display_name": "Python 3",
   "language": "python",
   "name": "python3"
  },
  "language_info": {
   "codemirror_mode": {
    "name": "ipython",
    "version": 3
   },
   "file_extension": ".py",
   "mimetype": "text/x-python",
   "name": "python",
   "nbconvert_exporter": "python",
   "pygments_lexer": "ipython3",
   "version": "3.7.6"
  }
 },
 "nbformat": 4,
 "nbformat_minor": 4
}
