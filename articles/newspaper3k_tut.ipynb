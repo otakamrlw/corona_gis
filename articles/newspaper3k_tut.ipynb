{
 "cells": [
  {
   "cell_type": "code",
   "execution_count": 1,
   "metadata": {},
   "outputs": [
    {
     "name": "stdout",
     "output_type": "stream",
     "text": [
      "Requirement already satisfied: newspaper3k in /Users/takayuki/miniconda3/lib/python3.7/site-packages (0.2.8)\n",
      "Requirement already satisfied: feedfinder2>=0.0.4 in /Users/takayuki/miniconda3/lib/python3.7/site-packages (from newspaper3k) (0.0.4)\n",
      "Requirement already satisfied: feedparser>=5.2.1 in /Users/takayuki/miniconda3/lib/python3.7/site-packages (from newspaper3k) (5.2.1)\n",
      "Requirement already satisfied: tldextract>=2.0.1 in /Users/takayuki/miniconda3/lib/python3.7/site-packages (from newspaper3k) (2.2.2)\n",
      "Requirement already satisfied: PyYAML>=3.11 in /Users/takayuki/miniconda3/lib/python3.7/site-packages (from newspaper3k) (5.3.1)\n",
      "Requirement already satisfied: requests>=2.10.0 in /Users/takayuki/miniconda3/lib/python3.7/site-packages (from newspaper3k) (2.22.0)\n",
      "Requirement already satisfied: jieba3k>=0.35.1 in /Users/takayuki/miniconda3/lib/python3.7/site-packages (from newspaper3k) (0.35.1)\n",
      "Requirement already satisfied: cssselect>=0.9.2 in /Users/takayuki/miniconda3/lib/python3.7/site-packages (from newspaper3k) (1.1.0)\n",
      "Requirement already satisfied: tinysegmenter==0.3 in /Users/takayuki/miniconda3/lib/python3.7/site-packages (from newspaper3k) (0.3)\n",
      "Requirement already satisfied: Pillow>=3.3.0 in /Users/takayuki/miniconda3/lib/python3.7/site-packages (from newspaper3k) (7.1.2)\n",
      "Requirement already satisfied: python-dateutil>=2.5.3 in /Users/takayuki/miniconda3/lib/python3.7/site-packages (from newspaper3k) (2.8.1)\n",
      "Requirement already satisfied: lxml>=3.6.0 in /Users/takayuki/miniconda3/lib/python3.7/site-packages (from newspaper3k) (4.5.1)\n",
      "Requirement already satisfied: nltk>=3.2.1 in /Users/takayuki/miniconda3/lib/python3.7/site-packages (from newspaper3k) (3.5)\n",
      "Requirement already satisfied: beautifulsoup4>=4.4.1 in /Users/takayuki/miniconda3/lib/python3.7/site-packages (from newspaper3k) (4.9.1)\n",
      "Requirement already satisfied: six in /Users/takayuki/miniconda3/lib/python3.7/site-packages (from feedfinder2>=0.0.4->newspaper3k) (1.14.0)\n",
      "Requirement already satisfied: requests-file>=1.4 in /Users/takayuki/miniconda3/lib/python3.7/site-packages (from tldextract>=2.0.1->newspaper3k) (1.5.1)\n",
      "Requirement already satisfied: setuptools in /Users/takayuki/miniconda3/lib/python3.7/site-packages (from tldextract>=2.0.1->newspaper3k) (45.2.0.post20200210)\n",
      "Requirement already satisfied: idna in /Users/takayuki/miniconda3/lib/python3.7/site-packages (from tldextract>=2.0.1->newspaper3k) (2.8)\n",
      "Requirement already satisfied: chardet<3.1.0,>=3.0.2 in /Users/takayuki/miniconda3/lib/python3.7/site-packages (from requests>=2.10.0->newspaper3k) (3.0.4)\n",
      "Requirement already satisfied: certifi>=2017.4.17 in /Users/takayuki/miniconda3/lib/python3.7/site-packages (from requests>=2.10.0->newspaper3k) (2020.4.5.1)\n",
      "Requirement already satisfied: urllib3!=1.25.0,!=1.25.1,<1.26,>=1.21.1 in /Users/takayuki/miniconda3/lib/python3.7/site-packages (from requests>=2.10.0->newspaper3k) (1.25.8)\n",
      "Requirement already satisfied: tqdm in /Users/takayuki/miniconda3/lib/python3.7/site-packages (from nltk>=3.2.1->newspaper3k) (4.42.1)\n",
      "Requirement already satisfied: joblib in /Users/takayuki/miniconda3/lib/python3.7/site-packages (from nltk>=3.2.1->newspaper3k) (0.15.1)\n",
      "Requirement already satisfied: regex in /Users/takayuki/miniconda3/lib/python3.7/site-packages (from nltk>=3.2.1->newspaper3k) (2020.6.8)\n",
      "Requirement already satisfied: click in /Users/takayuki/miniconda3/lib/python3.7/site-packages (from nltk>=3.2.1->newspaper3k) (7.1.2)\n",
      "Requirement already satisfied: soupsieve>1.2 in /Users/takayuki/miniconda3/lib/python3.7/site-packages (from beautifulsoup4>=4.4.1->newspaper3k) (2.0.1)\n",
      "Note: you may need to restart the kernel to use updated packages.\n"
     ]
    }
   ],
   "source": [
    "pip install newspaper3k"
   ]
  },
  {
   "cell_type": "code",
   "execution_count": 2,
   "metadata": {},
   "outputs": [],
   "source": [
    "from newspaper import Article"
   ]
  },
  {
   "cell_type": "code",
   "execution_count": 3,
   "metadata": {},
   "outputs": [],
   "source": [
    "url = \"https://www.japantimes.co.jp/news/2019/07/19/national/top-japanese-comedian-retire-wake-underground-business-scandal/#.XTKwtnduKP8\"\n",
    "article = Article(url)"
   ]
  },
  {
   "cell_type": "code",
   "execution_count": 4,
   "metadata": {},
   "outputs": [],
   "source": [
    "article.download()\n",
    "article.parse()"
   ]
  },
  {
   "cell_type": "code",
   "execution_count": 5,
   "metadata": {},
   "outputs": [
    {
     "data": {
      "text/plain": [
       "datetime.datetime(2019, 7, 19, 0, 0)"
      ]
     },
     "execution_count": 5,
     "metadata": {},
     "output_type": "execute_result"
    }
   ],
   "source": [
    "article.publish_date"
   ]
  },
  {
   "cell_type": "code",
   "execution_count": 6,
   "metadata": {},
   "outputs": [
    {
     "data": {
      "text/plain": [
       "['No Author']"
      ]
     },
     "execution_count": 6,
     "metadata": {},
     "output_type": "execute_result"
    }
   ],
   "source": [
    "article.authors"
   ]
  },
  {
   "cell_type": "code",
   "execution_count": 7,
   "metadata": {},
   "outputs": [
    {
     "data": {
      "text/plain": [
       "'A top Japanese comedian, suspended by his talent agency for conducting an “underground business” operation, has decided to retire from the entertainment industry, sources close to the matter said Friday.\\n\\nYoshimoto Kogyo Co. said it terminated its management contract with 49-year-old Hiroyuki Miyasako the same day after suspending him and 12 other comedians last month for attending a party hosted by a purported crime group in 2014 without consulting with the company. They received between ¥1 million and several tens of thousands of yen in remuneration, of which the largest sum was paid out to Miyasako.\\n\\nThe contract termination comes as an article published the same day in celebrity gossip magazine Friday showed a photograph of Miyasako at a restaurant together with individuals who were later charged with theft for stealing around ¥750 million worth of gold bullion in the city of Fukuoka in 2016.\\n\\nThe entertainment powerhouse suspended the 13 comedians in late June after Friday carried an article saying they performed without the agency’s consent at a party organized by a group involved in a large-scale scam in December 2014.\\n\\n“I deeply regret accepting the money, even if it was indirectly,” Miyasako said in late June when the scandal came to light. He said he was not connected with the group.\\n\\nHe joined New Star Creation in 1988, a training school for comedians managed by Yoshimoto Kogyo, and formed the duo Ameagari Kesshitai with Toru Hotohara. Miyasako has appeared frequently on TV shows and was also active as an actor.'"
      ]
     },
     "execution_count": 7,
     "metadata": {},
     "output_type": "execute_result"
    }
   ],
   "source": [
    "article.text"
   ]
  },
  {
   "cell_type": "code",
   "execution_count": 8,
   "metadata": {},
   "outputs": [],
   "source": [
    "import nltk"
   ]
  },
  {
   "cell_type": "code",
   "execution_count": 9,
   "metadata": {},
   "outputs": [
    {
     "name": "stderr",
     "output_type": "stream",
     "text": [
      "[nltk_data] Downloading package punkt to /Users/takayuki/nltk_data...\n",
      "[nltk_data]   Package punkt is already up-to-date!\n"
     ]
    },
    {
     "data": {
      "text/plain": [
       "True"
      ]
     },
     "execution_count": 9,
     "metadata": {},
     "output_type": "execute_result"
    }
   ],
   "source": [
    "nltk.download('punkt')"
   ]
  },
  {
   "cell_type": "code",
   "execution_count": 10,
   "metadata": {},
   "outputs": [],
   "source": [
    "article.nlp()"
   ]
  },
  {
   "cell_type": "code",
   "execution_count": 11,
   "metadata": {},
   "outputs": [
    {
     "data": {
      "text/plain": [
       "['retire',\n",
       " 'comedian',\n",
       " 'late',\n",
       " 'underground',\n",
       " 'miyasako',\n",
       " 'business',\n",
       " 'suspended',\n",
       " 'million',\n",
       " 'scandal',\n",
       " 'comedians',\n",
       " 'kogyo',\n",
       " 'entertainment',\n",
       " 'japanese',\n",
       " 'wake',\n",
       " 'party',\n",
       " 'group',\n",
       " 'day']"
      ]
     },
     "execution_count": 11,
     "metadata": {},
     "output_type": "execute_result"
    }
   ],
   "source": [
    "article.keywords"
   ]
  },
  {
   "cell_type": "code",
   "execution_count": 12,
   "metadata": {},
   "outputs": [
    {
     "data": {
      "text/plain": [
       "'A top Japanese comedian, suspended by his talent agency for conducting an “underground business” operation, has decided to retire from the entertainment industry, sources close to the matter said Friday.\\nThey received between ¥1 million and several tens of thousands of yen in remuneration, of which the largest sum was paid out to Miyasako.\\n“I deeply regret accepting the money, even if it was indirectly,” Miyasako said in late June when the scandal came to light.\\nHe joined New Star Creation in 1988, a training school for comedians managed by Yoshimoto Kogyo, and formed the duo Ameagari Kesshitai with Toru Hotohara.\\nMiyasako has appeared frequently on TV shows and was also active as an actor.'"
      ]
     },
     "execution_count": 12,
     "metadata": {},
     "output_type": "execute_result"
    }
   ],
   "source": [
    "article.summary"
   ]
  },
  {
   "cell_type": "code",
   "execution_count": 13,
   "metadata": {},
   "outputs": [
    {
     "name": "stdout",
     "output_type": "stream",
     "text": [
      "Requirement already satisfied: tinysegmenter in /Users/takayuki/miniconda3/lib/python3.7/site-packages (0.3)\n",
      "Note: you may need to restart the kernel to use updated packages.\n"
     ]
    }
   ],
   "source": [
    "pip install tinysegmenter"
   ]
  },
  {
   "cell_type": "code",
   "execution_count": 21,
   "metadata": {},
   "outputs": [
    {
     "data": {
      "text/plain": [
       "'有料会員の方のみご利用になれます。保存した記事はスマホやタブレットでもご覧いただけます。岡山県は11日、新型コロナウイルスの感染拡大を巡る対応の強化へ一般会計で333億2700万円の2020年度6月補正予算案（追加分）を発表した。国の第2次補正予算案に対応し、重症や中等症の患者を優先して受け入れる「重点医療機関」を新たに整備。県立学校での遠隔授業の環境整備や、中小企業向け制度融資の利子補給などへの経費も盛り込んだ。重点医療機関の整備へは43億4000万円を計上し、病床の確保を進める。病院での院内感染の防止に向けては、ガウンやパーテーションなどの配備のため74億1400万円を盛り込んだ。遠隔授業の環境整備では、学校と外部をつなぐネット回線の増強や教師への端末の配布などへ7億5900万円を充てる。中小企業支援では制度融資の利子補給の増加へ19億7900万円、生産性向上への設備導入や宿泊施設改修の補助金の増額で4億6200万円を盛り込んだ。観光需要の喚起へは5億2900万円を計上。3人以上、または2人以上の連泊で計3万円以上の旅行商品の場合、県内の宿泊や飲食などに使える5000円のクーポンを発行する。財源のうち313億4700万円は国庫支出金を充てる。伊原木隆太知事は記者会見で「いい形で第2波に備えるとともに、損害を受けた県民や事業者の支援へ全力で取り組みたい」と述べた。'"
      ]
     },
     "execution_count": 21,
     "metadata": {},
     "output_type": "execute_result"
    }
   ],
   "source": [
    "url = \"https://www.nikkei.com/article/DGXMZO60254920R10C20A6LC0000/\"\n",
    "article = Article(url)\n",
    "article.download()\n",
    "article.parse()\n",
    "article.nlp()\n",
    "article.summary"
   ]
  },
  {
   "cell_type": "code",
   "execution_count": 24,
   "metadata": {},
   "outputs": [
    {
     "data": {
      "text/plain": [
       "<newspaper.source.Source at 0x10cf72fd0>"
      ]
     },
     "execution_count": 24,
     "metadata": {},
     "output_type": "execute_result"
    }
   ],
   "source": [
    "# tutorial 2 from https://ai-inter1.com/webscraping_newspaper_2/\n",
    "import newspaper"
   ]
  },
  {
   "cell_type": "code",
   "execution_count": 25,
   "metadata": {},
   "outputs": [],
   "source": [
    "url = \"https://www.bloomberg.co.jp/\"\n",
    "website = newspaper.build(url, memorize_articles = False, MAX_SUMMARY = 300)"
   ]
  },
  {
   "cell_type": "code",
   "execution_count": 26,
   "metadata": {},
   "outputs": [
    {
     "name": "stdout",
     "output_type": "stream",
     "text": [
      "https://www.bloomberg.co.jp/news/videos/2020-06-12/QBSK3QT1UM0Z01\n",
      "None\n",
      "https://www.bloomberg.co.jp/news/videos/2020-06-12/QBSJK5T0AFBE01\n",
      "None\n",
      "https://www.bloomberg.co.jp/news/videos/2020-06-12/QBSIVKT0G1KW01\n",
      "None\n",
      "https://www.bloomberg.co.jp/news/videos/2020-06-12/QBSI2LT0G1KY01\n",
      "None\n",
      "https://www.bloomberg.co.jp/news/videos/2020-06-11/QBQQVQT0AFBP01\n",
      "None\n",
      "https://www.bloomberg.co.jp/news/videos/2020-06-11/QBQQ4KT1UM0Y01\n",
      "None\n",
      "https://www.bloomberg.co.jp/news/videos/2020-06-11/QBQPDLT0AFB501\n",
      "None\n",
      "https://www.bloomberg.co.jp/news/videos/2020-06-11/QBQP23T1UM0X01\n",
      "None\n",
      "https://www.bloomberg.co.jp/news/videos/2020-06-10/QBOYDHT0AFB401\n",
      "None\n",
      "https://www.bloomberg.co.jp/news/videos/2020-06-10/QBOXVPDWX2PT01\n",
      "None\n",
      "https://www.bloomberg.co.jp/news/videos/2020-06-10/QBOXJRT1UM1401\n",
      "None\n",
      "https://www.bloomberg.co.jp/news/videos/2020-06-10/QBOX39DWLU6H01\n",
      "None\n",
      "https://www.bloomberg.co.jp/news/videos/2020-06-09/QBNFQFDWX2PS01\n",
      "None\n",
      "https://www.bloomberg.co.jp/news/videos/2020-06-09/QBNF8XDWRGG101\n",
      "None\n",
      "https://www.bloomberg.co.jp/news/videos/2020-06-09/QBNEHXDWRGG201\n",
      "None\n",
      "https://www.bloomberg.co.jp/news/videos/2020-06-09/QBNCW5DWX2Q001\n",
      "None\n",
      "https://www.bloomberg.co.jp/news/videos/2020-06-09/QBN1NAT0AFB601\n",
      "None\n",
      "https://www.bloomberg.co.jp/news/videos/2020-06-09/QBN18RT0AFBD01\n",
      "None\n",
      "https://www.bloomberg.co.jp/news/videos/2020-06-09/QBN0VZT1UM1501\n",
      "None\n",
      "https://www.bloomberg.co.jp/news/videos/2020-06-09/QBN0M7T1UM0Z01\n",
      "None\n",
      "https://www.bloomberg.co.jp/news/videos/2020-06-04/QBE4CBT0AFB601\n",
      "None\n",
      "https://www.bloomberg.co.jp/news/videos/2020-06-04/QBE3ZKT0G1L101\n",
      "None\n",
      "https://www.bloomberg.co.jp/news/videos/2020-06-04/QBDPGMT1UM0X01\n",
      "None\n",
      "https://www.bloomberg.co.jp/news/videos/2020-06-04/QBDP90T1UM0W01\n",
      "None\n",
      "https://www.bloomberg.co.jp/news/videos/2020-06-03/QBBZFKT0AFB601\n",
      "None\n",
      "https://www.bloomberg.co.jp/news/articles/2020-06-11/QBS67IT0AFB801?srnd=cojp-v2\n",
      "\n",
      "                日本株続落、米感染２波懸念に揺らぐ－午後に円軟化、債券も伸び悩み\n",
      "            \n",
      "https://www.bloomberg.co.jp/news/articles/2020-06-12/QBSBDGT0AFIN01?srnd=cojp-v2\n",
      "\n",
      "                「株価は上昇するだけ」が裏目、２兆ドル吹き飛び個人投資家に痛み\n",
      "            \n",
      "https://www.bloomberg.co.jp/news/articles/2020-06-11/QBLO4HDWX2PV01?srnd=cojp-v2\n",
      "\n",
      "                マイナス金利で生じた邦銀と日銀の溝、好評の金融支援策でも埋まらず\n",
      "            \n",
      "https://www.bloomberg.co.jp/news/articles/2020-06-11/QBRMGYDWX2PS01?srnd=cojp-v2\n",
      "\n",
      "            \n",
      "https://www.bloomberg.co.jp/news/articles/2020-06-11/QBS2CXDWX2PX01?srnd=cojp-v2\n",
      "\n",
      "            \n",
      "https://www.bloomberg.co.jp/news/articles/2020-06-12/QBR0Y5T0AFB401?srnd=cojp-v2\n",
      "香港ファンドのオアシスが東京オフィス開設、アナリスト数人採用へ\n",
      "https://www.bloomberg.co.jp/news/articles/2020-06-12/QBSE5VT1UM0X01?srnd=cojp-v2\n",
      "\n",
      "            \n",
      "https://www.bloomberg.co.jp/news/articles/2020-06-12/QBSJ29DWX2PU01?srnd=cojp-v2\n",
      "\n",
      "            \n",
      "https://www.bloomberg.co.jp/news/articles/2020-06-12/QBSITMT1UM0W01?srnd=cojp-v2\n",
      "\n",
      "            \n",
      "https://www.bloomberg.co.jp/news/articles/2020-06-12/QBQWG6DWRGG201?srnd=cojp-v2\n",
      "【債券週間展望】リスク回避で底堅く推移、マイナスの利回りは敬遠も\n",
      "https://www.bloomberg.co.jp/news/articles/2020-06-12/QBSV0CDWLU6D01?srnd=cojp-v2\n",
      "サンリオが初の社長交代、創業家の辻朋邦氏が昇格－信太郎氏は会長に\n",
      "https://www.bloomberg.co.jp/news/articles/2020-06-12/QBNEYQT0AFB401?srnd=cojp-v2\n",
      "\n",
      "            \n",
      "https://www.bloomberg.co.jp/news/articles/2020-06-12/QBDMF5DWX2PV01?srnd=cojp-v2\n",
      "小池都知事が午後６時から会見、知事選対応を表明へ\n",
      "https://www.bloomberg.co.jp/news/articles/2020-06-11/QBQQWLDWRGG001?srnd=cojp-v2\n",
      "\n",
      "                ＰＳ５向けに28ソフト、ほとんどが独占販売－ソニーが発表\n",
      "            \n",
      "https://www.bloomberg.co.jp/news/articles/2020-06-09/QBNTQ3T0AFBM01?srnd=cojp-v2\n",
      "\n",
      "                テンセント、日本のアニメ・漫画関連企業に再び秋波－出資攻勢かける\n",
      "            \n",
      "https://www.bloomberg.co.jp/news/articles/2020-06-08/QBM5BFT0G1KZ01?srnd=cojp-v2\n",
      "\n",
      "                新型コロナ感染と症状、血液型の違いが影響か－遺伝子検査会社の調査\n",
      "            \n"
     ]
    }
   ],
   "source": [
    "for article in website.articles:\n",
    "    print(article.url)\n",
    "    print(article.title)"
   ]
  },
  {
   "cell_type": "code",
   "execution_count": 27,
   "metadata": {},
   "outputs": [
    {
     "name": "stdout",
     "output_type": "stream",
     "text": [
      "記事[0]https://www.bloomberg.co.jp/news/videos/2020-06-12/QBSK3QT1UM0Z01:00:00BNV JP June 2020 “暴力を説いているのではなく平等を訴えているんです” 平和的デモ参加者の声 “みんなの平等を求めてここに立っています 何も言わない善良な警察官や ひどいことを行う悪い警察官に抗議します 彼らには私の顔を覚えて 声を聞いてほしいです”（ニューヨークのデモ参加者 マーカス・アレキサンダー・アンドレ氏） “多くの国民は日々おびえながら街を歩いています 昨日今日ではなく月曜も火曜日もです 警察や嫌がらせ人種差別におびえながら 街を歩いているのです 今週末多くの人がこれを感じ彼らの心にも火をつけたでしょう 変化に期待です”（ワシントンのデモ参加者 ジョージ・ピ\n",
      "\n",
      "記事[1]https://www.bloomberg.co.jp/news/videos/2020-06-12/QBSJK5T0AFBE01:00:00BNV JP June 2020 “当局に従うため”というズームの姿勢にブーイング ズームのＥ２Ｅ暗号化は有料顧客のみが対象です ネット上の反発の一因は ＣＥＯ兼創業者のエリック・ユアン氏の発言です “我々がそうする理由はズームが悪い目的で使われた場合 ＦＢＩや地元当局と協力したいから” （ズームのエリック・ユアンＣＥＯ） この発言は鈍感だとＳＮＳで多くの非難がありました 全米における抗議運動中の発言でした ズームの利用をやめ他社に変えるユーザーや 定期契約を解約する人も出ています\n",
      "\n",
      "記事[2]https://www.bloomberg.co.jp/news/videos/2020-06-12/QBSIVKT0G1KW01:00:00BNV JP June 2020 米国とＷＨＯの関係終了で致死的な疾病が懸念されます 国際的な保健組織との関係打ち切りを トランプ大統領が決めました 決定による資金供給の停止で 致死的な疾病の発生を恐れている科学者がいます ポリオや結核などが再流行するかもしれません “非常に失望しています とても重要な多国間の組織から米国が離脱を考えるだけでもです 何の代替案も無しにです 必要なポリオの根絶や他の計画に影響が出る可能性があります” （デービッド・ヘイマン氏） しかし 専門家によると資金は問題の半分にすぎません 米国がもたらす専門知識が 同じぐらい重要なのです\n",
      "\n",
      "記事[3]https://www.bloomberg.co.jp/news/videos/2020-06-12/QBSI2LT0G1KY01:00:00BNV JP June 2020 香港行政長官が米国を“二重基準”と非難 “ここ数週間で非常に鮮明なのは二重基準があることです 米国で騒動があり 地方政府がどう対応したか私たちは見ています 香港で似た騒動があった時の米国の姿勢も見ました” （キャリー・ラム行政長官） “香港に対して制裁を科す正当な理由は一切ありません いかなる政府にも経済にもありません 香港への国家安全法の導入に向け 中央政府や中央当局は 正当な手順を踏んでいるからです”\n",
      "\n",
      "記事[4]https://www.bloomberg.co.jp/news/videos/2020-06-11/QBQQVQT0AFBP01:00:00BNV JP June 2020 “当社は懸命に取り組んできました 方針やシステムを公平で中立一貫して作るためにです グローバル企業なので 方針はグローバルレベルで決め実行します ある特定の動画の対処方法に問題がある場合には 申し立てできます ユーチューブやＳＮＳが可能にしたと言えます 幅広く意見を出し対話に参加することをね 多様な意見が 見られるようになったことは誇りです”（ウォジッキＣＥＯ） “その件は御社の課題です（ルーベンスタイン氏） ソーシャルメディアへの大統領令が出たのは恐らく ツイッターによる大統領選へのコメントにあるでしょう 御社は中国のある出来事でニュースになりまし\n",
      "\n",
      "記事[5]https://www.bloomberg.co.jp/news/videos/2020-06-11/QBQQ4KT1UM0Y01:00:00BNV JP June 2020 “Ｖ字回復するでしょう 市場の動きがそうなっています 世界中の市場を見ると 20～30％ぐらい上昇しています 新興国と先進国の両方の市場においてです だから 実際にＶ字回復が期待できます”（モビアス氏） “金融市場は中央銀行に動かされています そうなっているのは明らかです 隔たりがあります 実体経済や 市中で実感する社会経済的な影響と違っています 米国では人種差別を巡る運動が起きましたが 市場は この動きを傍観しています 市場や投資家は知っているからです 中央銀行が市場を支えていることをです 最終的にこの状況は破綻しますか？”（ジョンソン） “そう思\n",
      "\n",
      "記事[6]https://www.bloomberg.co.jp/news/videos/2020-06-11/QBQPDLT0AFB501:00:00BNV JP June 2020 米紙記者たちが編集者に抗議 ニューヨーク・タイムズと フィラデルフィア・インクワイアラーが 自社の記者から反発を受けています 発生している抗議デモの報道を巡る問題です ニューヨーク・タイムズは トム・コットン上院議員の論説を掲載しました “軍隊を送り込め”という見出しの内容に 社内から批判が出ています 当初 ニューヨーク・タイムズは掲載を擁護していましたが 方針転換に踏み切りました “慌ただしい編集プロセスにより 基準を満たさない寄稿が掲載されてしまいました” （アイリーン・マーフィー広報担当） 一方 フィラデルフィア・インクワイアラーの記者は “う\n",
      "\n",
      "記事[7]https://www.bloomberg.co.jp/news/videos/2020-06-11/QBQP23T1UM0X01:00:00BNV JP June 2020 “ハスの生産者であることに誇りを感じます 新型コロナウイルスから身を守るものに 使用されているのです” ハスの茎から作ったマスク （カンボジア シェムリアップ） “我々サマトア社は環境に配慮し 天然の繊維を使っています（管理者 アリス・サムナン氏） 化学製品は含まれていません 新型コロナウイルス以前は カポック バナナ ハスから織物を作っていました ハスは吸水性 速乾性があり 通気性の良い繊維ができます 通常のマスクよりは高価ですが 100～200回洗って繰り返し使用できます 米国やフランスオーストラリアに輸出しています 最近では大量のマスクを製作し\n",
      "\n",
      "記事[8]https://www.bloomberg.co.jp/news/videos/2020-06-10/QBOYDHT0AFB401:00:00BNV JP June 2020 コロナウイルス下の生活は暮らしの多くを変えつつあり それをテクノロジーが支えています “テクノロジーの長期トレンドは変わる人々の行動を いかに後押しをするかです”（ＩＢＭ元ＣＥＯ） テクノロジーは特に食料や雑貨の買い物方法を変えています しかし 買い物より大きく変化しているのが働き方です 多くの人が会社支給の電話やＶＰＮ接続を利用し働いています “１日に８億件の接続があり大きく増加しました 在宅勤務によりＶＰＮ接続は 50％増加しています”（ベライゾンＣＥＯ） ウェブエックスやズームなどのサービスを使い 我々は１日に何回テレビ会議をしているでしょう \n",
      "\n",
      "記事[9]https://www.bloomberg.co.jp/news/videos/2020-06-10/QBOXVPDWX2PT01:00:00BNV JP June 2020 インドを襲う最悪の嵐 過去数十年で最多のバッタが発生しました 新型ウイルスや熱波との同時発生です “バッタは８日間以上いれば卵を生み始め 我々の脅威となります”（政府職員プリーティ・ビセ氏） 大音量で音楽を流す村もあります 虫の大群を追い払うためです\n",
      "\n",
      "記事[10]https://www.bloomberg.co.jp/news/videos/2020-06-10/QBOXJRT1UM1401:00:00BNV JP June 2020 新型コロナワクチンの鍵を握る動物たち 研究者らがフェレットやサルなどで動物実験を行い 新型コロナのワクチンを開発しようとしています 動物実験は 人間ではできないような方法で ワクチンへの反応を確認可能です “多様な動物を試験することで 本質的に人間に見られる変化と似た症状を引き起こせます 手掛かりさえ得られればより大規模な臨床試験を 開始できるのです”（ラルフ・バリック氏） インフルエンザワクチン開発に重要なフェレットは 新型コロナにおいても重要性が示されています また ウイルスが人間の感染にどう影響を与えるのかを 研究者が幅広く検証するため 他の動\n",
      "\n",
      "記事[11]https://www.bloomberg.co.jp/news/videos/2020-06-10/QBOX39DWLU6H01:00:00BNV JP June 2020 “新型コロナには季節的な変動があると 予測するのは理にかなっていると思います 多くの呼吸器系ウイルスと同様です” 新型コロナは冬に悪化しますか？ “推測ではありますが 実験では気温と湿度を高くした場合 ウイルスは弱くなりました 生存期間は短くなり 生存率は低下しました つまり気温と湿度が高ければ高いほど ウイルスにとっては複製と生存が困難です より涼しく乾燥している方がウイルスにとっては有利です 環境汚染が感染拡大に関与する度合いも より涼しく乾燥した月に高い傾向があります 人々が屋内にいる時は同じ物の表面を より頻繁に触れるということもあります で\n",
      "\n",
      "記事[12]https://www.bloomberg.co.jp/news/videos/2020-06-09/QBNFQFDWX2PS01:00:00BNV JP May 2020 未来の病室 イスラエルの医療センターが “スマートルーム”の開発を進めています “私たちが予測しようとしているのは 10年後 医療サービスがどうなっているかです すでに 私たちは多くの方向性や傾向について 明らかにしています ずっと前から取り組みを進めてきました 新しいテクノロジーに対して受け身でいたくありません それらのテクノロジーを率先して必要な場所に導入し 大切な患者のために役立てたいのです” （アミタイ・ジブ氏） 開発者と医師たちがテストしているのは 遠隔通信を可能にするロボットです 患者が簡単なセルフチェックを行うことができます “グッドマン\n",
      "\n",
      "記事[13]https://www.bloomberg.co.jp/news/videos/2020-06-09/QBNF8XDWRGG101:00:00BNV JP June 2020 “３ ２ １ ０ 点火 発射 クルー・ドラゴンを搭載したファルコン９です” ようやく実現しました 創業から18年 これまでに商業衛星の打ち上げや 国際宇宙ステーションへの補給物資の輸送を始めました テスラもあります そして ついにスペースＸは２人の宇宙飛行士 ボブ・ベンケンとダグ・ハーレーを 宇宙空間に送りました 今回の任務は「デモ２」と呼ばれ 同社の新しい宇宙船による初めての有人飛行です 約24時間 飛行し 飛行士たちが一時的に滞在する国際宇宙ステーションに ドッキングします その後 飛行士たちはそこで仕事をし ＮＡＳＡが決めるまで滞在します 全て\n",
      "\n",
      "記事[14]https://www.bloomberg.co.jp/news/videos/2020-06-09/QBNEHXDWRGG201:00:00BNV JP June 2020 “中継中の逮捕です ＣＮＮの取材と事前に伝えています” 抗議デモを生中継中のＣＮＮ記者を警察が逮捕 “我々はＣＮＮです今生中継中です” “指示の場所に移動します 今 生中継中です ミネソタ州警察がＣＮＮのオマー・ヒメネス記者と クルーを一時拘束しました” 黒人男性ジョージ・フロイドさんの死を受けた ミネアポリスのデモを取材中でした “逮捕する” “では容疑を教えていただけますか？ なぜ逮捕されるのですか？” 拘束の一部始終をカメラは記録していました その後 釈放されました ミネソタ州のティム・ウォルツ知事はこの逮捕を “全く容認できない”と謝罪しまし\n",
      "\n",
      "記事[15]https://www.bloomberg.co.jp/news/videos/2020-06-09/QBNCW5DWX2Q001:00:00BNV JP May 2020 “テスラ・キラーとも呼ばれます” （トム・マッケンジー記者） 中国の“テスラ・キラー”に試乗 “これが小鵬汽車の中国製ＥＶ‘Ｐ７’ 0-100km/h加速4.3秒はかなりのものです テスラ‘モデル３’に匹敵するそうです 航続距離は中国版テスラより長く Ｐ７は706キロです モデル３は668キロですからね 価格帯は３万～５万ドルなので モデル３より低価格です アリババ・グループ・ホールディングの出資があり ソフト ハードともに充実しています エヌビディアやクアルコムの半導体など米技術が多用されます ハードの多くは米国製ですが ソフトは中国製が多いです 小\n",
      "\n",
      "記事[16]https://www.bloomberg.co.jp/news/videos/2020-06-09/QBN1NAT0AFB601:00:00BNV JP May 2020 イタリアのロックダウンから脱した米国人旅行者 コリーン＆マービン・ヒューソン夫妻は ポンペイ再開の列に先頭で並んでいました ３月初めからイタリアで足止めされてきたのです “私たちに手の出せる航空便は一切なく 便があっても予約前に埋まってしまいました 親族から国の状況を聞き子供たちが 私たちはこちらにいた方が安全だと判断しました 小さい町ですし イタリア人は規律正しいですから マスクや手袋の着用も気にしません 我慢強く 距離も保ちます”（米国人旅行者 コリーン・ヒューソンさん）\n",
      "\n",
      "記事[17]https://www.bloomberg.co.jp/news/videos/2020-06-09/QBN18RT0AFBD01:00:00BNV JP May 2020 地中海で見つかった新型コロナウイルスのごみ フランスの環境保護団体である オペラシオン・メール・プロプルの ダイバーはこれまで プラスチックや瓶 缶を収集してきました しかし現在見つかるのは新型コロナウイルスのごみです これは始まりにすぎないと彼らは恐れています “何もしなければ 汚染が進む最初の兆しになります 雨が降り始めたらすぐに全てのごみが排水路から 私たちの美しいコートダジュールに流れてきます 数週間後にはより多くのごみが出るでしょう” （創設者ジェフリー・ペルティエ氏） パリでは道路の清掃作業員も 道に捨てられたマスクの増加を指摘しています\n",
      "\n",
      "記事[18]https://www.bloomberg.co.jp/news/videos/2020-06-09/QBN0VZT1UM1501:00:00BNV JP May 2020 ロボットが接客するモールへようこそ これは リサ 客の探し物を手助けする 情報サービスアシスタントです ケアロボットのロックは 体温を測定します ＰＰは 公衆衛生のアナウンスを行います Ｋ９は 除菌ローションをのせてモールを歩き回ります “正直 すごく驚きました 馬のひづめのような音がします でも いいと思います” （買い物客 ウォラヴィット・パタラニットさん） このモールのオーナーがタイ全土に所有する33の店舗は ２カ月間 閉店していました ロボットによる接客が 客の戻りにつながるよう期待しています “皆 興味津々です 特に 子供はロボットが大好きで\n",
      "\n",
      "記事[19]https://www.bloomberg.co.jp/news/videos/2020-06-09/QBN0M7T1UM0Z01:00:00BNV JP May 2020 “オープンオフィスの不要論は数年ごとに出ています ついに絶滅するでしょうか？”（サラ・ホルダー） オープンオフィスは新型コロナウイルス後も残るか？ “企業はオープンオフィスを好みます 不動産コストを削減できて 同じフロアに大人数を収容できます 仕事が円滑に進むと考えているようですが プライバシーがないため従業員には不人気です 各自の場所も確保できません 新型コロナウイルスの感染が広がる今 新たな課題に直面しています この先 オフィスはどうなるのでしょう？ 企業も模索しているところです しかしオフィスに入って退勤するまで 今までとは様子が異なるでしょう \n",
      "\n",
      "記事[20]https://www.bloomberg.co.jp/news/videos/2020-06-04/QBE4CBT0AFB601:00:00BNV JP May 2020 新型コロナウイルスでキャンプの需要増 キャンピングカーの販売店が狙っているのは 飛行機での移動や新型コロナの第２波に 恐れを感じている米国人たちです 失業は増えていますが販売会社やレンタル会社によると キャンピングカーへの関心はインターネットで急増しています 米国人は最大10万ドルまで払うつもりがあります ベッドやキッチン付きのキャンピングカーにです そしてワクチンの普及を待ちます ソーシャルディスタンシングにおいて 最も安全な休暇の過ごし方はキャンプだと考えられています （情報：キャンプグラウンド・オブ・アメリカ） 米国にはキャンピングカー用の民間公\n",
      "\n",
      "記事[21]https://www.bloomberg.co.jp/news/videos/2020-06-04/QBE3ZKT0G1L101:00:00BNV JP May 2020 笑顔の見えるマスク イタリアのディエンピ社が透明なマスクを作っています 唇を読む必要のある聴覚障害者のための物でしたが 今は企業でも使われています “透明なマスクはみんなのための物です このマスクを使うことで 誰でも楽にコミュニケーションできます 言葉だけでなくジェスチャーや 表情 唇の動きも使えますから キスだって送れますよ”（ディエンピ社マリーニＣＥＯ） 中央の透明なシートはポリウレタン製です シートをマスク生地に密着させるため 熱で溶接し縫い合わせています 値段は１枚７ドルほどです\n",
      "\n",
      "記事[22]https://www.bloomberg.co.jp/news/videos/2020-06-04/QBDPGMT1UM0X01:00:00BNV JP May 2020 新型コロナのワクチンを接種しますか？ 接種を望む米国人は49％です（情報：ＡＰ－ＮＯＲＣ） “候補のワクチンにも 副作用の心配があります このワクチンに関する風説は多く 逆に感染するとも言われます”（ＮＯＲＣ ケイトリン・ オッペンハイマー氏） 調査では ワクチンを接種するか分からないという人が31％で 接種しないという人が20％でした\n",
      "\n",
      "記事[23]https://www.bloomberg.co.jp/news/videos/2020-06-04/QBDP90T1UM0W01:00:00BNV JP May 2020 経済活動再開の米国隔離疲れ広がる “隔離生活によって増す不安感は 心身の重荷になります それが‘隔離疲れ’です”（精神科のファノオス科長） ある調査で 米国人の30％が不安状態だと分かりました “自主隔離が始まった当初 感染しない居場所があって人々は安心したと思います ですが 時が過ぎ 死亡率や感染率は低下しました 人々は 家にいる恩恵が減ったと感じているようです むしろ負担と感じるようになってきました これは少々危険です 死亡率や感染率が低下しても 社会的距離の基準や指針が解除されれば 再び感染率が急上昇する可能性があるからです いわば偽の安心感です\n",
      "\n"
     ]
    },
    {
     "name": "stdout",
     "output_type": "stream",
     "text": [
      "記事[24]https://www.bloomberg.co.jp/news/videos/2020-06-03/QBBZFKT0AFB601:00:00BNV JP May 2020 消費者として 規格外のものも受け入れなければなりません なぜなら 完璧なものは不自然だからです “食品ロスを減らすクラウドファーミング” 私は農家と消費者を直接つなぐ食料サプライチェーン クラウドファーミング共同創業者兼ＣＥＯゴンザロ・ウルクロです 私たちの農場で クラウドファーミングを始めたのは 従来の食料サプライチェーンに不満があったからです 農場を訪ねてくる消費者は食べ物に懸念を唱えます 特にＣＯＶＩＤ１９の影響で 以前より多くの人が食品の出どころや 生産方法を気にするようになりました お店には 情報のない商品があふれていますが 消費者としてあな\n",
      "\n",
      "記事[25]https://www.bloomberg.co.jp/news/articles/2020-06-11/QBS67IT0AFB801?srnd=cojp-v2:Photographer: PHILIP FONG/AFP Photographer: PHILIP FONG/AFP12日の日本株は続落した。米国で新型コロナウイルスの感染第２波が懸念され、景気回復期待による急ピッチの株高に変調の兆しが出ている。為替市場では円が午後に軟化し、債券相場は伸び悩んだ。ＴＯＰＩＸの終値は前日比18.24ポイント（1.2％）安の1570.68日経平均株価は167円43銭（0.8％）安の２万2305円48銭ドル・円相場は107円10銭前後長期国債先物６月物は前日比２銭高の152円19銭フロリダ州で感染が加速、テキサス州で外出制限令の再発令の可能性が浮上するなど、経済活\n",
      "\n",
      "記事[26]https://www.bloomberg.co.jp/news/articles/2020-06-12/QBSBDGT0AFIN01?srnd=cojp-v2:Photographer: NanoStockk/iStockphoto Photographer: NanoStockk/iStockphotoツイッターやチャットルームでポピュラーになった「株価は上昇するだけ」を信じて米国株上昇に賭ける戦略に最近 転向した人は、これが思ったほど万全な戦略ではなかったことを思い知らされた。もともと皮肉まじりだったかもしれないこの戦略は、11日の米株式市場で痛烈な否定に見舞われた。Ｓ＆Ｐ500種株価指数は約６％下落し、時価総額２兆ドル（約213兆円）近くが吹き飛んだ。売りが特にかさんだのは航空やエネルギー、銀行など、ここ１カ月で株式に殺到した多くの 個人投資家\n",
      "\n",
      "記事[27]https://www.bloomberg.co.jp/news/articles/2020-06-11/QBLO4HDWX2PV01?srnd=cojp-v2:Photographer: Kiyoshi Ota/Bloomberg Photographer: Kiyoshi Ota/Bloomberg1日を始める前に押さえておきたい世界のニュースを毎朝お届け。ブルームバーグのニュースレターへの登録はこちら。近日、配信をスタートします。新型コロナウイルス感染症対策として日本銀行が打ち出した大規模な金融支援策も、邦銀と日銀との間に生じた溝を埋めるまでには至っていない。邦銀の多くが今なお日銀のマイナス金利政策に強く反発しているからだ。総枠75兆円の資金繰り支援策は銀行業界から歓迎されている。もっとも、複数の邦銀中枢幹部はブルームバーグのインタビューで、マイ\n",
      "\n",
      "記事[28]https://www.bloomberg.co.jp/news/articles/2020-06-11/QBRMGYDWX2PS01?srnd=cojp-v2:Photographer: Joe Raedle/Getty Images North America Photographer: Joe Raedle/Getty Images North America1日を始める前に押さえておきたい世界のニュースを毎朝お届け。ブルームバーグのニュースレターへの登録はこちら。近日、配信をスタートします。世界の新型コロナウイルス感染者は750万人を 突破した。インドの感染者は１日で約１万人増加した。米国で新型コロナの第２波が起こる懸念などで米株式相場が11日に急落した後、12日のアジア株式市場も下げている。シンガポールのローレンス・ウォン国家開発相は、同国が\n",
      "\n",
      "記事[29]https://www.bloomberg.co.jp/news/articles/2020-06-11/QBS2CXDWX2PX01?srnd=cojp-v2:Photographer: samxmeg/iStockphoto Photographer: samxmeg/iStockphoto動く銘柄なら何でも買おうと 個人投資家が殺到していた米株式市場。今見られる急激な相場反転は、多かれ少なかれ避けられないものだった。これはブルームバーグ・インテリジェンスのジーナ・マーティン・アダムス氏が48時間前に発した警鐘だ。ちょうどその時点がＳ＆Ｐ500種株価指数の３日連続安の起点で、同氏は投資家が過度に楽観的で、市場センチメントは過熱していたため相場反落の要因になるとみていた。同氏は「３月の安値からの力強い反騰で、ついにモメンタムの過熱シグナルが点灯した。\n",
      "\n",
      "記事[30]https://www.bloomberg.co.jp/news/articles/2020-06-12/QBR0Y5T0AFB401?srnd=cojp-v2:香港のヘッジファンド、 オアシス・マネジメントが東京オフィスを開設したことが12日、分かった。今後数人のアナリストを雇い、日本企業の調査業務を行う。ヘッジファンドはプライベート・エクイティ（ＰＥ）ファンドなどに比べて比較的小所帯であり、海外勢が日本に拠点を構える例は珍しい。フィッシャー氏（香港、2018年５月） Photographer: Anthony Kwan/Bloombergオアシスは４月に東京・港区西新橋に 拠点を開設。創業者で最高投資責任者（ＣＩＯ）のセス・フィッシャー氏はブルームバーグの取材に対し、東京オフィスは日本企業への調査拠点の役割を担うとし、さらに長期にわたって日本に根を\n",
      "\n",
      "記事[31]https://www.bloomberg.co.jp/news/articles/2020-06-12/QBSE5VT1UM0X01?srnd=cojp-v2:Photographer: Gabby Jones/Bloomberg Photographer: Gabby Jones/Bloombergビデオ会議システムを提供する米 ズーム・ビデオ・コミュニケーションズは、中国政府の求めに応じて米国を拠点とする中国人の人権活動家のアカウントを一時停止した。中国政府が世界的に検閲を強めているとの懸念が広がっている。ズームは11日のブログ投稿で、ソーシャルメディアで告知されていた31年前の「天安門事件」を伝えるバーチャル会合に関し、先月と今月上旬に中国政府の当局者が接触してきたことを明らかにした。違法と見なされている活動を理由に会合と主催者のアカウントを終\n",
      "\n",
      "記事[32]https://www.bloomberg.co.jp/news/articles/2020-06-12/QBSJ29DWX2PU01?srnd=cojp-v2:Photographer: BRENDAN SMIALOWSKI/AFP Photographer: BRENDAN SMIALOWSKI/AFP電気自動車メーカーの米 テスラの株価は、イーロン・マスク最高経営責任者（ＣＥＯ）が５月に 高過ぎるとの認識を示してから数週間にわたり大幅上昇している。マスクＣＥＯはこうした状況について、インターネット用語を使って再びツイートした。10日にテスラ株が９％上昇し、終値ベースの上場来高値1025.05ドルに達した後のマスクＣＥＯの最初の投稿は「lol」。これは大爆笑を意味する「laughing out loud」の略。lol — Elon Musk (@e\n",
      "\n",
      "記事[33]https://www.bloomberg.co.jp/news/articles/2020-06-12/QBSITMT1UM0W01?srnd=cojp-v2:Photographer: David Paul Morris/Bloomberg Photographer: David Paul Morris/Bloomberg米連邦破産法11条の適用を申請したレンタカー会社 ハーツ・グローバル・ホールディングスは、株価上昇の機を捉え、最大10億ドル（約1070億円）相当の新株を売り出すことを認めるよう破産裁判所の判事に要請している。通常なら破綻企業の株式の価値は帳消しになるが、ハーツは２週間にわたる株価の大幅上昇を受け、米 ジェフリーズの協力を得て最大２億4678万株の普通株の売り出しを計画している。裁判所への 提出書類で明らかになった。メアリー・ウォ\n",
      "\n",
      "記事[34]https://www.bloomberg.co.jp/news/articles/2020-06-12/QBQWG6DWRGG201?srnd=cojp-v2:６月第３週（15日－19日）の債券相場はリスク回避の買いに支えられて底堅く推移すると予想されている。半面、長期債利回りがマイナス圏に沈むと敬遠されて、相場の上値が重くなるとの見方も出ている。市場参加者の見方◎岡三証券の鈴木誠債券シニアストラテジスト投資家のリスク回避姿勢が強まりやすい環境で、債券相場はしっかりした動きを続けよう国債増発などから国債利回りには上昇圧力がかかりやすい環境だが、日銀は過度な利回り上昇は抑える姿勢を維持しようマイナス利回りの国債を積極的に買い進む動きは限られようが、利回りが上昇すれば投資家の押し目買いが期待できよう長期金利の予想レンジはマイナス0.03％～プラス0.02\n",
      "\n",
      "記事[35]https://www.bloomberg.co.jp/news/articles/2020-06-12/QBSV0CDWLU6D01?srnd=cojp-v2:「ハローキティ」などキャラクター商品を企画、販売する サンリオは12日、７月１日付で辻朋邦専務（31）が社長に昇格すると発表した。1960年の創業以来、長年トップを務めてきた辻信太郎社長（92）は代表権のある会長に就く。朋邦新社長は信太郎氏の孫で、2014年に入社した。16年に取締役、17年６月から専務となり、中期経営計画の策定やマーケティング部門の創設に携わってきた。８月26日に開く定時株主総会で正式決定される予定だ。同時に意思決定の迅速化を図るため、取締役人数を現在の14人から９人に減らし、将来的に独立社外取締役の構成比を増やす考えも示した。サンリオが同日発表した20年３月期決算は海外での\n",
      "\n",
      "記事[36]https://www.bloomberg.co.jp/news/articles/2020-06-12/QBNEYQT0AFB401?srnd=cojp-v2:Photographer: Tomohiro Ohsumi/Getty Images AsiaPac Photographer: Tomohiro Ohsumi/Getty Images AsiaPac新型コロナウイルス感染拡大に伴う追加対策を盛り込んだ2020年度 第２次補正予算が、12日の参院本会議で賛成多数で可決・成立した。予算規模は過去最大の31.9兆円。コロナ対応の経済対策の事業規模が234兆円と国内総生産（ＧＤＰ）の４割に達する中、国債の追加発行により財政状況は悪化する。第２次補正予算は、４月末の １次補正成立後から１カ月半弱で成立。新たに家賃支援給付金約２兆円が盛り込まれたほか、\n",
      "\n",
      "記事[37]https://www.bloomberg.co.jp/news/articles/2020-06-12/QBDMF5DWX2PV01?srnd=cojp-v2:東京都の小池百合子知事は12日夕、任期満了に伴う都知事選（18日告示、７月５日投開票）への対応について記者会見する。都によると、会見は午後６時の予定。共同通信などは再選出馬を表明すると報じた。小池氏は午後２時からの定例会見で、知事選対応表明の時期を同日夕とした理由について、都議会での補正予算成立や新型コロナウイルスへの警戒を呼び掛けた「東京アラート」の解除決定を挙げ、コロナ対策は「一つの区切り」が付いたことを挙げた。小池氏は東京都のコロナ対応を指揮。記者会見や動画配信で連日のように情報発信し、存在感を見せた。６月２日には「東京アラート」を発動したが、新規感染者の増加が一定程度に抑え込むことがで\n",
      "\n",
      "記事[38]https://www.bloomberg.co.jp/news/articles/2020-06-11/QBQQWLDWRGG001?srnd=cojp-v2:ソニーは12日、年末商戦期に投入する次世代ゲーム機「プレイステーション（ＰＳ）５」向けの28ソフトを発表した。ソフトのほとんどがＰＳ５で独占販売される。 スパイダーマンなどＰＳシリーズでの人気ソフトのほか、カプコンのバイオハザードやスクウェア・エニックス・ホールディングスの新作も含まれる。主なソフト 制作 マーベル スパイダーマン: マイルズ・モラレス ソニー グランツーリスモ７ ホライゾン 禁じられた西部 バイオハザード ヴィレッジ カプコン ＰＲＯＪＥＣＴ ＡＴＨＩＡ スクエニＨ本体のデザインも初めて公表された。ディスクドライブの有無で２種類のモデルがある。本体価格や発売日は公表しなかった\n",
      "\n",
      "記事[39]https://www.bloomberg.co.jp/news/articles/2020-06-09/QBNTQ3T0AFBM01?srnd=cojp-v2:Photographer: Patrick T. Fallon/Bloomberg Photographer: Patrick T. Fallon/Bloomberg1日を始める前に押さえておきたい世界のニュースを毎朝お届け。ブルームバーグのニュースレターへの登録はこちら。近日、配信をスタートします。中国ソーシャルメディア界の大手企業、 テンセント・ホールディングス（騰訊）は守りが堅い日本の娯楽業界から何年もはねつけられてきたが、ここにきて日本の著名なアニメ・漫画制作関連企業に再び秋波を送っている。過去数カ月にテンセントは マーベラスと、大ヒットとなったビデオゲーム「NieR:Automata\n",
      "\n",
      "記事[40]https://www.bloomberg.co.jp/news/articles/2020-06-08/QBM5BFT0G1KZ01?srnd=cojp-v2:血液型を左右する遺伝子の違いが、新型コロナウイルスの感染と症状に影響する可能性がある。消費者向け遺伝子検査サービス大手、米２３アンド・ミーが調査の暫定結果として発表した。感染しても無症状の人がいる一方で、重篤になるまで症状が悪化する人がいる原因を突き止めようと、遺伝子に着目した調査が広く実施されている。２３アンド・ミーは４月、同社データベースに保管されている数百万人分のＤＮＡ情報を用いて、この研究を開始していた。同社が８日発表した暫定結果によれば、血液型Ｏ型の人が特に新型コロナウイルスに感染しにくい。この調査には75万人以上が参加したという。血液型遺伝子の種類と新型コロナウイルスに何らかの関連\n",
      "\n"
     ]
    }
   ],
   "source": [
    "# Iterate through \"articles\", get content and url, try to print url and summary.\n",
    "for item in range(len(website.articles)):\n",
    "    website_article = website.articles[item]\n",
    "    website_article_url = website_article.url\n",
    "    try:\n",
    "        website_article.download()\n",
    "        website_article.parse()\n",
    "        website_article.nlp()\n",
    "        print(\"記事[\"+ str(item) + \"]\" + website_article_url + \":\" + website_article.summary + \"\\n\")\n",
    "    except:\n",
    "        print(\"記事[\"+ str(item) + \"]\" + website_article_url + \":\" + \"取得エラー\"+ \"\\n\")\n",
    "        continue"
   ]
  },
  {
   "cell_type": "code",
   "execution_count": 37,
   "metadata": {},
   "outputs": [],
   "source": [
    "# export into csv\n",
    "import csv\n",
    "import datetime"
   ]
  },
  {
   "cell_type": "code",
   "execution_count": 38,
   "metadata": {},
   "outputs": [],
   "source": [
    "csv_date = datetime.datetime.today().strftime(\"%Y%m%d\")"
   ]
  },
  {
   "cell_type": "code",
   "execution_count": 39,
   "metadata": {},
   "outputs": [],
   "source": [
    "csv_file_name = 'bloomberg_' + csv_date + '.csv'"
   ]
  },
  {
   "cell_type": "code",
   "execution_count": 40,
   "metadata": {},
   "outputs": [],
   "source": [
    "# cp932 is ShiftJIS\n",
    "f = open(csv_file_name, 'w', encoding = 'cp932')"
   ]
  },
  {
   "cell_type": "code",
   "execution_count": 41,
   "metadata": {},
   "outputs": [
    {
     "data": {
      "text/plain": [
       "14"
      ]
     },
     "execution_count": 41,
     "metadata": {},
     "output_type": "execute_result"
    }
   ],
   "source": [
    "writer = csv.writer(f, lineterminator='\\n')\n",
    "csv_header = [\"記事番号\",\"URL\",\"サマリー\"]\n",
    "writer.writerow(csv_header)"
   ]
  },
  {
   "cell_type": "code",
   "execution_count": 45,
   "metadata": {
    "collapsed": true
   },
   "outputs": [
    {
     "name": "stdout",
     "output_type": "stream",
     "text": [
      "記事[0]: https://www.bloomberg.co.jp/news/articles/2020-06-08/QBM5BFT0G1KZ01?srnd=cojp-v2 : 00:00BNV JP June 2020 “暴力を説いているのではなく平等を訴えているんです” 平和的デモ参加者の声 “みんなの平等を求めてここに立っています 何も言わない善良な警察官や ひどいことを行う悪い警察官に抗議します 彼らには私の顔を覚えて 声を聞いてほしいです”（ニューヨークのデモ参加者 マーカス・アレキサンダー・アンドレ氏） “多くの国民は日々おびえながら街を歩いています 昨日今日ではなく月曜も火曜日もです 警察や嫌がらせ人種差別におびえながら 街を歩いているのです 今週末多くの人がこれを感じ彼らの心にも火をつけたでしょう 変化に期待です”（ワシントンのデモ参加者 ジョージ・ピ\n",
      "\n",
      "記事[0]: https://www.bloomberg.co.jp/news/articles/2020-06-08/QBM5BFT0G1KZ01?srnd=cojp-v2 : 取得エラー\n",
      "\n",
      "記事[1]: https://www.bloomberg.co.jp/news/articles/2020-06-08/QBM5BFT0G1KZ01?srnd=cojp-v2 : 00:00BNV JP June 2020 “当局に従うため”というズームの姿勢にブーイング ズームのＥ２Ｅ暗号化は有料顧客のみが対象です ネット上の反発の一因は ＣＥＯ兼創業者のエリック・ユアン氏の発言です “我々がそうする理由はズームが悪い目的で使われた場合 ＦＢＩや地元当局と協力したいから” （ズームのエリック・ユアンＣＥＯ） この発言は鈍感だとＳＮＳで多くの非難がありました 全米における抗議運動中の発言でした ズームの利用をやめ他社に変えるユーザーや 定期契約を解約する人も出ています\n",
      "\n",
      "記事[1]: https://www.bloomberg.co.jp/news/articles/2020-06-08/QBM5BFT0G1KZ01?srnd=cojp-v2 : 取得エラー\n",
      "\n",
      "記事[2]: https://www.bloomberg.co.jp/news/articles/2020-06-08/QBM5BFT0G1KZ01?srnd=cojp-v2 : 00:00BNV JP June 2020 米国とＷＨＯの関係終了で致死的な疾病が懸念されます 国際的な保健組織との関係打ち切りを トランプ大統領が決めました 決定による資金供給の停止で 致死的な疾病の発生を恐れている科学者がいます ポリオや結核などが再流行するかもしれません “非常に失望しています とても重要な多国間の組織から米国が離脱を考えるだけでもです 何の代替案も無しにです 必要なポリオの根絶や他の計画に影響が出る可能性があります” （デービッド・ヘイマン氏） しかし 専門家によると資金は問題の半分にすぎません 米国がもたらす専門知識が 同じぐらい重要なのです\n",
      "\n",
      "記事[2]: https://www.bloomberg.co.jp/news/articles/2020-06-08/QBM5BFT0G1KZ01?srnd=cojp-v2 : 取得エラー\n",
      "\n",
      "記事[3]: https://www.bloomberg.co.jp/news/articles/2020-06-08/QBM5BFT0G1KZ01?srnd=cojp-v2 : 00:00BNV JP June 2020 香港行政長官が米国を“二重基準”と非難 “ここ数週間で非常に鮮明なのは二重基準があることです 米国で騒動があり 地方政府がどう対応したか私たちは見ています 香港で似た騒動があった時の米国の姿勢も見ました” （キャリー・ラム行政長官） “香港に対して制裁を科す正当な理由は一切ありません いかなる政府にも経済にもありません 香港への国家安全法の導入に向け 中央政府や中央当局は 正当な手順を踏んでいるからです”\n",
      "\n",
      "記事[3]: https://www.bloomberg.co.jp/news/articles/2020-06-08/QBM5BFT0G1KZ01?srnd=cojp-v2 : 取得エラー\n",
      "\n",
      "記事[4]: https://www.bloomberg.co.jp/news/articles/2020-06-08/QBM5BFT0G1KZ01?srnd=cojp-v2 : 00:00BNV JP June 2020 “当社は懸命に取り組んできました 方針やシステムを公平で中立一貫して作るためにです グローバル企業なので 方針はグローバルレベルで決め実行します ある特定の動画の対処方法に問題がある場合には 申し立てできます ユーチューブやＳＮＳが可能にしたと言えます 幅広く意見を出し対話に参加することをね 多様な意見が 見られるようになったことは誇りです”（ウォジッキＣＥＯ） “その件は御社の課題です（ルーベンスタイン氏） ソーシャルメディアへの大統領令が出たのは恐らく ツイッターによる大統領選へのコメントにあるでしょう 御社は中国のある出来事でニュースになりまし\n",
      "\n",
      "記事[4]: https://www.bloomberg.co.jp/news/articles/2020-06-08/QBM5BFT0G1KZ01?srnd=cojp-v2 : 取得エラー\n",
      "\n",
      "記事[5]: https://www.bloomberg.co.jp/news/articles/2020-06-08/QBM5BFT0G1KZ01?srnd=cojp-v2 : 00:00BNV JP June 2020 “Ｖ字回復するでしょう 市場の動きがそうなっています 世界中の市場を見ると 20～30％ぐらい上昇しています 新興国と先進国の両方の市場においてです だから 実際にＶ字回復が期待できます”（モビアス氏） “金融市場は中央銀行に動かされています そうなっているのは明らかです 隔たりがあります 実体経済や 市中で実感する社会経済的な影響と違っています 米国では人種差別を巡る運動が起きましたが 市場は この動きを傍観しています 市場や投資家は知っているからです 中央銀行が市場を支えていることをです 最終的にこの状況は破綻しますか？”（ジョンソン） “そう思\n",
      "\n",
      "記事[5]: https://www.bloomberg.co.jp/news/articles/2020-06-08/QBM5BFT0G1KZ01?srnd=cojp-v2 : 取得エラー\n",
      "\n",
      "記事[6]: https://www.bloomberg.co.jp/news/articles/2020-06-08/QBM5BFT0G1KZ01?srnd=cojp-v2 : 00:00BNV JP June 2020 米紙記者たちが編集者に抗議 ニューヨーク・タイムズと フィラデルフィア・インクワイアラーが 自社の記者から反発を受けています 発生している抗議デモの報道を巡る問題です ニューヨーク・タイムズは トム・コットン上院議員の論説を掲載しました “軍隊を送り込め”という見出しの内容に 社内から批判が出ています 当初 ニューヨーク・タイムズは掲載を擁護していましたが 方針転換に踏み切りました “慌ただしい編集プロセスにより 基準を満たさない寄稿が掲載されてしまいました” （アイリーン・マーフィー広報担当） 一方 フィラデルフィア・インクワイアラーの記者は “う\n",
      "\n",
      "記事[6]: https://www.bloomberg.co.jp/news/articles/2020-06-08/QBM5BFT0G1KZ01?srnd=cojp-v2 : 取得エラー\n",
      "\n",
      "記事[7]: https://www.bloomberg.co.jp/news/articles/2020-06-08/QBM5BFT0G1KZ01?srnd=cojp-v2 : 00:00BNV JP June 2020 “ハスの生産者であることに誇りを感じます 新型コロナウイルスから身を守るものに 使用されているのです” ハスの茎から作ったマスク （カンボジア シェムリアップ） “我々サマトア社は環境に配慮し 天然の繊維を使っています（管理者 アリス・サムナン氏） 化学製品は含まれていません 新型コロナウイルス以前は カポック バナナ ハスから織物を作っていました ハスは吸水性 速乾性があり 通気性の良い繊維ができます 通常のマスクよりは高価ですが 100～200回洗って繰り返し使用できます 米国やフランスオーストラリアに輸出しています 最近では大量のマスクを製作し\n",
      "\n",
      "記事[7]: https://www.bloomberg.co.jp/news/articles/2020-06-08/QBM5BFT0G1KZ01?srnd=cojp-v2 : 取得エラー\n",
      "\n",
      "記事[8]: https://www.bloomberg.co.jp/news/articles/2020-06-08/QBM5BFT0G1KZ01?srnd=cojp-v2 : 00:00BNV JP June 2020 コロナウイルス下の生活は暮らしの多くを変えつつあり それをテクノロジーが支えています “テクノロジーの長期トレンドは変わる人々の行動を いかに後押しをするかです”（ＩＢＭ元ＣＥＯ） テクノロジーは特に食料や雑貨の買い物方法を変えています しかし 買い物より大きく変化しているのが働き方です 多くの人が会社支給の電話やＶＰＮ接続を利用し働いています “１日に８億件の接続があり大きく増加しました 在宅勤務によりＶＰＮ接続は 50％増加しています”（ベライゾンＣＥＯ） ウェブエックスやズームなどのサービスを使い 我々は１日に何回テレビ会議をしているでしょう \n",
      "\n",
      "記事[8]: https://www.bloomberg.co.jp/news/articles/2020-06-08/QBM5BFT0G1KZ01?srnd=cojp-v2 : 取得エラー\n",
      "\n",
      "記事[9]: https://www.bloomberg.co.jp/news/articles/2020-06-08/QBM5BFT0G1KZ01?srnd=cojp-v2 : 00:00BNV JP June 2020 インドを襲う最悪の嵐 過去数十年で最多のバッタが発生しました 新型ウイルスや熱波との同時発生です “バッタは８日間以上いれば卵を生み始め 我々の脅威となります”（政府職員プリーティ・ビセ氏） 大音量で音楽を流す村もあります 虫の大群を追い払うためです\n",
      "\n",
      "記事[9]: https://www.bloomberg.co.jp/news/articles/2020-06-08/QBM5BFT0G1KZ01?srnd=cojp-v2 : 取得エラー\n",
      "\n",
      "記事[10]: https://www.bloomberg.co.jp/news/articles/2020-06-08/QBM5BFT0G1KZ01?srnd=cojp-v2 : 00:00BNV JP June 2020 新型コロナワクチンの鍵を握る動物たち 研究者らがフェレットやサルなどで動物実験を行い 新型コロナのワクチンを開発しようとしています 動物実験は 人間ではできないような方法で ワクチンへの反応を確認可能です “多様な動物を試験することで 本質的に人間に見られる変化と似た症状を引き起こせます 手掛かりさえ得られればより大規模な臨床試験を 開始できるのです”（ラルフ・バリック氏） インフルエンザワクチン開発に重要なフェレットは 新型コロナにおいても重要性が示されています また ウイルスが人間の感染にどう影響を与えるのかを 研究者が幅広く検証するため 他の動\n",
      "\n",
      "記事[10]: https://www.bloomberg.co.jp/news/articles/2020-06-08/QBM5BFT0G1KZ01?srnd=cojp-v2 : 取得エラー\n",
      "\n",
      "記事[11]: https://www.bloomberg.co.jp/news/articles/2020-06-08/QBM5BFT0G1KZ01?srnd=cojp-v2 : 00:00BNV JP June 2020 “新型コロナには季節的な変動があると 予測するのは理にかなっていると思います 多くの呼吸器系ウイルスと同様です” 新型コロナは冬に悪化しますか？ “推測ではありますが 実験では気温と湿度を高くした場合 ウイルスは弱くなりました 生存期間は短くなり 生存率は低下しました つまり気温と湿度が高ければ高いほど ウイルスにとっては複製と生存が困難です より涼しく乾燥している方がウイルスにとっては有利です 環境汚染が感染拡大に関与する度合いも より涼しく乾燥した月に高い傾向があります 人々が屋内にいる時は同じ物の表面を より頻繁に触れるということもあります で\n",
      "\n",
      "記事[11]: https://www.bloomberg.co.jp/news/articles/2020-06-08/QBM5BFT0G1KZ01?srnd=cojp-v2 : 取得エラー\n",
      "\n",
      "記事[12]: https://www.bloomberg.co.jp/news/articles/2020-06-08/QBM5BFT0G1KZ01?srnd=cojp-v2 : 00:00BNV JP May 2020 未来の病室 イスラエルの医療センターが “スマートルーム”の開発を進めています “私たちが予測しようとしているのは 10年後 医療サービスがどうなっているかです すでに 私たちは多くの方向性や傾向について 明らかにしています ずっと前から取り組みを進めてきました 新しいテクノロジーに対して受け身でいたくありません それらのテクノロジーを率先して必要な場所に導入し 大切な患者のために役立てたいのです” （アミタイ・ジブ氏） 開発者と医師たちがテストしているのは 遠隔通信を可能にするロボットです 患者が簡単なセルフチェックを行うことができます “グッドマン\n",
      "\n",
      "記事[12]: https://www.bloomberg.co.jp/news/articles/2020-06-08/QBM5BFT0G1KZ01?srnd=cojp-v2 : 取得エラー\n",
      "\n",
      "記事[13]: https://www.bloomberg.co.jp/news/articles/2020-06-08/QBM5BFT0G1KZ01?srnd=cojp-v2 : 00:00BNV JP June 2020 “３ ２ １ ０ 点火 発射 クルー・ドラゴンを搭載したファルコン９です” ようやく実現しました 創業から18年 これまでに商業衛星の打ち上げや 国際宇宙ステーションへの補給物資の輸送を始めました テスラもあります そして ついにスペースＸは２人の宇宙飛行士 ボブ・ベンケンとダグ・ハーレーを 宇宙空間に送りました 今回の任務は「デモ２」と呼ばれ 同社の新しい宇宙船による初めての有人飛行です 約24時間 飛行し 飛行士たちが一時的に滞在する国際宇宙ステーションに ドッキングします その後 飛行士たちはそこで仕事をし ＮＡＳＡが決めるまで滞在します 全て\n",
      "\n",
      "記事[13]: https://www.bloomberg.co.jp/news/articles/2020-06-08/QBM5BFT0G1KZ01?srnd=cojp-v2 : 取得エラー\n",
      "\n",
      "記事[14]: https://www.bloomberg.co.jp/news/articles/2020-06-08/QBM5BFT0G1KZ01?srnd=cojp-v2 : 00:00BNV JP June 2020 “中継中の逮捕です ＣＮＮの取材と事前に伝えています” 抗議デモを生中継中のＣＮＮ記者を警察が逮捕 “我々はＣＮＮです今生中継中です” “指示の場所に移動します 今 生中継中です ミネソタ州警察がＣＮＮのオマー・ヒメネス記者と クルーを一時拘束しました” 黒人男性ジョージ・フロイドさんの死を受けた ミネアポリスのデモを取材中でした “逮捕する” “では容疑を教えていただけますか？ なぜ逮捕されるのですか？” 拘束の一部始終をカメラは記録していました その後 釈放されました ミネソタ州のティム・ウォルツ知事はこの逮捕を “全く容認できない”と謝罪しまし\n",
      "\n",
      "記事[14]: https://www.bloomberg.co.jp/news/articles/2020-06-08/QBM5BFT0G1KZ01?srnd=cojp-v2 : 取得エラー\n",
      "\n",
      "記事[15]: https://www.bloomberg.co.jp/news/articles/2020-06-08/QBM5BFT0G1KZ01?srnd=cojp-v2 : 00:00BNV JP May 2020 “テスラ・キラーとも呼ばれます” （トム・マッケンジー記者） 中国の“テスラ・キラー”に試乗 “これが小鵬汽車の中国製ＥＶ‘Ｐ７’ 0-100km/h加速4.3秒はかなりのものです テスラ‘モデル３’に匹敵するそうです 航続距離は中国版テスラより長く Ｐ７は706キロです モデル３は668キロですからね 価格帯は３万～５万ドルなので モデル３より低価格です アリババ・グループ・ホールディングの出資があり ソフト ハードともに充実しています エヌビディアやクアルコムの半導体など米技術が多用されます ハードの多くは米国製ですが ソフトは中国製が多いです 小\n",
      "\n",
      "記事[15]: https://www.bloomberg.co.jp/news/articles/2020-06-08/QBM5BFT0G1KZ01?srnd=cojp-v2 : 取得エラー\n",
      "\n",
      "記事[16]: https://www.bloomberg.co.jp/news/articles/2020-06-08/QBM5BFT0G1KZ01?srnd=cojp-v2 : 00:00BNV JP May 2020 イタリアのロックダウンから脱した米国人旅行者 コリーン＆マービン・ヒューソン夫妻は ポンペイ再開の列に先頭で並んでいました ３月初めからイタリアで足止めされてきたのです “私たちに手の出せる航空便は一切なく 便があっても予約前に埋まってしまいました 親族から国の状況を聞き子供たちが 私たちはこちらにいた方が安全だと判断しました 小さい町ですし イタリア人は規律正しいですから マスクや手袋の着用も気にしません 我慢強く 距離も保ちます”（米国人旅行者 コリーン・ヒューソンさん）\n",
      "\n",
      "記事[16]: https://www.bloomberg.co.jp/news/articles/2020-06-08/QBM5BFT0G1KZ01?srnd=cojp-v2 : 取得エラー\n",
      "\n",
      "記事[17]: https://www.bloomberg.co.jp/news/articles/2020-06-08/QBM5BFT0G1KZ01?srnd=cojp-v2 : 00:00BNV JP May 2020 地中海で見つかった新型コロナウイルスのごみ フランスの環境保護団体である オペラシオン・メール・プロプルの ダイバーはこれまで プラスチックや瓶 缶を収集してきました しかし現在見つかるのは新型コロナウイルスのごみです これは始まりにすぎないと彼らは恐れています “何もしなければ 汚染が進む最初の兆しになります 雨が降り始めたらすぐに全てのごみが排水路から 私たちの美しいコートダジュールに流れてきます 数週間後にはより多くのごみが出るでしょう” （創設者ジェフリー・ペルティエ氏） パリでは道路の清掃作業員も 道に捨てられたマスクの増加を指摘しています\n",
      "\n",
      "記事[17]: https://www.bloomberg.co.jp/news/articles/2020-06-08/QBM5BFT0G1KZ01?srnd=cojp-v2 : 取得エラー\n",
      "\n"
     ]
    },
    {
     "name": "stdout",
     "output_type": "stream",
     "text": [
      "記事[18]: https://www.bloomberg.co.jp/news/articles/2020-06-08/QBM5BFT0G1KZ01?srnd=cojp-v2 : 00:00BNV JP May 2020 ロボットが接客するモールへようこそ これは リサ 客の探し物を手助けする 情報サービスアシスタントです ケアロボットのロックは 体温を測定します ＰＰは 公衆衛生のアナウンスを行います Ｋ９は 除菌ローションをのせてモールを歩き回ります “正直 すごく驚きました 馬のひづめのような音がします でも いいと思います” （買い物客 ウォラヴィット・パタラニットさん） このモールのオーナーがタイ全土に所有する33の店舗は ２カ月間 閉店していました ロボットによる接客が 客の戻りにつながるよう期待しています “皆 興味津々です 特に 子供はロボットが大好きで\n",
      "\n",
      "記事[18]: https://www.bloomberg.co.jp/news/articles/2020-06-08/QBM5BFT0G1KZ01?srnd=cojp-v2 : 取得エラー\n",
      "\n",
      "記事[19]: https://www.bloomberg.co.jp/news/articles/2020-06-08/QBM5BFT0G1KZ01?srnd=cojp-v2 : 00:00BNV JP May 2020 “オープンオフィスの不要論は数年ごとに出ています ついに絶滅するでしょうか？”（サラ・ホルダー） オープンオフィスは新型コロナウイルス後も残るか？ “企業はオープンオフィスを好みます 不動産コストを削減できて 同じフロアに大人数を収容できます 仕事が円滑に進むと考えているようですが プライバシーがないため従業員には不人気です 各自の場所も確保できません 新型コロナウイルスの感染が広がる今 新たな課題に直面しています この先 オフィスはどうなるのでしょう？ 企業も模索しているところです しかしオフィスに入って退勤するまで 今までとは様子が異なるでしょう \n",
      "\n",
      "記事[19]: https://www.bloomberg.co.jp/news/articles/2020-06-08/QBM5BFT0G1KZ01?srnd=cojp-v2 : 取得エラー\n",
      "\n",
      "記事[20]: https://www.bloomberg.co.jp/news/articles/2020-06-08/QBM5BFT0G1KZ01?srnd=cojp-v2 : 00:00BNV JP May 2020 新型コロナウイルスでキャンプの需要増 キャンピングカーの販売店が狙っているのは 飛行機での移動や新型コロナの第２波に 恐れを感じている米国人たちです 失業は増えていますが販売会社やレンタル会社によると キャンピングカーへの関心はインターネットで急増しています 米国人は最大10万ドルまで払うつもりがあります ベッドやキッチン付きのキャンピングカーにです そしてワクチンの普及を待ちます ソーシャルディスタンシングにおいて 最も安全な休暇の過ごし方はキャンプだと考えられています （情報：キャンプグラウンド・オブ・アメリカ） 米国にはキャンピングカー用の民間公\n",
      "\n",
      "記事[20]: https://www.bloomberg.co.jp/news/articles/2020-06-08/QBM5BFT0G1KZ01?srnd=cojp-v2 : 取得エラー\n",
      "\n",
      "記事[21]: https://www.bloomberg.co.jp/news/articles/2020-06-08/QBM5BFT0G1KZ01?srnd=cojp-v2 : 00:00BNV JP May 2020 笑顔の見えるマスク イタリアのディエンピ社が透明なマスクを作っています 唇を読む必要のある聴覚障害者のための物でしたが 今は企業でも使われています “透明なマスクはみんなのための物です このマスクを使うことで 誰でも楽にコミュニケーションできます 言葉だけでなくジェスチャーや 表情 唇の動きも使えますから キスだって送れますよ”（ディエンピ社マリーニＣＥＯ） 中央の透明なシートはポリウレタン製です シートをマスク生地に密着させるため 熱で溶接し縫い合わせています 値段は１枚７ドルほどです\n",
      "\n",
      "記事[21]: https://www.bloomberg.co.jp/news/articles/2020-06-08/QBM5BFT0G1KZ01?srnd=cojp-v2 : 取得エラー\n",
      "\n",
      "記事[22]: https://www.bloomberg.co.jp/news/articles/2020-06-08/QBM5BFT0G1KZ01?srnd=cojp-v2 : 00:00BNV JP May 2020 新型コロナのワクチンを接種しますか？ 接種を望む米国人は49％です（情報：ＡＰ－ＮＯＲＣ） “候補のワクチンにも 副作用の心配があります このワクチンに関する風説は多く 逆に感染するとも言われます”（ＮＯＲＣ ケイトリン・ オッペンハイマー氏） 調査では ワクチンを接種するか分からないという人が31％で 接種しないという人が20％でした\n",
      "\n",
      "記事[22]: https://www.bloomberg.co.jp/news/articles/2020-06-08/QBM5BFT0G1KZ01?srnd=cojp-v2 : 取得エラー\n",
      "\n",
      "記事[23]: https://www.bloomberg.co.jp/news/articles/2020-06-08/QBM5BFT0G1KZ01?srnd=cojp-v2 : 00:00BNV JP May 2020 経済活動再開の米国隔離疲れ広がる “隔離生活によって増す不安感は 心身の重荷になります それが‘隔離疲れ’です”（精神科のファノオス科長） ある調査で 米国人の30％が不安状態だと分かりました “自主隔離が始まった当初 感染しない居場所があって人々は安心したと思います ですが 時が過ぎ 死亡率や感染率は低下しました 人々は 家にいる恩恵が減ったと感じているようです むしろ負担と感じるようになってきました これは少々危険です 死亡率や感染率が低下しても 社会的距離の基準や指針が解除されれば 再び感染率が急上昇する可能性があるからです いわば偽の安心感です\n",
      "\n",
      "記事[23]: https://www.bloomberg.co.jp/news/articles/2020-06-08/QBM5BFT0G1KZ01?srnd=cojp-v2 : 取得エラー\n",
      "\n",
      "記事[24]: https://www.bloomberg.co.jp/news/articles/2020-06-08/QBM5BFT0G1KZ01?srnd=cojp-v2 : 00:00BNV JP May 2020 消費者として 規格外のものも受け入れなければなりません なぜなら 完璧なものは不自然だからです “食品ロスを減らすクラウドファーミング” 私は農家と消費者を直接つなぐ食料サプライチェーン クラウドファーミング共同創業者兼ＣＥＯゴンザロ・ウルクロです 私たちの農場で クラウドファーミングを始めたのは 従来の食料サプライチェーンに不満があったからです 農場を訪ねてくる消費者は食べ物に懸念を唱えます 特にＣＯＶＩＤ１９の影響で 以前より多くの人が食品の出どころや 生産方法を気にするようになりました お店には 情報のない商品があふれていますが 消費者としてあな\n",
      "\n",
      "記事[24]: https://www.bloomberg.co.jp/news/articles/2020-06-08/QBM5BFT0G1KZ01?srnd=cojp-v2 : 取得エラー\n",
      "\n",
      "記事[25]: https://www.bloomberg.co.jp/news/articles/2020-06-08/QBM5BFT0G1KZ01?srnd=cojp-v2 : Photographer: PHILIP FONG/AFP Photographer: PHILIP FONG/AFP12日の日本株は続落した。米国で新型コロナウイルスの感染第２波が懸念され、景気回復期待による急ピッチの株高に変調の兆しが出ている。為替市場では円が午後に軟化し、債券相場は伸び悩んだ。ＴＯＰＩＸの終値は前日比18.24ポイント（1.2％）安の1570.68日経平均株価は167円43銭（0.8％）安の２万2305円48銭ドル・円相場は107円10銭前後長期国債先物６月物は前日比２銭高の152円19銭フロリダ州で感染が加速、テキサス州で外出制限令の再発令の可能性が浮上するなど、経済活\n",
      "\n",
      "記事[25]: https://www.bloomberg.co.jp/news/articles/2020-06-08/QBM5BFT0G1KZ01?srnd=cojp-v2 : 取得エラー\n",
      "\n",
      "記事[26]: https://www.bloomberg.co.jp/news/articles/2020-06-08/QBM5BFT0G1KZ01?srnd=cojp-v2 : Photographer: NanoStockk/iStockphoto Photographer: NanoStockk/iStockphotoツイッターやチャットルームでポピュラーになった「株価は上昇するだけ」を信じて米国株上昇に賭ける戦略に最近 転向した人は、これが思ったほど万全な戦略ではなかったことを思い知らされた。もともと皮肉まじりだったかもしれないこの戦略は、11日の米株式市場で痛烈な否定に見舞われた。Ｓ＆Ｐ500種株価指数は約６％下落し、時価総額２兆ドル（約213兆円）近くが吹き飛んだ。売りが特にかさんだのは航空やエネルギー、銀行など、ここ１カ月で株式に殺到した多くの 個人投資家\n",
      "\n",
      "記事[26]: https://www.bloomberg.co.jp/news/articles/2020-06-08/QBM5BFT0G1KZ01?srnd=cojp-v2 : 取得エラー\n",
      "\n",
      "記事[27]: https://www.bloomberg.co.jp/news/articles/2020-06-08/QBM5BFT0G1KZ01?srnd=cojp-v2 : Photographer: Kiyoshi Ota/Bloomberg Photographer: Kiyoshi Ota/Bloomberg1日を始める前に押さえておきたい世界のニュースを毎朝お届け。ブルームバーグのニュースレターへの登録はこちら。近日、配信をスタートします。新型コロナウイルス感染症対策として日本銀行が打ち出した大規模な金融支援策も、邦銀と日銀との間に生じた溝を埋めるまでには至っていない。邦銀の多くが今なお日銀のマイナス金利政策に強く反発しているからだ。総枠75兆円の資金繰り支援策は銀行業界から歓迎されている。もっとも、複数の邦銀中枢幹部はブルームバーグのインタビューで、マイ\n",
      "\n",
      "記事[27]: https://www.bloomberg.co.jp/news/articles/2020-06-08/QBM5BFT0G1KZ01?srnd=cojp-v2 : 取得エラー\n",
      "\n",
      "記事[28]: https://www.bloomberg.co.jp/news/articles/2020-06-08/QBM5BFT0G1KZ01?srnd=cojp-v2 : Photographer: Joe Raedle/Getty Images North America Photographer: Joe Raedle/Getty Images North America1日を始める前に押さえておきたい世界のニュースを毎朝お届け。ブルームバーグのニュースレターへの登録はこちら。近日、配信をスタートします。世界の新型コロナウイルス感染者は750万人を 突破した。インドの感染者は１日で約１万人増加した。米国で新型コロナの第２波が起こる懸念などで米株式相場が11日に急落した後、12日のアジア株式市場も下げている。シンガポールのローレンス・ウォン国家開発相は、同国が\n",
      "\n",
      "記事[28]: https://www.bloomberg.co.jp/news/articles/2020-06-08/QBM5BFT0G1KZ01?srnd=cojp-v2 : 取得エラー\n",
      "\n",
      "記事[29]: https://www.bloomberg.co.jp/news/articles/2020-06-08/QBM5BFT0G1KZ01?srnd=cojp-v2 : Photographer: samxmeg/iStockphoto Photographer: samxmeg/iStockphoto動く銘柄なら何でも買おうと 個人投資家が殺到していた米株式市場。今見られる急激な相場反転は、多かれ少なかれ避けられないものだった。これはブルームバーグ・インテリジェンスのジーナ・マーティン・アダムス氏が48時間前に発した警鐘だ。ちょうどその時点がＳ＆Ｐ500種株価指数の３日連続安の起点で、同氏は投資家が過度に楽観的で、市場センチメントは過熱していたため相場反落の要因になるとみていた。同氏は「３月の安値からの力強い反騰で、ついにモメンタムの過熱シグナルが点灯した。\n",
      "\n",
      "記事[29]: https://www.bloomberg.co.jp/news/articles/2020-06-08/QBM5BFT0G1KZ01?srnd=cojp-v2 : 取得エラー\n",
      "\n",
      "記事[30]: https://www.bloomberg.co.jp/news/articles/2020-06-08/QBM5BFT0G1KZ01?srnd=cojp-v2 : 香港のヘッジファンド、 オアシス・マネジメントが東京オフィスを開設したことが12日、分かった。今後数人のアナリストを雇い、日本企業の調査業務を行う。ヘッジファンドはプライベート・エクイティ（ＰＥ）ファンドなどに比べて比較的小所帯であり、海外勢が日本に拠点を構える例は珍しい。フィッシャー氏（香港、2018年５月） Photographer: Anthony Kwan/Bloombergオアシスは４月に東京・港区西新橋に 拠点を開設。創業者で最高投資責任者（ＣＩＯ）のセス・フィッシャー氏はブルームバーグの取材に対し、東京オフィスは日本企業への調査拠点の役割を担うとし、さらに長期にわたって日本に根を\n",
      "\n",
      "記事[30]: https://www.bloomberg.co.jp/news/articles/2020-06-08/QBM5BFT0G1KZ01?srnd=cojp-v2 : 取得エラー\n",
      "\n",
      "記事[31]: https://www.bloomberg.co.jp/news/articles/2020-06-08/QBM5BFT0G1KZ01?srnd=cojp-v2 : Photographer: Gabby Jones/Bloomberg Photographer: Gabby Jones/Bloombergビデオ会議システムを提供する米 ズーム・ビデオ・コミュニケーションズは、中国政府の求めに応じて米国を拠点とする中国人の人権活動家のアカウントを一時停止した。中国政府が世界的に検閲を強めているとの懸念が広がっている。ズームは11日のブログ投稿で、ソーシャルメディアで告知されていた31年前の「天安門事件」を伝えるバーチャル会合に関し、先月と今月上旬に中国政府の当局者が接触してきたことを明らかにした。違法と見なされている活動を理由に会合と主催者のアカウントを終\n",
      "\n",
      "記事[31]: https://www.bloomberg.co.jp/news/articles/2020-06-08/QBM5BFT0G1KZ01?srnd=cojp-v2 : 取得エラー\n",
      "\n",
      "記事[32]: https://www.bloomberg.co.jp/news/articles/2020-06-08/QBM5BFT0G1KZ01?srnd=cojp-v2 : Photographer: BRENDAN SMIALOWSKI/AFP Photographer: BRENDAN SMIALOWSKI/AFP電気自動車メーカーの米 テスラの株価は、イーロン・マスク最高経営責任者（ＣＥＯ）が５月に 高過ぎるとの認識を示してから数週間にわたり大幅上昇している。マスクＣＥＯはこうした状況について、インターネット用語を使って再びツイートした。10日にテスラ株が９％上昇し、終値ベースの上場来高値1025.05ドルに達した後のマスクＣＥＯの最初の投稿は「lol」。これは大爆笑を意味する「laughing out loud」の略。lol — Elon Musk (@e\n",
      "\n",
      "記事[32]: https://www.bloomberg.co.jp/news/articles/2020-06-08/QBM5BFT0G1KZ01?srnd=cojp-v2 : 取得エラー\n",
      "\n",
      "記事[33]: https://www.bloomberg.co.jp/news/articles/2020-06-08/QBM5BFT0G1KZ01?srnd=cojp-v2 : Photographer: David Paul Morris/Bloomberg Photographer: David Paul Morris/Bloomberg米連邦破産法11条の適用を申請したレンタカー会社 ハーツ・グローバル・ホールディングスは、株価上昇の機を捉え、最大10億ドル（約1070億円）相当の新株を売り出すことを認めるよう破産裁判所の判事に要請している。通常なら破綻企業の株式の価値は帳消しになるが、ハーツは２週間にわたる株価の大幅上昇を受け、米 ジェフリーズの協力を得て最大２億4678万株の普通株の売り出しを計画している。裁判所への 提出書類で明らかになった。メアリー・ウォ\n",
      "\n",
      "記事[33]: https://www.bloomberg.co.jp/news/articles/2020-06-08/QBM5BFT0G1KZ01?srnd=cojp-v2 : 取得エラー\n",
      "\n",
      "記事[34]: https://www.bloomberg.co.jp/news/articles/2020-06-08/QBM5BFT0G1KZ01?srnd=cojp-v2 : ６月第３週（15日－19日）の債券相場はリスク回避の買いに支えられて底堅く推移すると予想されている。半面、長期債利回りがマイナス圏に沈むと敬遠されて、相場の上値が重くなるとの見方も出ている。市場参加者の見方◎岡三証券の鈴木誠債券シニアストラテジスト投資家のリスク回避姿勢が強まりやすい環境で、債券相場はしっかりした動きを続けよう国債増発などから国債利回りには上昇圧力がかかりやすい環境だが、日銀は過度な利回り上昇は抑える姿勢を維持しようマイナス利回りの国債を積極的に買い進む動きは限られようが、利回りが上昇すれば投資家の押し目買いが期待できよう長期金利の予想レンジはマイナス0.03％～プラス0.02\n",
      "\n",
      "記事[34]: https://www.bloomberg.co.jp/news/articles/2020-06-08/QBM5BFT0G1KZ01?srnd=cojp-v2 : 取得エラー\n",
      "\n"
     ]
    },
    {
     "name": "stdout",
     "output_type": "stream",
     "text": [
      "記事[35]: https://www.bloomberg.co.jp/news/articles/2020-06-08/QBM5BFT0G1KZ01?srnd=cojp-v2 : 「ハローキティ」などキャラクター商品を企画、販売する サンリオは12日、７月１日付で辻朋邦専務（31）が社長に昇格すると発表した。1960年の創業以来、長年トップを務めてきた辻信太郎社長（92）は代表権のある会長に就く。朋邦新社長は信太郎氏の孫で、2014年に入社した。16年に取締役、17年６月から専務となり、中期経営計画の策定やマーケティング部門の創設に携わってきた。８月26日に開く定時株主総会で正式決定される予定だ。同時に意思決定の迅速化を図るため、取締役人数を現在の14人から９人に減らし、将来的に独立社外取締役の構成比を増やす考えも示した。サンリオが同日発表した20年３月期決算は海外での\n",
      "\n",
      "記事[35]: https://www.bloomberg.co.jp/news/articles/2020-06-08/QBM5BFT0G1KZ01?srnd=cojp-v2 : 取得エラー\n",
      "\n",
      "記事[36]: https://www.bloomberg.co.jp/news/articles/2020-06-08/QBM5BFT0G1KZ01?srnd=cojp-v2 : Photographer: Tomohiro Ohsumi/Getty Images AsiaPac Photographer: Tomohiro Ohsumi/Getty Images AsiaPac新型コロナウイルス感染拡大に伴う追加対策を盛り込んだ2020年度 第２次補正予算が、12日の参院本会議で賛成多数で可決・成立した。予算規模は過去最大の31.9兆円。コロナ対応の経済対策の事業規模が234兆円と国内総生産（ＧＤＰ）の４割に達する中、国債の追加発行により財政状況は悪化する。第２次補正予算は、４月末の １次補正成立後から１カ月半弱で成立。新たに家賃支援給付金約２兆円が盛り込まれたほか、\n",
      "\n",
      "記事[36]: https://www.bloomberg.co.jp/news/articles/2020-06-08/QBM5BFT0G1KZ01?srnd=cojp-v2 : 取得エラー\n",
      "\n",
      "記事[37]: https://www.bloomberg.co.jp/news/articles/2020-06-08/QBM5BFT0G1KZ01?srnd=cojp-v2 : 東京都の小池百合子知事は12日夕に臨時記者会見を開き、任期満了に伴う都知事選（18日告示、７月５日投開票）への出馬を表明した。再選を目指す。小池氏は出馬表明のタイミングについて、同日午後の知事定例会見で、新型コロナウイルス対策を盛り込んだ補正予算が10日に成立し、都民に感染拡大への警戒を呼び掛ける「東京アラート」の解除でコロナ対策に「一つの区切り」が付いたためと説明した。小池氏は東京都のコロナ対応を指揮。記者会見や動画配信で連日のように情報発信し、存在感を見せた。６月２日には「東京アラート」を発動したが、新規感染者の増加が一定程度に抑え込むことができたとして11日に解除。休業要請緩和も12日か\n",
      "\n",
      "記事[37]: https://www.bloomberg.co.jp/news/articles/2020-06-08/QBM5BFT0G1KZ01?srnd=cojp-v2 : 取得エラー\n",
      "\n",
      "記事[38]: https://www.bloomberg.co.jp/news/articles/2020-06-08/QBM5BFT0G1KZ01?srnd=cojp-v2 : ソニーは12日、年末商戦期に投入する次世代ゲーム機「プレイステーション（ＰＳ）５」向けの28ソフトを発表した。ソフトのほとんどがＰＳ５で独占販売される。 スパイダーマンなどＰＳシリーズでの人気ソフトのほか、カプコンのバイオハザードやスクウェア・エニックス・ホールディングスの新作も含まれる。主なソフト 制作 マーベル スパイダーマン: マイルズ・モラレス ソニー グランツーリスモ７ ホライゾン 禁じられた西部 バイオハザード ヴィレッジ カプコン ＰＲＯＪＥＣＴ ＡＴＨＩＡ スクエニＨ本体のデザインも初めて公表された。ディスクドライブの有無で２種類のモデルがある。本体価格や発売日は公表しなかった\n",
      "\n",
      "記事[38]: https://www.bloomberg.co.jp/news/articles/2020-06-08/QBM5BFT0G1KZ01?srnd=cojp-v2 : 取得エラー\n",
      "\n",
      "記事[39]: https://www.bloomberg.co.jp/news/articles/2020-06-08/QBM5BFT0G1KZ01?srnd=cojp-v2 : Photographer: Patrick T. Fallon/Bloomberg Photographer: Patrick T. Fallon/Bloomberg1日を始める前に押さえておきたい世界のニュースを毎朝お届け。ブルームバーグのニュースレターへの登録はこちら。近日、配信をスタートします。中国ソーシャルメディア界の大手企業、 テンセント・ホールディングス（騰訊）は守りが堅い日本の娯楽業界から何年もはねつけられてきたが、ここにきて日本の著名なアニメ・漫画制作関連企業に再び秋波を送っている。過去数カ月にテンセントは マーベラスと、大ヒットとなったビデオゲーム「NieR:Automata\n",
      "\n",
      "記事[39]: https://www.bloomberg.co.jp/news/articles/2020-06-08/QBM5BFT0G1KZ01?srnd=cojp-v2 : 取得エラー\n",
      "\n",
      "記事[40]: https://www.bloomberg.co.jp/news/articles/2020-06-08/QBM5BFT0G1KZ01?srnd=cojp-v2 : 血液型を左右する遺伝子の違いが、新型コロナウイルスの感染と症状に影響する可能性がある。消費者向け遺伝子検査サービス大手、米２３アンド・ミーが調査の暫定結果として発表した。感染しても無症状の人がいる一方で、重篤になるまで症状が悪化する人がいる原因を突き止めようと、遺伝子に着目した調査が広く実施されている。２３アンド・ミーは４月、同社データベースに保管されている数百万人分のＤＮＡ情報を用いて、この研究を開始していた。同社が８日発表した暫定結果によれば、血液型Ｏ型の人が特に新型コロナウイルスに感染しにくい。この調査には75万人以上が参加したという。血液型遺伝子の種類と新型コロナウイルスに何らかの関連\n",
      "\n",
      "記事[40]: https://www.bloomberg.co.jp/news/articles/2020-06-08/QBM5BFT0G1KZ01?srnd=cojp-v2 : 取得エラー\n",
      "\n"
     ]
    }
   ],
   "source": [
    " for item in range(len(website.articles)):\n",
    "....:       csvlist = []\n",
    "....:       website_article = website.articles[item]\n",
    "....:       try:\n",
    "....:            website_article.download()\n",
    "....:            website_article.parse()\n",
    "....:            website_article.nlp()\n",
    "....:            print(\"記事[\" + str(item) + \"]: \"+ website_article_url +\" : \"\n",
    "....:                      + website_article.summary + \"\\n\")\n",
    "....:            csvlist.append(str(item))\n",
    "....:            csvlist.append(website_article.url)\n",
    "....:            csvlist.append(website_article.summary)\n",
    "....:            writer.writerow(csvlist)\n",
    "....:       except:\n",
    "....:            print(\"記事[\" + str(item) + \"]: \"+ website_article_url +\" : \"\n",
    "....:                      + \"取得エラー\" + \"\\n\")\n",
    "....:            continue\n",
    "....: f.close()"
   ]
  },
  {
   "cell_type": "code",
   "execution_count": 44,
   "metadata": {
    "collapsed": true
   },
   "outputs": [
    {
     "name": "stdout",
     "output_type": "stream",
     "text": [
      "記事[0]: https://www.bloomberg.co.jp/news/articles/2020-06-08/QBM5BFT0G1KZ01?srnd=cojp-v2 : 00:00BNV JP June 2020 “暴力を説いているのではなく平等を訴えているんです” 平和的デモ参加者の声 “みんなの平等を求めてここに立っています 何も言わない善良な警察官や ひどいことを行う悪い警察官に抗議します 彼らには私の顔を覚えて 声を聞いてほしいです”（ニューヨークのデモ参加者 マーカス・アレキサンダー・アンドレ氏） “多くの国民は日々おびえながら街を歩いています 昨日今日ではなく月曜も火曜日もです 警察や嫌がらせ人種差別におびえながら 街を歩いているのです 今週末多くの人がこれを感じ彼らの心にも火をつけたでしょう 変化に期待です”（ワシントンのデモ参加者 ジョージ・ピ\n",
      "\n",
      "記事[0]: https://www.bloomberg.co.jp/news/articles/2020-06-08/QBM5BFT0G1KZ01?srnd=cojp-v2 : 取得エラー\n",
      "\n",
      "記事[1]: https://www.bloomberg.co.jp/news/articles/2020-06-08/QBM5BFT0G1KZ01?srnd=cojp-v2 : 00:00BNV JP June 2020 “当局に従うため”というズームの姿勢にブーイング ズームのＥ２Ｅ暗号化は有料顧客のみが対象です ネット上の反発の一因は ＣＥＯ兼創業者のエリック・ユアン氏の発言です “我々がそうする理由はズームが悪い目的で使われた場合 ＦＢＩや地元当局と協力したいから” （ズームのエリック・ユアンＣＥＯ） この発言は鈍感だとＳＮＳで多くの非難がありました 全米における抗議運動中の発言でした ズームの利用をやめ他社に変えるユーザーや 定期契約を解約する人も出ています\n",
      "\n",
      "記事[1]: https://www.bloomberg.co.jp/news/articles/2020-06-08/QBM5BFT0G1KZ01?srnd=cojp-v2 : 取得エラー\n",
      "\n",
      "記事[2]: https://www.bloomberg.co.jp/news/articles/2020-06-08/QBM5BFT0G1KZ01?srnd=cojp-v2 : 00:00BNV JP June 2020 米国とＷＨＯの関係終了で致死的な疾病が懸念されます 国際的な保健組織との関係打ち切りを トランプ大統領が決めました 決定による資金供給の停止で 致死的な疾病の発生を恐れている科学者がいます ポリオや結核などが再流行するかもしれません “非常に失望しています とても重要な多国間の組織から米国が離脱を考えるだけでもです 何の代替案も無しにです 必要なポリオの根絶や他の計画に影響が出る可能性があります” （デービッド・ヘイマン氏） しかし 専門家によると資金は問題の半分にすぎません 米国がもたらす専門知識が 同じぐらい重要なのです\n",
      "\n",
      "記事[2]: https://www.bloomberg.co.jp/news/articles/2020-06-08/QBM5BFT0G1KZ01?srnd=cojp-v2 : 取得エラー\n",
      "\n",
      "記事[3]: https://www.bloomberg.co.jp/news/articles/2020-06-08/QBM5BFT0G1KZ01?srnd=cojp-v2 : 00:00BNV JP June 2020 香港行政長官が米国を“二重基準”と非難 “ここ数週間で非常に鮮明なのは二重基準があることです 米国で騒動があり 地方政府がどう対応したか私たちは見ています 香港で似た騒動があった時の米国の姿勢も見ました” （キャリー・ラム行政長官） “香港に対して制裁を科す正当な理由は一切ありません いかなる政府にも経済にもありません 香港への国家安全法の導入に向け 中央政府や中央当局は 正当な手順を踏んでいるからです”\n",
      "\n",
      "記事[3]: https://www.bloomberg.co.jp/news/articles/2020-06-08/QBM5BFT0G1KZ01?srnd=cojp-v2 : 取得エラー\n",
      "\n",
      "記事[4]: https://www.bloomberg.co.jp/news/articles/2020-06-08/QBM5BFT0G1KZ01?srnd=cojp-v2 : 00:00BNV JP June 2020 “当社は懸命に取り組んできました 方針やシステムを公平で中立一貫して作るためにです グローバル企業なので 方針はグローバルレベルで決め実行します ある特定の動画の対処方法に問題がある場合には 申し立てできます ユーチューブやＳＮＳが可能にしたと言えます 幅広く意見を出し対話に参加することをね 多様な意見が 見られるようになったことは誇りです”（ウォジッキＣＥＯ） “その件は御社の課題です（ルーベンスタイン氏） ソーシャルメディアへの大統領令が出たのは恐らく ツイッターによる大統領選へのコメントにあるでしょう 御社は中国のある出来事でニュースになりまし\n",
      "\n",
      "記事[4]: https://www.bloomberg.co.jp/news/articles/2020-06-08/QBM5BFT0G1KZ01?srnd=cojp-v2 : 取得エラー\n",
      "\n",
      "記事[5]: https://www.bloomberg.co.jp/news/articles/2020-06-08/QBM5BFT0G1KZ01?srnd=cojp-v2 : 00:00BNV JP June 2020 “Ｖ字回復するでしょう 市場の動きがそうなっています 世界中の市場を見ると 20～30％ぐらい上昇しています 新興国と先進国の両方の市場においてです だから 実際にＶ字回復が期待できます”（モビアス氏） “金融市場は中央銀行に動かされています そうなっているのは明らかです 隔たりがあります 実体経済や 市中で実感する社会経済的な影響と違っています 米国では人種差別を巡る運動が起きましたが 市場は この動きを傍観しています 市場や投資家は知っているからです 中央銀行が市場を支えていることをです 最終的にこの状況は破綻しますか？”（ジョンソン） “そう思\n",
      "\n",
      "記事[5]: https://www.bloomberg.co.jp/news/articles/2020-06-08/QBM5BFT0G1KZ01?srnd=cojp-v2 : 取得エラー\n",
      "\n",
      "記事[6]: https://www.bloomberg.co.jp/news/articles/2020-06-08/QBM5BFT0G1KZ01?srnd=cojp-v2 : 00:00BNV JP June 2020 米紙記者たちが編集者に抗議 ニューヨーク・タイムズと フィラデルフィア・インクワイアラーが 自社の記者から反発を受けています 発生している抗議デモの報道を巡る問題です ニューヨーク・タイムズは トム・コットン上院議員の論説を掲載しました “軍隊を送り込め”という見出しの内容に 社内から批判が出ています 当初 ニューヨーク・タイムズは掲載を擁護していましたが 方針転換に踏み切りました “慌ただしい編集プロセスにより 基準を満たさない寄稿が掲載されてしまいました” （アイリーン・マーフィー広報担当） 一方 フィラデルフィア・インクワイアラーの記者は “う\n",
      "\n",
      "記事[6]: https://www.bloomberg.co.jp/news/articles/2020-06-08/QBM5BFT0G1KZ01?srnd=cojp-v2 : 取得エラー\n",
      "\n",
      "記事[7]: https://www.bloomberg.co.jp/news/articles/2020-06-08/QBM5BFT0G1KZ01?srnd=cojp-v2 : 00:00BNV JP June 2020 “ハスの生産者であることに誇りを感じます 新型コロナウイルスから身を守るものに 使用されているのです” ハスの茎から作ったマスク （カンボジア シェムリアップ） “我々サマトア社は環境に配慮し 天然の繊維を使っています（管理者 アリス・サムナン氏） 化学製品は含まれていません 新型コロナウイルス以前は カポック バナナ ハスから織物を作っていました ハスは吸水性 速乾性があり 通気性の良い繊維ができます 通常のマスクよりは高価ですが 100～200回洗って繰り返し使用できます 米国やフランスオーストラリアに輸出しています 最近では大量のマスクを製作し\n",
      "\n",
      "記事[7]: https://www.bloomberg.co.jp/news/articles/2020-06-08/QBM5BFT0G1KZ01?srnd=cojp-v2 : 取得エラー\n",
      "\n",
      "記事[8]: https://www.bloomberg.co.jp/news/articles/2020-06-08/QBM5BFT0G1KZ01?srnd=cojp-v2 : 00:00BNV JP June 2020 コロナウイルス下の生活は暮らしの多くを変えつつあり それをテクノロジーが支えています “テクノロジーの長期トレンドは変わる人々の行動を いかに後押しをするかです”（ＩＢＭ元ＣＥＯ） テクノロジーは特に食料や雑貨の買い物方法を変えています しかし 買い物より大きく変化しているのが働き方です 多くの人が会社支給の電話やＶＰＮ接続を利用し働いています “１日に８億件の接続があり大きく増加しました 在宅勤務によりＶＰＮ接続は 50％増加しています”（ベライゾンＣＥＯ） ウェブエックスやズームなどのサービスを使い 我々は１日に何回テレビ会議をしているでしょう \n",
      "\n",
      "記事[8]: https://www.bloomberg.co.jp/news/articles/2020-06-08/QBM5BFT0G1KZ01?srnd=cojp-v2 : 取得エラー\n",
      "\n",
      "記事[9]: https://www.bloomberg.co.jp/news/articles/2020-06-08/QBM5BFT0G1KZ01?srnd=cojp-v2 : 00:00BNV JP June 2020 インドを襲う最悪の嵐 過去数十年で最多のバッタが発生しました 新型ウイルスや熱波との同時発生です “バッタは８日間以上いれば卵を生み始め 我々の脅威となります”（政府職員プリーティ・ビセ氏） 大音量で音楽を流す村もあります 虫の大群を追い払うためです\n",
      "\n",
      "記事[9]: https://www.bloomberg.co.jp/news/articles/2020-06-08/QBM5BFT0G1KZ01?srnd=cojp-v2 : 取得エラー\n",
      "\n",
      "記事[10]: https://www.bloomberg.co.jp/news/articles/2020-06-08/QBM5BFT0G1KZ01?srnd=cojp-v2 : 00:00BNV JP June 2020 新型コロナワクチンの鍵を握る動物たち 研究者らがフェレットやサルなどで動物実験を行い 新型コロナのワクチンを開発しようとしています 動物実験は 人間ではできないような方法で ワクチンへの反応を確認可能です “多様な動物を試験することで 本質的に人間に見られる変化と似た症状を引き起こせます 手掛かりさえ得られればより大規模な臨床試験を 開始できるのです”（ラルフ・バリック氏） インフルエンザワクチン開発に重要なフェレットは 新型コロナにおいても重要性が示されています また ウイルスが人間の感染にどう影響を与えるのかを 研究者が幅広く検証するため 他の動\n",
      "\n",
      "記事[10]: https://www.bloomberg.co.jp/news/articles/2020-06-08/QBM5BFT0G1KZ01?srnd=cojp-v2 : 取得エラー\n",
      "\n",
      "記事[11]: https://www.bloomberg.co.jp/news/articles/2020-06-08/QBM5BFT0G1KZ01?srnd=cojp-v2 : 00:00BNV JP June 2020 “新型コロナには季節的な変動があると 予測するのは理にかなっていると思います 多くの呼吸器系ウイルスと同様です” 新型コロナは冬に悪化しますか？ “推測ではありますが 実験では気温と湿度を高くした場合 ウイルスは弱くなりました 生存期間は短くなり 生存率は低下しました つまり気温と湿度が高ければ高いほど ウイルスにとっては複製と生存が困難です より涼しく乾燥している方がウイルスにとっては有利です 環境汚染が感染拡大に関与する度合いも より涼しく乾燥した月に高い傾向があります 人々が屋内にいる時は同じ物の表面を より頻繁に触れるということもあります で\n",
      "\n",
      "記事[11]: https://www.bloomberg.co.jp/news/articles/2020-06-08/QBM5BFT0G1KZ01?srnd=cojp-v2 : 取得エラー\n",
      "\n",
      "記事[12]: https://www.bloomberg.co.jp/news/articles/2020-06-08/QBM5BFT0G1KZ01?srnd=cojp-v2 : 00:00BNV JP May 2020 未来の病室 イスラエルの医療センターが “スマートルーム”の開発を進めています “私たちが予測しようとしているのは 10年後 医療サービスがどうなっているかです すでに 私たちは多くの方向性や傾向について 明らかにしています ずっと前から取り組みを進めてきました 新しいテクノロジーに対して受け身でいたくありません それらのテクノロジーを率先して必要な場所に導入し 大切な患者のために役立てたいのです” （アミタイ・ジブ氏） 開発者と医師たちがテストしているのは 遠隔通信を可能にするロボットです 患者が簡単なセルフチェックを行うことができます “グッドマン\n",
      "\n",
      "記事[12]: https://www.bloomberg.co.jp/news/articles/2020-06-08/QBM5BFT0G1KZ01?srnd=cojp-v2 : 取得エラー\n",
      "\n",
      "記事[13]: https://www.bloomberg.co.jp/news/articles/2020-06-08/QBM5BFT0G1KZ01?srnd=cojp-v2 : 00:00BNV JP June 2020 “３ ２ １ ０ 点火 発射 クルー・ドラゴンを搭載したファルコン９です” ようやく実現しました 創業から18年 これまでに商業衛星の打ち上げや 国際宇宙ステーションへの補給物資の輸送を始めました テスラもあります そして ついにスペースＸは２人の宇宙飛行士 ボブ・ベンケンとダグ・ハーレーを 宇宙空間に送りました 今回の任務は「デモ２」と呼ばれ 同社の新しい宇宙船による初めての有人飛行です 約24時間 飛行し 飛行士たちが一時的に滞在する国際宇宙ステーションに ドッキングします その後 飛行士たちはそこで仕事をし ＮＡＳＡが決めるまで滞在します 全て\n",
      "\n",
      "記事[13]: https://www.bloomberg.co.jp/news/articles/2020-06-08/QBM5BFT0G1KZ01?srnd=cojp-v2 : 取得エラー\n",
      "\n",
      "記事[14]: https://www.bloomberg.co.jp/news/articles/2020-06-08/QBM5BFT0G1KZ01?srnd=cojp-v2 : 00:00BNV JP June 2020 “中継中の逮捕です ＣＮＮの取材と事前に伝えています” 抗議デモを生中継中のＣＮＮ記者を警察が逮捕 “我々はＣＮＮです今生中継中です” “指示の場所に移動します 今 生中継中です ミネソタ州警察がＣＮＮのオマー・ヒメネス記者と クルーを一時拘束しました” 黒人男性ジョージ・フロイドさんの死を受けた ミネアポリスのデモを取材中でした “逮捕する” “では容疑を教えていただけますか？ なぜ逮捕されるのですか？” 拘束の一部始終をカメラは記録していました その後 釈放されました ミネソタ州のティム・ウォルツ知事はこの逮捕を “全く容認できない”と謝罪しまし\n",
      "\n",
      "記事[14]: https://www.bloomberg.co.jp/news/articles/2020-06-08/QBM5BFT0G1KZ01?srnd=cojp-v2 : 取得エラー\n",
      "\n",
      "記事[15]: https://www.bloomberg.co.jp/news/articles/2020-06-08/QBM5BFT0G1KZ01?srnd=cojp-v2 : 00:00BNV JP May 2020 “テスラ・キラーとも呼ばれます” （トム・マッケンジー記者） 中国の“テスラ・キラー”に試乗 “これが小鵬汽車の中国製ＥＶ‘Ｐ７’ 0-100km/h加速4.3秒はかなりのものです テスラ‘モデル３’に匹敵するそうです 航続距離は中国版テスラより長く Ｐ７は706キロです モデル３は668キロですからね 価格帯は３万～５万ドルなので モデル３より低価格です アリババ・グループ・ホールディングの出資があり ソフト ハードともに充実しています エヌビディアやクアルコムの半導体など米技術が多用されます ハードの多くは米国製ですが ソフトは中国製が多いです 小\n",
      "\n",
      "記事[15]: https://www.bloomberg.co.jp/news/articles/2020-06-08/QBM5BFT0G1KZ01?srnd=cojp-v2 : 取得エラー\n",
      "\n",
      "記事[16]: https://www.bloomberg.co.jp/news/articles/2020-06-08/QBM5BFT0G1KZ01?srnd=cojp-v2 : 00:00BNV JP May 2020 イタリアのロックダウンから脱した米国人旅行者 コリーン＆マービン・ヒューソン夫妻は ポンペイ再開の列に先頭で並んでいました ３月初めからイタリアで足止めされてきたのです “私たちに手の出せる航空便は一切なく 便があっても予約前に埋まってしまいました 親族から国の状況を聞き子供たちが 私たちはこちらにいた方が安全だと判断しました 小さい町ですし イタリア人は規律正しいですから マスクや手袋の着用も気にしません 我慢強く 距離も保ちます”（米国人旅行者 コリーン・ヒューソンさん）\n",
      "\n",
      "記事[16]: https://www.bloomberg.co.jp/news/articles/2020-06-08/QBM5BFT0G1KZ01?srnd=cojp-v2 : 取得エラー\n",
      "\n",
      "記事[17]: https://www.bloomberg.co.jp/news/articles/2020-06-08/QBM5BFT0G1KZ01?srnd=cojp-v2 : 00:00BNV JP May 2020 地中海で見つかった新型コロナウイルスのごみ フランスの環境保護団体である オペラシオン・メール・プロプルの ダイバーはこれまで プラスチックや瓶 缶を収集してきました しかし現在見つかるのは新型コロナウイルスのごみです これは始まりにすぎないと彼らは恐れています “何もしなければ 汚染が進む最初の兆しになります 雨が降り始めたらすぐに全てのごみが排水路から 私たちの美しいコートダジュールに流れてきます 数週間後にはより多くのごみが出るでしょう” （創設者ジェフリー・ペルティエ氏） パリでは道路の清掃作業員も 道に捨てられたマスクの増加を指摘しています\n",
      "\n",
      "記事[17]: https://www.bloomberg.co.jp/news/articles/2020-06-08/QBM5BFT0G1KZ01?srnd=cojp-v2 : 取得エラー\n",
      "\n"
     ]
    },
    {
     "name": "stdout",
     "output_type": "stream",
     "text": [
      "記事[18]: https://www.bloomberg.co.jp/news/articles/2020-06-08/QBM5BFT0G1KZ01?srnd=cojp-v2 : 00:00BNV JP May 2020 ロボットが接客するモールへようこそ これは リサ 客の探し物を手助けする 情報サービスアシスタントです ケアロボットのロックは 体温を測定します ＰＰは 公衆衛生のアナウンスを行います Ｋ９は 除菌ローションをのせてモールを歩き回ります “正直 すごく驚きました 馬のひづめのような音がします でも いいと思います” （買い物客 ウォラヴィット・パタラニットさん） このモールのオーナーがタイ全土に所有する33の店舗は ２カ月間 閉店していました ロボットによる接客が 客の戻りにつながるよう期待しています “皆 興味津々です 特に 子供はロボットが大好きで\n",
      "\n",
      "記事[18]: https://www.bloomberg.co.jp/news/articles/2020-06-08/QBM5BFT0G1KZ01?srnd=cojp-v2 : 取得エラー\n",
      "\n",
      "記事[19]: https://www.bloomberg.co.jp/news/articles/2020-06-08/QBM5BFT0G1KZ01?srnd=cojp-v2 : 00:00BNV JP May 2020 “オープンオフィスの不要論は数年ごとに出ています ついに絶滅するでしょうか？”（サラ・ホルダー） オープンオフィスは新型コロナウイルス後も残るか？ “企業はオープンオフィスを好みます 不動産コストを削減できて 同じフロアに大人数を収容できます 仕事が円滑に進むと考えているようですが プライバシーがないため従業員には不人気です 各自の場所も確保できません 新型コロナウイルスの感染が広がる今 新たな課題に直面しています この先 オフィスはどうなるのでしょう？ 企業も模索しているところです しかしオフィスに入って退勤するまで 今までとは様子が異なるでしょう \n",
      "\n",
      "記事[19]: https://www.bloomberg.co.jp/news/articles/2020-06-08/QBM5BFT0G1KZ01?srnd=cojp-v2 : 取得エラー\n",
      "\n",
      "記事[20]: https://www.bloomberg.co.jp/news/articles/2020-06-08/QBM5BFT0G1KZ01?srnd=cojp-v2 : 00:00BNV JP May 2020 新型コロナウイルスでキャンプの需要増 キャンピングカーの販売店が狙っているのは 飛行機での移動や新型コロナの第２波に 恐れを感じている米国人たちです 失業は増えていますが販売会社やレンタル会社によると キャンピングカーへの関心はインターネットで急増しています 米国人は最大10万ドルまで払うつもりがあります ベッドやキッチン付きのキャンピングカーにです そしてワクチンの普及を待ちます ソーシャルディスタンシングにおいて 最も安全な休暇の過ごし方はキャンプだと考えられています （情報：キャンプグラウンド・オブ・アメリカ） 米国にはキャンピングカー用の民間公\n",
      "\n",
      "記事[20]: https://www.bloomberg.co.jp/news/articles/2020-06-08/QBM5BFT0G1KZ01?srnd=cojp-v2 : 取得エラー\n",
      "\n",
      "記事[21]: https://www.bloomberg.co.jp/news/articles/2020-06-08/QBM5BFT0G1KZ01?srnd=cojp-v2 : 00:00BNV JP May 2020 笑顔の見えるマスク イタリアのディエンピ社が透明なマスクを作っています 唇を読む必要のある聴覚障害者のための物でしたが 今は企業でも使われています “透明なマスクはみんなのための物です このマスクを使うことで 誰でも楽にコミュニケーションできます 言葉だけでなくジェスチャーや 表情 唇の動きも使えますから キスだって送れますよ”（ディエンピ社マリーニＣＥＯ） 中央の透明なシートはポリウレタン製です シートをマスク生地に密着させるため 熱で溶接し縫い合わせています 値段は１枚７ドルほどです\n",
      "\n",
      "記事[21]: https://www.bloomberg.co.jp/news/articles/2020-06-08/QBM5BFT0G1KZ01?srnd=cojp-v2 : 取得エラー\n",
      "\n",
      "記事[22]: https://www.bloomberg.co.jp/news/articles/2020-06-08/QBM5BFT0G1KZ01?srnd=cojp-v2 : 00:00BNV JP May 2020 新型コロナのワクチンを接種しますか？ 接種を望む米国人は49％です（情報：ＡＰ－ＮＯＲＣ） “候補のワクチンにも 副作用の心配があります このワクチンに関する風説は多く 逆に感染するとも言われます”（ＮＯＲＣ ケイトリン・ オッペンハイマー氏） 調査では ワクチンを接種するか分からないという人が31％で 接種しないという人が20％でした\n",
      "\n",
      "記事[22]: https://www.bloomberg.co.jp/news/articles/2020-06-08/QBM5BFT0G1KZ01?srnd=cojp-v2 : 取得エラー\n",
      "\n",
      "記事[23]: https://www.bloomberg.co.jp/news/articles/2020-06-08/QBM5BFT0G1KZ01?srnd=cojp-v2 : 00:00BNV JP May 2020 経済活動再開の米国隔離疲れ広がる “隔離生活によって増す不安感は 心身の重荷になります それが‘隔離疲れ’です”（精神科のファノオス科長） ある調査で 米国人の30％が不安状態だと分かりました “自主隔離が始まった当初 感染しない居場所があって人々は安心したと思います ですが 時が過ぎ 死亡率や感染率は低下しました 人々は 家にいる恩恵が減ったと感じているようです むしろ負担と感じるようになってきました これは少々危険です 死亡率や感染率が低下しても 社会的距離の基準や指針が解除されれば 再び感染率が急上昇する可能性があるからです いわば偽の安心感です\n",
      "\n",
      "記事[23]: https://www.bloomberg.co.jp/news/articles/2020-06-08/QBM5BFT0G1KZ01?srnd=cojp-v2 : 取得エラー\n",
      "\n",
      "記事[24]: https://www.bloomberg.co.jp/news/articles/2020-06-08/QBM5BFT0G1KZ01?srnd=cojp-v2 : 00:00BNV JP May 2020 消費者として 規格外のものも受け入れなければなりません なぜなら 完璧なものは不自然だからです “食品ロスを減らすクラウドファーミング” 私は農家と消費者を直接つなぐ食料サプライチェーン クラウドファーミング共同創業者兼ＣＥＯゴンザロ・ウルクロです 私たちの農場で クラウドファーミングを始めたのは 従来の食料サプライチェーンに不満があったからです 農場を訪ねてくる消費者は食べ物に懸念を唱えます 特にＣＯＶＩＤ１９の影響で 以前より多くの人が食品の出どころや 生産方法を気にするようになりました お店には 情報のない商品があふれていますが 消費者としてあな\n",
      "\n",
      "記事[24]: https://www.bloomberg.co.jp/news/articles/2020-06-08/QBM5BFT0G1KZ01?srnd=cojp-v2 : 取得エラー\n",
      "\n",
      "記事[25]: https://www.bloomberg.co.jp/news/articles/2020-06-08/QBM5BFT0G1KZ01?srnd=cojp-v2 : Photographer: PHILIP FONG/AFP Photographer: PHILIP FONG/AFP12日の日本株は続落した。米国で新型コロナウイルスの感染第２波が懸念され、景気回復期待による急ピッチの株高に変調の兆しが出ている。為替市場では円が午後に軟化し、債券相場は伸び悩んだ。ＴＯＰＩＸの終値は前日比18.24ポイント（1.2％）安の1570.68日経平均株価は167円43銭（0.8％）安の２万2305円48銭ドル・円相場は107円10銭前後長期国債先物６月物は前日比２銭高の152円19銭フロリダ州で感染が加速、テキサス州で外出制限令の再発令の可能性が浮上するなど、経済活\n",
      "\n",
      "記事[25]: https://www.bloomberg.co.jp/news/articles/2020-06-08/QBM5BFT0G1KZ01?srnd=cojp-v2 : 取得エラー\n",
      "\n",
      "記事[26]: https://www.bloomberg.co.jp/news/articles/2020-06-08/QBM5BFT0G1KZ01?srnd=cojp-v2 : Photographer: NanoStockk/iStockphoto Photographer: NanoStockk/iStockphotoツイッターやチャットルームでポピュラーになった「株価は上昇するだけ」を信じて米国株上昇に賭ける戦略に最近 転向した人は、これが思ったほど万全な戦略ではなかったことを思い知らされた。もともと皮肉まじりだったかもしれないこの戦略は、11日の米株式市場で痛烈な否定に見舞われた。Ｓ＆Ｐ500種株価指数は約６％下落し、時価総額２兆ドル（約213兆円）近くが吹き飛んだ。売りが特にかさんだのは航空やエネルギー、銀行など、ここ１カ月で株式に殺到した多くの 個人投資家\n",
      "\n",
      "記事[26]: https://www.bloomberg.co.jp/news/articles/2020-06-08/QBM5BFT0G1KZ01?srnd=cojp-v2 : 取得エラー\n",
      "\n",
      "記事[27]: https://www.bloomberg.co.jp/news/articles/2020-06-08/QBM5BFT0G1KZ01?srnd=cojp-v2 : Photographer: Kiyoshi Ota/Bloomberg Photographer: Kiyoshi Ota/Bloomberg1日を始める前に押さえておきたい世界のニュースを毎朝お届け。ブルームバーグのニュースレターへの登録はこちら。近日、配信をスタートします。新型コロナウイルス感染症対策として日本銀行が打ち出した大規模な金融支援策も、邦銀と日銀との間に生じた溝を埋めるまでには至っていない。邦銀の多くが今なお日銀のマイナス金利政策に強く反発しているからだ。総枠75兆円の資金繰り支援策は銀行業界から歓迎されている。もっとも、複数の邦銀中枢幹部はブルームバーグのインタビューで、マイ\n",
      "\n",
      "記事[27]: https://www.bloomberg.co.jp/news/articles/2020-06-08/QBM5BFT0G1KZ01?srnd=cojp-v2 : 取得エラー\n",
      "\n",
      "記事[28]: https://www.bloomberg.co.jp/news/articles/2020-06-08/QBM5BFT0G1KZ01?srnd=cojp-v2 : Photographer: Joe Raedle/Getty Images North America Photographer: Joe Raedle/Getty Images North America1日を始める前に押さえておきたい世界のニュースを毎朝お届け。ブルームバーグのニュースレターへの登録はこちら。近日、配信をスタートします。世界の新型コロナウイルス感染者は750万人を 突破した。インドの感染者は１日で約１万人増加した。米国で新型コロナの第２波が起こる懸念などで米株式相場が11日に急落した後、12日のアジア株式市場も下げている。シンガポールのローレンス・ウォン国家開発相は、同国が\n",
      "\n",
      "記事[28]: https://www.bloomberg.co.jp/news/articles/2020-06-08/QBM5BFT0G1KZ01?srnd=cojp-v2 : 取得エラー\n",
      "\n",
      "記事[29]: https://www.bloomberg.co.jp/news/articles/2020-06-08/QBM5BFT0G1KZ01?srnd=cojp-v2 : Photographer: samxmeg/iStockphoto Photographer: samxmeg/iStockphoto動く銘柄なら何でも買おうと 個人投資家が殺到していた米株式市場。今見られる急激な相場反転は、多かれ少なかれ避けられないものだった。これはブルームバーグ・インテリジェンスのジーナ・マーティン・アダムス氏が48時間前に発した警鐘だ。ちょうどその時点がＳ＆Ｐ500種株価指数の３日連続安の起点で、同氏は投資家が過度に楽観的で、市場センチメントは過熱していたため相場反落の要因になるとみていた。同氏は「３月の安値からの力強い反騰で、ついにモメンタムの過熱シグナルが点灯した。\n",
      "\n",
      "記事[29]: https://www.bloomberg.co.jp/news/articles/2020-06-08/QBM5BFT0G1KZ01?srnd=cojp-v2 : 取得エラー\n",
      "\n",
      "記事[30]: https://www.bloomberg.co.jp/news/articles/2020-06-08/QBM5BFT0G1KZ01?srnd=cojp-v2 : 香港のヘッジファンド、 オアシス・マネジメントが東京オフィスを開設したことが12日、分かった。今後数人のアナリストを雇い、日本企業の調査業務を行う。ヘッジファンドはプライベート・エクイティ（ＰＥ）ファンドなどに比べて比較的小所帯であり、海外勢が日本に拠点を構える例は珍しい。フィッシャー氏（香港、2018年５月） Photographer: Anthony Kwan/Bloombergオアシスは４月に東京・港区西新橋に 拠点を開設。創業者で最高投資責任者（ＣＩＯ）のセス・フィッシャー氏はブルームバーグの取材に対し、東京オフィスは日本企業への調査拠点の役割を担うとし、さらに長期にわたって日本に根を\n",
      "\n",
      "記事[30]: https://www.bloomberg.co.jp/news/articles/2020-06-08/QBM5BFT0G1KZ01?srnd=cojp-v2 : 取得エラー\n",
      "\n",
      "記事[31]: https://www.bloomberg.co.jp/news/articles/2020-06-08/QBM5BFT0G1KZ01?srnd=cojp-v2 : Photographer: Gabby Jones/Bloomberg Photographer: Gabby Jones/Bloombergビデオ会議システムを提供する米 ズーム・ビデオ・コミュニケーションズは、中国政府の求めに応じて米国を拠点とする中国人の人権活動家のアカウントを一時停止した。中国政府が世界的に検閲を強めているとの懸念が広がっている。ズームは11日のブログ投稿で、ソーシャルメディアで告知されていた31年前の「天安門事件」を伝えるバーチャル会合に関し、先月と今月上旬に中国政府の当局者が接触してきたことを明らかにした。違法と見なされている活動を理由に会合と主催者のアカウントを終\n",
      "\n",
      "記事[31]: https://www.bloomberg.co.jp/news/articles/2020-06-08/QBM5BFT0G1KZ01?srnd=cojp-v2 : 取得エラー\n",
      "\n",
      "記事[32]: https://www.bloomberg.co.jp/news/articles/2020-06-08/QBM5BFT0G1KZ01?srnd=cojp-v2 : Photographer: BRENDAN SMIALOWSKI/AFP Photographer: BRENDAN SMIALOWSKI/AFP電気自動車メーカーの米 テスラの株価は、イーロン・マスク最高経営責任者（ＣＥＯ）が５月に 高過ぎるとの認識を示してから数週間にわたり大幅上昇している。マスクＣＥＯはこうした状況について、インターネット用語を使って再びツイートした。10日にテスラ株が９％上昇し、終値ベースの上場来高値1025.05ドルに達した後のマスクＣＥＯの最初の投稿は「lol」。これは大爆笑を意味する「laughing out loud」の略。lol — Elon Musk (@e\n",
      "\n",
      "記事[32]: https://www.bloomberg.co.jp/news/articles/2020-06-08/QBM5BFT0G1KZ01?srnd=cojp-v2 : 取得エラー\n",
      "\n",
      "記事[33]: https://www.bloomberg.co.jp/news/articles/2020-06-08/QBM5BFT0G1KZ01?srnd=cojp-v2 : Photographer: David Paul Morris/Bloomberg Photographer: David Paul Morris/Bloomberg米連邦破産法11条の適用を申請したレンタカー会社 ハーツ・グローバル・ホールディングスは、株価上昇の機を捉え、最大10億ドル（約1070億円）相当の新株を売り出すことを認めるよう破産裁判所の判事に要請している。通常なら破綻企業の株式の価値は帳消しになるが、ハーツは２週間にわたる株価の大幅上昇を受け、米 ジェフリーズの協力を得て最大２億4678万株の普通株の売り出しを計画している。裁判所への 提出書類で明らかになった。メアリー・ウォ\n",
      "\n",
      "記事[33]: https://www.bloomberg.co.jp/news/articles/2020-06-08/QBM5BFT0G1KZ01?srnd=cojp-v2 : 取得エラー\n",
      "\n",
      "記事[34]: https://www.bloomberg.co.jp/news/articles/2020-06-08/QBM5BFT0G1KZ01?srnd=cojp-v2 : ６月第３週（15日－19日）の債券相場はリスク回避の買いに支えられて底堅く推移すると予想されている。半面、長期債利回りがマイナス圏に沈むと敬遠されて、相場の上値が重くなるとの見方も出ている。市場参加者の見方◎岡三証券の鈴木誠債券シニアストラテジスト投資家のリスク回避姿勢が強まりやすい環境で、債券相場はしっかりした動きを続けよう国債増発などから国債利回りには上昇圧力がかかりやすい環境だが、日銀は過度な利回り上昇は抑える姿勢を維持しようマイナス利回りの国債を積極的に買い進む動きは限られようが、利回りが上昇すれば投資家の押し目買いが期待できよう長期金利の予想レンジはマイナス0.03％～プラス0.02\n",
      "\n",
      "記事[34]: https://www.bloomberg.co.jp/news/articles/2020-06-08/QBM5BFT0G1KZ01?srnd=cojp-v2 : 取得エラー\n",
      "\n"
     ]
    },
    {
     "name": "stdout",
     "output_type": "stream",
     "text": [
      "記事[35]: https://www.bloomberg.co.jp/news/articles/2020-06-08/QBM5BFT0G1KZ01?srnd=cojp-v2 : 「ハローキティ」などキャラクター商品を企画、販売する サンリオは12日、７月１日付で辻朋邦専務（31）が社長に昇格すると発表した。1960年の創業以来、長年トップを務めてきた辻信太郎社長（92）は代表権のある会長に就く。朋邦新社長は信太郎氏の孫で、2014年に入社した。16年に取締役、17年６月から専務となり、中期経営計画の策定やマーケティング部門の創設に携わってきた。８月26日に開く定時株主総会で正式決定される予定だ。同時に意思決定の迅速化を図るため、取締役人数を現在の14人から９人に減らし、将来的に独立社外取締役の構成比を増やす考えも示した。サンリオが同日発表した20年３月期決算は海外での\n",
      "\n",
      "記事[35]: https://www.bloomberg.co.jp/news/articles/2020-06-08/QBM5BFT0G1KZ01?srnd=cojp-v2 : 取得エラー\n",
      "\n",
      "記事[36]: https://www.bloomberg.co.jp/news/articles/2020-06-08/QBM5BFT0G1KZ01?srnd=cojp-v2 : Photographer: Tomohiro Ohsumi/Getty Images AsiaPac Photographer: Tomohiro Ohsumi/Getty Images AsiaPac新型コロナウイルス感染拡大に伴う追加対策を盛り込んだ2020年度 第２次補正予算が、12日の参院本会議で賛成多数で可決・成立した。予算規模は過去最大の31.9兆円。コロナ対応の経済対策の事業規模が234兆円と国内総生産（ＧＤＰ）の４割に達する中、国債の追加発行により財政状況は悪化する。第２次補正予算は、４月末の １次補正成立後から１カ月半弱で成立。新たに家賃支援給付金約２兆円が盛り込まれたほか、\n",
      "\n",
      "記事[36]: https://www.bloomberg.co.jp/news/articles/2020-06-08/QBM5BFT0G1KZ01?srnd=cojp-v2 : 取得エラー\n",
      "\n",
      "記事[37]: https://www.bloomberg.co.jp/news/articles/2020-06-08/QBM5BFT0G1KZ01?srnd=cojp-v2 : 東京都の小池百合子知事は12日夕に臨時記者会見を開き、任期満了に伴う都知事選（18日告示、７月５日投開票）への出馬を表明した。再選を目指す。小池氏は出馬表明のタイミングについて、同日午後の知事定例会見で、新型コロナウイルス対策を盛り込んだ補正予算が10日に成立し、都民に感染拡大への警戒を呼び掛ける「東京アラート」の解除でコロナ対策に「一つの区切り」が付いたためと説明した。小池氏は東京都のコロナ対応を指揮。記者会見や動画配信で連日のように情報発信し、存在感を見せた。６月２日には「東京アラート」を発動したが、新規感染者の増加が一定程度に抑え込むことができたとして11日に解除。休業要請緩和も12日か\n",
      "\n",
      "記事[37]: https://www.bloomberg.co.jp/news/articles/2020-06-08/QBM5BFT0G1KZ01?srnd=cojp-v2 : 取得エラー\n",
      "\n",
      "記事[38]: https://www.bloomberg.co.jp/news/articles/2020-06-08/QBM5BFT0G1KZ01?srnd=cojp-v2 : ソニーは12日、年末商戦期に投入する次世代ゲーム機「プレイステーション（ＰＳ）５」向けの28ソフトを発表した。ソフトのほとんどがＰＳ５で独占販売される。 スパイダーマンなどＰＳシリーズでの人気ソフトのほか、カプコンのバイオハザードやスクウェア・エニックス・ホールディングスの新作も含まれる。主なソフト 制作 マーベル スパイダーマン: マイルズ・モラレス ソニー グランツーリスモ７ ホライゾン 禁じられた西部 バイオハザード ヴィレッジ カプコン ＰＲＯＪＥＣＴ ＡＴＨＩＡ スクエニＨ本体のデザインも初めて公表された。ディスクドライブの有無で２種類のモデルがある。本体価格や発売日は公表しなかった\n",
      "\n",
      "記事[38]: https://www.bloomberg.co.jp/news/articles/2020-06-08/QBM5BFT0G1KZ01?srnd=cojp-v2 : 取得エラー\n",
      "\n",
      "記事[39]: https://www.bloomberg.co.jp/news/articles/2020-06-08/QBM5BFT0G1KZ01?srnd=cojp-v2 : Photographer: Patrick T. Fallon/Bloomberg Photographer: Patrick T. Fallon/Bloomberg1日を始める前に押さえておきたい世界のニュースを毎朝お届け。ブルームバーグのニュースレターへの登録はこちら。近日、配信をスタートします。中国ソーシャルメディア界の大手企業、 テンセント・ホールディングス（騰訊）は守りが堅い日本の娯楽業界から何年もはねつけられてきたが、ここにきて日本の著名なアニメ・漫画制作関連企業に再び秋波を送っている。過去数カ月にテンセントは マーベラスと、大ヒットとなったビデオゲーム「NieR:Automata\n",
      "\n",
      "記事[39]: https://www.bloomberg.co.jp/news/articles/2020-06-08/QBM5BFT0G1KZ01?srnd=cojp-v2 : 取得エラー\n",
      "\n",
      "記事[40]: https://www.bloomberg.co.jp/news/articles/2020-06-08/QBM5BFT0G1KZ01?srnd=cojp-v2 : 血液型を左右する遺伝子の違いが、新型コロナウイルスの感染と症状に影響する可能性がある。消費者向け遺伝子検査サービス大手、米２３アンド・ミーが調査の暫定結果として発表した。感染しても無症状の人がいる一方で、重篤になるまで症状が悪化する人がいる原因を突き止めようと、遺伝子に着目した調査が広く実施されている。２３アンド・ミーは４月、同社データベースに保管されている数百万人分のＤＮＡ情報を用いて、この研究を開始していた。同社が８日発表した暫定結果によれば、血液型Ｏ型の人が特に新型コロナウイルスに感染しにくい。この調査には75万人以上が参加したという。血液型遺伝子の種類と新型コロナウイルスに何らかの関連\n",
      "\n",
      "記事[40]: https://www.bloomberg.co.jp/news/articles/2020-06-08/QBM5BFT0G1KZ01?srnd=cojp-v2 : 取得エラー\n",
      "\n"
     ]
    }
   ],
   "source": [
    "# for item in range(len(website.articles)):\n",
    "#     csvlist = []\n",
    "#     website_article = website.articles[item]\n",
    "#     try:\n",
    "#         website_article.download()\n",
    "#         website_article.parse()\n",
    "#         website_article.nlp()\n",
    "#         print(\"記事[\" + str(item) + \"]: \"+ website_article_url +\" : \"+ website_article.summary + \"\\n\")\n",
    "#         csvlist.append(str(item))\n",
    "#         csvlist.append(website_article.url)\n",
    "#         csvlist.appned(website_article.summary)\n",
    "#         writer.writerow(csvlist)\n",
    "#     except:\n",
    "#         print(\"記事[\" + str(item) + \"]: \"+ website_article_url +\" : \"+ \"取得エラー\" + \"\\n\")\n",
    "#         continue\n",
    "#     f.close()"
   ]
  },
  {
   "cell_type": "code",
   "execution_count": null,
   "metadata": {},
   "outputs": [],
   "source": []
  }
 ],
 "metadata": {
  "kernelspec": {
   "display_name": "Python 3",
   "language": "python",
   "name": "python3"
  },
  "language_info": {
   "codemirror_mode": {
    "name": "ipython",
    "version": 3
   },
   "file_extension": ".py",
   "mimetype": "text/x-python",
   "name": "python",
   "nbconvert_exporter": "python",
   "pygments_lexer": "ipython3",
   "version": "3.7.6"
  }
 },
 "nbformat": 4,
 "nbformat_minor": 4
}
