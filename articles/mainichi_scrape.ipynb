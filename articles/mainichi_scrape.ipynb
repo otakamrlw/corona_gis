{
 "cells": [
  {
   "cell_type": "code",
   "execution_count": 1,
   "metadata": {},
   "outputs": [],
   "source": [
    "from selenium import webdriver\n",
    "from selenium.webdriver.firefox.options import Options\n",
    "from bs4 import BeautifulSoup\n",
    "import numpy as np\n",
    "import pandas as pd\n",
    "import time\n",
    "import sys\n",
    "import requests as re"
   ]
  },
  {
   "cell_type": "code",
   "execution_count": null,
   "metadata": {},
   "outputs": [],
   "source": [
    "# options = Options()\n",
    "# options.set_headless()\n",
    "# #Firefoxを操作\n",
    "# driver = webdriver.Firefox(options=options, executable_path=\"/Users/takayuki/Library/Application Support/WebDriverManager/gecko/v0.26.0/geckodriver-v0.26.0-macos/geckodriver\")\n",
    "# username = \"takayukiota0905@gmail.com\"\n",
    "# password = \"pr1657085\""
   ]
  },
  {
   "cell_type": "code",
   "execution_count": null,
   "metadata": {},
   "outputs": [],
   "source": [
    "# Login Page\n",
    "# driver.get('https://r.nikkei.com/login')\n",
    "# time.sleep(2)\n",
    "# driver.save_screenshot(\"ss1.png\")"
   ]
  },
  {
   "cell_type": "code",
   "execution_count": null,
   "metadata": {},
   "outputs": [],
   "source": [
    "# login_username = driver.find_element_by_id(\"LA7010Form01:LA7010Email\")\n",
    "# login_username.clear()\n",
    "# login_username.send_keys(username) \n",
    "# login_password = driver.find_element_by_id(\"LA7010Form01:LA7010Password\")\n",
    "# login_password.clear()\n",
    "# login_password.send_keys(password)\n",
    "# driver.find_element_by_class_name('btnM1').click()  # Login button click \n",
    "# time.sleep(2)\n",
    "# driver.save_screenshot(\"ss2.png\")"
   ]
  },
  {
   "cell_type": "code",
   "execution_count": 56,
   "metadata": {},
   "outputs": [],
   "source": [
    "# Search word (e.g. 院内感染,)\n",
    "target_url=re.get('https://mainichi.jp/search?q=院内感染&s=date')\n",
    "\n",
    "# driver.get(target_url)\n",
    "time.sleep(2)\n",
    "# html = driver.page_source"
   ]
  },
  {
   "cell_type": "code",
   "execution_count": null,
   "metadata": {},
   "outputs": [],
   "source": [
    "# Articles count\n",
    "# sel0 = soup.find_all(\"p\",attrs={\"class\":\"search__result-count\"})\n",
    "# for i in sel0:\n",
    "#     count= int(i.text)\n",
    "# print (count)"
   ]
  },
  {
   "cell_type": "code",
   "execution_count": 4,
   "metadata": {},
   "outputs": [
    {
     "ename": "NameError",
     "evalue": "name 'soup' is not defined",
     "output_type": "error",
     "traceback": [
      "\u001b[0;31m---------------------------------------------------------------------------\u001b[0m",
      "\u001b[0;31mNameError\u001b[0m                                 Traceback (most recent call last)",
      "\u001b[0;32m<ipython-input-4-43a1b13c3a60>\u001b[0m in \u001b[0;36m<module>\u001b[0;34m\u001b[0m\n\u001b[1;32m      1\u001b[0m \u001b[0;31m# span = soup.find(\"span\", id=\"SearchResult_Headline\" )\u001b[0m\u001b[0;34m\u001b[0m\u001b[0;34m\u001b[0m\u001b[0;34m\u001b[0m\u001b[0m\n\u001b[0;32m----> 2\u001b[0;31m \u001b[0msel0\u001b[0m \u001b[0;34m=\u001b[0m \u001b[0msoup\u001b[0m\u001b[0;34m.\u001b[0m\u001b[0mfind\u001b[0m\u001b[0;34m(\u001b[0m\u001b[0;34m\"span\"\u001b[0m\u001b[0;34m,\u001b[0m \u001b[0mattrs\u001b[0m\u001b[0;34m=\u001b[0m\u001b[0;34m{\u001b[0m\u001b[0;34m\"class\"\u001b[0m\u001b[0;34m:\u001b[0m\u001b[0;34m\"SearchResult_Headline\"\u001b[0m\u001b[0;34m}\u001b[0m\u001b[0;34m)\u001b[0m\u001b[0;34m\u001b[0m\u001b[0;34m\u001b[0m\u001b[0m\n\u001b[0m\u001b[1;32m      3\u001b[0m \u001b[0;31m# Article's title\u001b[0m\u001b[0;34m\u001b[0m\u001b[0;34m\u001b[0m\u001b[0;34m\u001b[0m\u001b[0m\n\u001b[1;32m      4\u001b[0m \u001b[0;31m# class with \"digital\" or \"shimbun\"\u001b[0m\u001b[0;34m\u001b[0m\u001b[0;34m\u001b[0m\u001b[0;34m\u001b[0m\u001b[0m\n\u001b[1;32m      5\u001b[0m \u001b[0msel1\u001b[0m \u001b[0;34m=\u001b[0m \u001b[0msoup\u001b[0m\u001b[0;34m.\u001b[0m\u001b[0mfind_all\u001b[0m\u001b[0;34m(\u001b[0m\u001b[0;32mTrue\u001b[0m\u001b[0;34m,\u001b[0m \u001b[0mattrs\u001b[0m\u001b[0;34m=\u001b[0m\u001b[0;34m{\u001b[0m\u001b[0;34m\"class\"\u001b[0m\u001b[0;34m:\u001b[0m\u001b[0;34m[\u001b[0m\u001b[0;34m\"digital\"\u001b[0m\u001b[0;34m,\u001b[0m \u001b[0;34m\"shimbun\"\u001b[0m\u001b[0;34m]\u001b[0m\u001b[0;34m}\u001b[0m\u001b[0;34m)\u001b[0m\u001b[0;34m\u001b[0m\u001b[0;34m\u001b[0m\u001b[0m\n",
      "\u001b[0;31mNameError\u001b[0m: name 'soup' is not defined"
     ]
    }
   ],
   "source": [
    "# span = soup.find(\"span\", id=\"SearchResult_Headline\" )\n",
    "# sel0 = soup.find(\"span\", attrs={\"class\":\"SearchResult_Headline\"})\n",
    "# # Article's title\n",
    "# # class with \"digital\" or \"shimbun\"\n",
    "# sel1 = soup.find_all(True, attrs={\"class\":[\"digital\", \"shimbun\"]})\n",
    "# # Article datetime\n",
    "# sel2 = soup.find_all(\"span\",attrs={\"class\":\"Date\"})\n",
    "# print(sel0.text)"
   ]
  },
  {
   "cell_type": "code",
   "execution_count": 6,
   "metadata": {},
   "outputs": [
    {
     "ename": "NameError",
     "evalue": "name 'out_title' is not defined",
     "output_type": "error",
     "traceback": [
      "\u001b[0;31m---------------------------------------------------------------------------\u001b[0m",
      "\u001b[0;31mNameError\u001b[0m                                 Traceback (most recent call last)",
      "\u001b[0;32m<ipython-input-6-ce7b98b884ac>\u001b[0m in \u001b[0;36m<module>\u001b[0;34m\u001b[0m\n\u001b[1;32m      7\u001b[0m     \u001b[0mout_datetime\u001b[0m \u001b[0;34m=\u001b[0m \u001b[0mi\u001b[0m\u001b[0;34m.\u001b[0m\u001b[0mfind_all\u001b[0m\u001b[0;34m(\u001b[0m\u001b[0;34m\"span\"\u001b[0m\u001b[0;34m,\u001b[0m \u001b[0mattrs\u001b[0m\u001b[0;34m=\u001b[0m\u001b[0;34m{\u001b[0m\u001b[0;34m\"class\"\u001b[0m\u001b[0;34m:\u001b[0m\u001b[0;34m\"Date\"\u001b[0m\u001b[0;34m}\u001b[0m\u001b[0;34m)\u001b[0m\u001b[0;34m\u001b[0m\u001b[0;34m\u001b[0m\u001b[0m\n\u001b[1;32m      8\u001b[0m \u001b[0;34m\u001b[0m\u001b[0m\n\u001b[0;32m----> 9\u001b[0;31m     \u001b[0mout_title\u001b[0m\u001b[0;34m.\u001b[0m\u001b[0mappend\u001b[0m\u001b[0;34m(\u001b[0m\u001b[0mout_title_temp\u001b[0m\u001b[0;34m)\u001b[0m\u001b[0;34m\u001b[0m\u001b[0;34m\u001b[0m\u001b[0m\n\u001b[0m\u001b[1;32m     10\u001b[0m     \u001b[0mout_url\u001b[0m\u001b[0;34m.\u001b[0m\u001b[0mappend\u001b[0m\u001b[0;34m(\u001b[0m\u001b[0mout_url_temp\u001b[0m\u001b[0;34m)\u001b[0m\u001b[0;34m\u001b[0m\u001b[0;34m\u001b[0m\u001b[0m\n",
      "\u001b[0;31mNameError\u001b[0m: name 'out_title' is not defined"
     ]
    }
   ],
   "source": []
  },
  {
   "cell_type": "code",
   "execution_count": 57,
   "metadata": {},
   "outputs": [],
   "source": [
    "# CSV file output\n",
    "out_number = []\n",
    "out_url = []\n",
    "out_title = []\n",
    "out_datetime = []"
   ]
  },
  {
   "cell_type": "code",
   "execution_count": 58,
   "metadata": {},
   "outputs": [
    {
     "name": "stdout",
     "output_type": "stream",
     "text": [
      "ＮＥＷＳＦＬＡＳＨ\n",
      "米、現金追加給付を検討\n",
      "//mainichi.jp/articles/20200702/dde/007/030/017000c\n",
      "（2020年7月2日）\n",
      "トランプ氏、追加現金給付を検討　「民主党より大きな金額」\n",
      "//mainichi.jp/articles/20200702/k00/00m/030/024000c\n",
      "（2020年7月2日）\n",
      "新型コロナ　院内感染防止へ、補正予算２４６億円　県、きょう議会提案　／静岡\n",
      "//mainichi.jp/articles/20200701/ddl/k22/040/205000c\n",
      "（2020年7月1日）\n",
      "新型コロナ　診療設備の分散を　医療機関、第２波に備え　対策会議　／群馬\n",
      "//mainichi.jp/articles/20200630/ddl/k10/040/124000c\n",
      "（2020年6月30日）\n",
      "新型コロナ　立体花壇で「アリガトウ」　湘南鎌倉総合病院へ地元のＮＰＯなど感謝　／神奈川\n",
      "//mainichi.jp/articles/20200630/ddl/k14/040/049000c\n",
      "（2020年6月30日）\n",
      "探・新型コロナ\n",
      "\n",
      "\n",
      "\n",
      "院内感染「甘かった」　解熱剤服用され把握困難に、専門外兼務で苦情増　職員３割待機、富山の病院\n",
      "//mainichi.jp/articles/20200628/ddn/041/040/004000c\n",
      "（2020年6月28日）\n",
      "「院内ぐちゃぐちゃに」　職員3割一時不在、富山市民病院前院長が涙した理由\n",
      "//mainichi.jp/articles/20200627/k00/00m/040/088000c\n",
      "（2020年6月27日）\n",
      "新型コロナ　医科、歯科８５％外来数減　県保険医協会、４月の県内開業医アンケ　／佐賀\n",
      "//mainichi.jp/articles/20200627/ddl/k41/040/224000c\n",
      "（2020年6月27日）\n",
      "新型コロナ　宝塚市立病院、独自にＰＣＲ検査　９月から、緊急性高い患者対象　／兵庫\n",
      "//mainichi.jp/articles/20200625/ddl/k28/040/157000c\n",
      "（2020年6月25日）\n",
      "どうすれば安全安心\n",
      "\n",
      "\n",
      "\n",
      "通院欠かせぬ、慢性腎臓病患者　自身の体調把握が重要\n",
      "//mainichi.jp/articles/20200625/dde/012/040/014000c\n",
      "（2020年6月25日）\n",
      "新型コロナ　小樽でも「昼カラ」感染　９人確認、市がクラスター認定　／北海道\n",
      "//mainichi.jp/articles/20200625/ddl/k01/040/043000c\n",
      "（2020年6月25日）\n",
      "新型コロナ　「第２波」１カ月　医療、学校…生活に大きな影響　半数は感染経路不明　北九州市　／福岡\n",
      "//mainichi.jp/articles/20200624/ddl/k40/040/302000c\n",
      "（2020年6月24日）\n",
      "新型コロナ　無症状者の感染リスク警戒　日赤和歌山医療センター・感染症内科部長、古宮伸洋氏が振り返る　／和歌山\n",
      "//mainichi.jp/articles/20200624/ddl/k30/040/263000c\n",
      "（2020年6月24日）\n"
     ]
    }
   ],
   "source": [
    "soup = BeautifulSoup(target_url.content, \"html.parser\")\n",
    "\n",
    "# each article is stored in <li> tag\n",
    "for ultag in soup.find_all(\"ul\", attrs={\"class\":\"list-typeD\"}):\n",
    "    for li in ultag.find_all('li'):\n",
    "        # link to articles\n",
    "        link = li.find('a')\n",
    "\n",
    "        # text of 'a' tag\n",
    "        out_title_temp = link.text.strip()\n",
    "        print(link.text.strip())\n",
    "        out_title.append(out_title_temp)\n",
    "        \n",
    "        # URL of articles\n",
    "        out_url_temp = link['href']\n",
    "        print(link['href'])\n",
    "        out_url.append(out_url_temp)\n",
    "        \n",
    "        # dates of articles\n",
    "        out_datetime_temp = li.find(\"p\", attrs={\"class\":\"date\"}).text\n",
    "        out_datetime.append(li.find(\"p\", attrs={\"class\":\"date\"}).text)\n",
    "        print(out_datetime_temp)\n",
    "        \n",
    "        \n",
    "        "
   ]
  },
  {
   "cell_type": "code",
   "execution_count": 59,
   "metadata": {},
   "outputs": [],
   "source": [
    "# for i in range(0, len(sel1)):\n",
    "#     cnt = str(i+1)\n",
    "#     out_url_temp = sel1[i].a.get(\"href\")\n",
    "#     out_title_temp = sel1[i].text.strip()\n",
    "#     out_number.append(cnt)\n",
    "#     out_url.append(out_url_temp)\n",
    "#     out_title.append(out_title_temp)\n",
    "#     out_datetime.append(sel2[i].find('Date'))    "
   ]
  },
  {
   "cell_type": "code",
   "execution_count": 61,
   "metadata": {},
   "outputs": [],
   "source": [
    "# print(out_title)\n",
    "# Result output\n",
    "resdata = np.vstack([out_title, out_datetime, out_url])\n",
    "df = pd.DataFrame(data=resdata).T\n",
    "df.to_csv('result_mainichi.csv', header=False, index=False, mode='a')"
   ]
  },
  {
   "cell_type": "code",
   "execution_count": null,
   "metadata": {},
   "outputs": [],
   "source": [
    "driver.quit()"
   ]
  },
  {
   "cell_type": "code",
   "execution_count": null,
   "metadata": {},
   "outputs": [],
   "source": []
  }
 ],
 "metadata": {
  "kernelspec": {
   "display_name": "Python 3",
   "language": "python",
   "name": "python3"
  },
  "language_info": {
   "codemirror_mode": {
    "name": "ipython",
    "version": 3
   },
   "file_extension": ".py",
   "mimetype": "text/x-python",
   "name": "python",
   "nbconvert_exporter": "python",
   "pygments_lexer": "ipython3",
   "version": "3.7.6"
  }
 },
 "nbformat": 4,
 "nbformat_minor": 4
}
